{
 "cells": [
  {
   "cell_type": "markdown",
   "id": "51ec075b",
   "metadata": {},
   "source": [
    "# ITP Mini Project"
   ]
  },
  {
   "cell_type": "markdown",
   "id": "1a0565c9",
   "metadata": {},
   "source": [
    "## Courier Management System"
   ]
  },
  {
   "cell_type": "markdown",
   "id": "8f118c82",
   "metadata": {},
   "source": [
    "For a seamless eCommerce shopping experience, it is essential to deliver the product promptly to the customer. And that’s where a professional courier service plays a vital role. 'FastTrack' courier company stores the relevant data of its clients and parcels in the form of dictionary. Create a dictionary for storing shipment information in key-value pairs. Shipment id is used as a key and list of other attributes like sender, receiver, start date, Delivery Date, Sender_location, Receiver_location, Delivery status, Shipping cost is associated with shipment id. Use the data shown in the table below."
   ]
  },
  {
   "cell_type": "markdown",
   "id": "0ffe0562",
   "metadata": {},
   "source": [
    "#### Q1. Create a Dictionary of lists to store the information of shipments given in the table"
   ]
  },
  {
   "cell_type": "code",
   "execution_count": 1,
   "id": "5631f969",
   "metadata": {
    "execution": {
     "iopub.execute_input": "2022-07-30T13:31:59.380205Z",
     "iopub.status.busy": "2022-07-30T13:31:59.379574Z",
     "iopub.status.idle": "2022-07-30T13:31:59.402589Z",
     "shell.execute_reply": "2022-07-30T13:31:59.401927Z",
     "shell.execute_reply.started": "2022-07-30T13:31:59.380075Z"
    }
   },
   "outputs": [
    {
     "data": {
      "text/plain": [
       "{101: [1, 3, '14-03-2020', '25-03-2020', 'Area1', 'Area6', 'Delivered', 198],\n",
       " 102: [4, 1, '18-06-2020', '09-07-2020', 'Area2', 'Area1', 'Delivered', 275],\n",
       " 103: [2, 3, '01-12-2020', 'Null', 'Area5', 'Area1', 'In-Transit', 200],\n",
       " 104: [1, 5, '23-06-2020', '25-06-2020', 'Area1', 'Area4', 'Delivered', 314],\n",
       " 105: [3, 4, '29-08-2020', '10-09-2020', 'Area5', 'Area3', 'Delivered', 275],\n",
       " 106: [5, 2, '28-06-2020', 'Null', 'Area3', 'Area1', 'In-Transit', 270]}"
      ]
     },
     "execution_count": 1,
     "metadata": {},
     "output_type": "execute_result"
    }
   ],
   "source": [
    "# Creating a dictionary with each key as the Shipment ID.\n",
    "\n",
    "shipments = {101 : [1,3,'14-03-2020','25-03-2020','Area1','Area6','Delivered',198], 102:[4,1,'18-06-2020','09-07-2020','Area2','Area1','Delivered',275], 103: [2,3,'01-12-2020','Null','Area5','Area1','In-Transit',200], 104: [1,5,'23-06-2020','25-06-2020','Area1','Area4',\n",
    "'Delivered',314], 105: [3,4,'29-08-2020','10-09-2020','Area5','Area3','Delivered',275], 106: [5,2,'28-06-2020','Null','Area3','Area1','In-Transit',270]}\n",
    "shipments"
   ]
  },
  {
   "cell_type": "markdown",
   "id": "6a5a529d",
   "metadata": {},
   "source": [
    "#### Q2. Create a Dictionary of to store the information of clients given in the table."
   ]
  },
  {
   "cell_type": "code",
   "execution_count": 2,
   "id": "aee6f627",
   "metadata": {
    "execution": {
     "iopub.execute_input": "2022-07-30T13:32:00.288608Z",
     "iopub.status.busy": "2022-07-30T13:32:00.288043Z",
     "iopub.status.idle": "2022-07-30T13:32:00.301327Z",
     "shell.execute_reply": "2022-07-30T13:32:00.300397Z",
     "shell.execute_reply.started": "2022-07-30T13:32:00.288577Z"
    }
   },
   "outputs": [
    {
     "data": {
      "text/plain": [
       "{1: 'Phillip', 2: 'Omega III', 3: 'Ramya', 4: 'Romesh', 5: 'John'}"
      ]
     },
     "execution_count": 2,
     "metadata": {},
     "output_type": "execute_result"
    }
   ],
   "source": [
    "# Creating a dictionary with each key as the Client ID. \n",
    "\n",
    "clients = {1 :'Phillip', 2:'Omega III', 3:'Ramya', 4:'Romesh', 5:'John'}\n",
    "clients"
   ]
  },
  {
   "cell_type": "markdown",
   "id": "ee9331bd",
   "metadata": {},
   "source": [
    "#### Q3. Write a code to replace client’s id with their respective name in shipment dictionary using a loop and dictionary comprehension"
   ]
  },
  {
   "cell_type": "code",
   "execution_count": 3,
   "id": "29b8ae2f",
   "metadata": {
    "execution": {
     "iopub.execute_input": "2022-07-30T13:32:01.159028Z",
     "iopub.status.busy": "2022-07-30T13:32:01.158522Z",
     "iopub.status.idle": "2022-07-30T13:32:01.168297Z",
     "shell.execute_reply": "2022-07-30T13:32:01.167525Z",
     "shell.execute_reply.started": "2022-07-30T13:32:01.158997Z"
    }
   },
   "outputs": [],
   "source": [
    "# Logic to replace the values without dictionary comprehension\n",
    "# for i in range(101,107):\n",
    "#     shipments[i][0] = clients[shipments[i][0]]\n",
    "#     shipments[i][1] = clients[shipments[i][1]]\n",
    "# print(shipments)\n",
    "\n",
    "# Creating a new dictionary, shipments_names which contains the names for each of the Client ID. \n",
    "\n",
    "shipments_names = {i:[clients[shipments[i][0]],clients[shipments[i][1]],shipments[i][2],shipments[i][3],shipments[i][4],shipments[i][5],shipments[i][6]] for i in shipments}"
   ]
  },
  {
   "cell_type": "code",
   "execution_count": 4,
   "id": "4ecf513b",
   "metadata": {
    "execution": {
     "iopub.execute_input": "2022-07-30T13:32:01.511648Z",
     "iopub.status.busy": "2022-07-30T13:32:01.511162Z",
     "iopub.status.idle": "2022-07-30T13:32:01.525966Z",
     "shell.execute_reply": "2022-07-30T13:32:01.525017Z",
     "shell.execute_reply.started": "2022-07-30T13:32:01.511619Z"
    }
   },
   "outputs": [
    {
     "data": {
      "text/plain": [
       "{101: ['Phillip',\n",
       "  'Ramya',\n",
       "  '14-03-2020',\n",
       "  '25-03-2020',\n",
       "  'Area1',\n",
       "  'Area6',\n",
       "  'Delivered'],\n",
       " 102: ['Romesh',\n",
       "  'Phillip',\n",
       "  '18-06-2020',\n",
       "  '09-07-2020',\n",
       "  'Area2',\n",
       "  'Area1',\n",
       "  'Delivered'],\n",
       " 103: ['Omega III',\n",
       "  'Ramya',\n",
       "  '01-12-2020',\n",
       "  'Null',\n",
       "  'Area5',\n",
       "  'Area1',\n",
       "  'In-Transit'],\n",
       " 104: ['Phillip',\n",
       "  'John',\n",
       "  '23-06-2020',\n",
       "  '25-06-2020',\n",
       "  'Area1',\n",
       "  'Area4',\n",
       "  'Delivered'],\n",
       " 105: ['Ramya',\n",
       "  'Romesh',\n",
       "  '29-08-2020',\n",
       "  '10-09-2020',\n",
       "  'Area5',\n",
       "  'Area3',\n",
       "  'Delivered'],\n",
       " 106: ['John',\n",
       "  'Omega III',\n",
       "  '28-06-2020',\n",
       "  'Null',\n",
       "  'Area3',\n",
       "  'Area1',\n",
       "  'In-Transit']}"
      ]
     },
     "execution_count": 4,
     "metadata": {},
     "output_type": "execute_result"
    }
   ],
   "source": [
    "# Verify our dictionary, shipments_names.\n",
    "\n",
    "shipments_names"
   ]
  },
  {
   "cell_type": "markdown",
   "id": "7b2b20fe",
   "metadata": {},
   "source": [
    "#### Q4. Print all shipment details that are sent by Phillip"
   ]
  },
  {
   "cell_type": "code",
   "execution_count": 5,
   "id": "ad59506c",
   "metadata": {
    "execution": {
     "iopub.execute_input": "2022-07-30T13:32:02.419589Z",
     "iopub.status.busy": "2022-07-30T13:32:02.419067Z",
     "iopub.status.idle": "2022-07-30T13:32:02.434696Z",
     "shell.execute_reply": "2022-07-30T13:32:02.429151Z",
     "shell.execute_reply.started": "2022-07-30T13:32:02.419556Z"
    }
   },
   "outputs": [
    {
     "name": "stdout",
     "output_type": "stream",
     "text": [
      "['Phillip', 'Ramya', '14-03-2020', '25-03-2020', 'Area1', 'Area6', 'Delivered']\n",
      "['Phillip', 'John', '23-06-2020', '25-06-2020', 'Area1', 'Area4', 'Delivered']\n"
     ]
    }
   ],
   "source": [
    "# For loop to iterate all the keys of the shipments_names dictionary \n",
    "# and returning the shipment details when the sender is Phillip.\n",
    "\n",
    "for i in range(101, 107):\n",
    "        if shipments_names[i][0] == 'Phillip':\n",
    "          print(shipments_names[i])"
   ]
  },
  {
   "cell_type": "markdown",
   "id": "b1d9a313",
   "metadata": {},
   "source": [
    "#### Q5. Print all shipment details that are received by Ramya"
   ]
  },
  {
   "cell_type": "code",
   "execution_count": 6,
   "id": "9cf101ac",
   "metadata": {
    "execution": {
     "iopub.execute_input": "2022-07-30T13:32:03.097066Z",
     "iopub.status.busy": "2022-07-30T13:32:03.096233Z",
     "iopub.status.idle": "2022-07-30T13:32:03.105195Z",
     "shell.execute_reply": "2022-07-30T13:32:03.104629Z",
     "shell.execute_reply.started": "2022-07-30T13:32:03.097031Z"
    }
   },
   "outputs": [
    {
     "name": "stdout",
     "output_type": "stream",
     "text": [
      "['Phillip', 'Ramya', '14-03-2020', '25-03-2020', 'Area1', 'Area6', 'Delivered']\n",
      "['Omega III', 'Ramya', '01-12-2020', 'Null', 'Area5', 'Area1', 'In-Transit']\n"
     ]
    }
   ],
   "source": [
    "# For loop to iterate all the keys of the shipments_names dictionary \n",
    "# and returning the shipment details when the receiver is Ramya.\n",
    "\n",
    "for i in range(101, 107):\n",
    "        if shipments_names[i][1] == 'Ramya':\n",
    "          print(shipments_names[i])"
   ]
  },
  {
   "cell_type": "markdown",
   "id": "d55f9c49",
   "metadata": {},
   "source": [
    "#### Q6. Print all shipments which are in 'In-Transit' status"
   ]
  },
  {
   "cell_type": "code",
   "execution_count": 7,
   "id": "1590312b",
   "metadata": {
    "execution": {
     "iopub.execute_input": "2022-07-30T13:32:03.813265Z",
     "iopub.status.busy": "2022-07-30T13:32:03.812647Z",
     "iopub.status.idle": "2022-07-30T13:32:03.821780Z",
     "shell.execute_reply": "2022-07-30T13:32:03.820896Z",
     "shell.execute_reply.started": "2022-07-30T13:32:03.813227Z"
    }
   },
   "outputs": [
    {
     "name": "stdout",
     "output_type": "stream",
     "text": [
      "['Omega III', 'Ramya', '01-12-2020', 'Null', 'Area5', 'Area1', 'In-Transit']\n",
      "['John', 'Omega III', '28-06-2020', 'Null', 'Area3', 'Area1', 'In-Transit']\n"
     ]
    }
   ],
   "source": [
    "# For loop to iterate all the keys of the shipments_names dictionary \n",
    "# and returning the shipment details when the status is 'In-Transit'. \n",
    "\n",
    "for i in range(101, 107):\n",
    "        if shipments_names[i][6] == 'In-Transit':\n",
    "          print(shipments_names[i])"
   ]
  },
  {
   "cell_type": "markdown",
   "id": "24c17564",
   "metadata": {},
   "source": [
    "#### Q7. Print all shipments which are delivered within 7 days of courier Start date"
   ]
  },
  {
   "cell_type": "code",
   "execution_count": 8,
   "id": "efddc9b4",
   "metadata": {
    "execution": {
     "iopub.execute_input": "2022-07-30T13:32:04.562189Z",
     "iopub.status.busy": "2022-07-30T13:32:04.561683Z",
     "iopub.status.idle": "2022-07-30T13:32:04.571528Z",
     "shell.execute_reply": "2022-07-30T13:32:04.570185Z",
     "shell.execute_reply.started": "2022-07-30T13:32:04.562159Z"
    }
   },
   "outputs": [],
   "source": [
    "# Checking the functionality of datetime\n",
    "\n",
    "# from datetime import datetime\n",
    "# def days_between(d1, d2):\n",
    "#     d1 = datetime.strptime(d1, \"%d-%m-%Y\")\n",
    "#     d2 = datetime.strptime(d2, \"%d-%m-%Y\")\n",
    "#     return abs((d2 - d1).days)"
   ]
  },
  {
   "cell_type": "code",
   "execution_count": 9,
   "id": "be4bd24f",
   "metadata": {
    "execution": {
     "iopub.execute_input": "2022-07-30T13:32:04.840485Z",
     "iopub.status.busy": "2022-07-30T13:32:04.840016Z",
     "iopub.status.idle": "2022-07-30T13:32:04.845587Z",
     "shell.execute_reply": "2022-07-30T13:32:04.845042Z",
     "shell.execute_reply.started": "2022-07-30T13:32:04.840462Z"
    }
   },
   "outputs": [],
   "source": [
    "# Verifying the function works with sample dates from \n",
    "# the dictionary \n",
    "# days_between('25-03-2020', '14-03-2020')"
   ]
  },
  {
   "cell_type": "code",
   "execution_count": 10,
   "id": "7d192f36",
   "metadata": {
    "execution": {
     "iopub.execute_input": "2022-07-30T13:32:05.146292Z",
     "iopub.status.busy": "2022-07-30T13:32:05.145939Z",
     "iopub.status.idle": "2022-07-30T13:32:05.159206Z",
     "shell.execute_reply": "2022-07-30T13:32:05.155541Z",
     "shell.execute_reply.started": "2022-07-30T13:32:05.146268Z"
    }
   },
   "outputs": [
    {
     "name": "stdout",
     "output_type": "stream",
     "text": [
      "['Phillip', 'John', '23-06-2020', '25-06-2020', 'Area1', 'Area4', 'Delivered']\n"
     ]
    }
   ],
   "source": [
    "# Calculates delivery_time by subtracting the datetime.strptime of \n",
    "# each date and returning when the value is less than or equal to 7.\n",
    "# If the value of any date is Null, do nothing and continue the loop. \n",
    "\n",
    "from datetime import datetime\n",
    "for i in range(101, 107):\n",
    "    if shipments_names[i][2] == 'Null' or shipments_names[i][3] == 'Null':\n",
    "        continue\n",
    "    a = shipments_names[i][2]\n",
    "    b = shipments_names[i][3]\n",
    "    \n",
    "    d1 = datetime.strptime(a, \"%d-%m-%Y\")\n",
    "    d2 = datetime.strptime(b, \"%d-%m-%Y\")\n",
    "    delivery_time = abs((d2 - d1).days)\n",
    "    if delivery_time <= 7:\n",
    "        print(shipments_names[i])"
   ]
  },
  {
   "cell_type": "markdown",
   "id": "044a9a2f",
   "metadata": {},
   "source": [
    "#### Q8. Print all shipments which are delivered after 15 days of courier start date or not yet been delivered."
   ]
  },
  {
   "cell_type": "code",
   "execution_count": 11,
   "id": "204d898e",
   "metadata": {
    "execution": {
     "iopub.execute_input": "2022-07-30T13:32:05.821723Z",
     "iopub.status.busy": "2022-07-30T13:32:05.821210Z",
     "iopub.status.idle": "2022-07-30T13:32:05.832296Z",
     "shell.execute_reply": "2022-07-30T13:32:05.831397Z",
     "shell.execute_reply.started": "2022-07-30T13:32:05.821689Z"
    }
   },
   "outputs": [
    {
     "name": "stdout",
     "output_type": "stream",
     "text": [
      "['Romesh', 'Phillip', '18-06-2020', '09-07-2020', 'Area2', 'Area1', 'Delivered']\n",
      "['Omega III', 'Ramya', '01-12-2020', 'Null', 'Area5', 'Area1', 'In-Transit']\n",
      "['John', 'Omega III', '28-06-2020', 'Null', 'Area3', 'Area1', 'In-Transit']\n"
     ]
    }
   ],
   "source": [
    "# Calculates delivery_time by subtracting the datetime.strptime of \n",
    "# each date and returning when the value is more than or equal to 15.\n",
    "# If the value of any date is Null, return that shipment detail.  \n",
    "\n",
    "from datetime import datetime\n",
    "for i in range(101, 107):\n",
    "    if shipments_names[i][2] == 'Null' or shipments_names[i][3] == 'Null':\n",
    "        print(shipments_names[i])\n",
    "    else:\n",
    "        a = shipments_names[i][2]\n",
    "        b = shipments_names[i][3]\n",
    "        d1 = datetime.strptime(a, \"%d-%m-%Y\")\n",
    "        d2 = datetime.strptime(b, \"%d-%m-%Y\")\n",
    "        delivery_time = abs((d2 - d1).days)\n",
    "        \n",
    "        if delivery_time >= 15:\n",
    "            print(shipments_names[i])"
   ]
  },
  {
   "cell_type": "markdown",
   "id": "7dc09bfb",
   "metadata": {},
   "source": [
    "#### Q9. Write a function find_all_routes to display all possible routes from senders location to receivers location given in the dictionary for each shipment.¶"
   ]
  },
  {
   "cell_type": "code",
   "execution_count": 12,
   "id": "bc81ed38",
   "metadata": {
    "execution": {
     "iopub.execute_input": "2022-07-30T13:32:06.651682Z",
     "iopub.status.busy": "2022-07-30T13:32:06.651079Z",
     "iopub.status.idle": "2022-07-30T13:32:06.670665Z",
     "shell.execute_reply": "2022-07-30T13:32:06.670234Z",
     "shell.execute_reply.started": "2022-07-30T13:32:06.651648Z"
    }
   },
   "outputs": [],
   "source": [
    "# First define a function that returns all possible routes between 2 nodes. \n",
    "# First part of the function involves recursion, that calls itself unless the vertex has been \n",
    "# visited before, or the current is same as destination. \n",
    "# Next part of the code is to apply this function for each of the shipments.\n",
    "\n",
    "def find_all_routes(matrix,u,d,visited,path):     \n",
    "        \n",
    "        # If a particular node has been visited, mark it as 'visited' and store it in the path\n",
    "        visited[u]= True\n",
    "        path.append(u + 1) \n",
    "        \n",
    "        # While iterating over the vertices, if the current is same as the destination, \n",
    "        # return the current path\n",
    "\n",
    "        if u == d: \n",
    "            print(path)\n",
    "        \n",
    "        else: \n",
    "            \n",
    "            # Above part of code is if the current vertex is the destination\n",
    "            # Else condition means this code is executed if the current vertex is NOT the destination\n",
    "            # Function calls itself as long as the node is not marked as 'visited'\n",
    "            \n",
    "            for i in range(6):\n",
    "                if matrix[u][i] == 1 and (visited[i] == False): \n",
    "                    find_all_routes(matrix,i, d, visited, path)                              \n",
    "       \n",
    "        # Remove current vertex from path[] and mark it as unvisited\n",
    "        \n",
    "        path.pop() \n",
    "        visited[u]= False\n",
    "   \n",
    "   \n",
    "# Define the matrix as per the question \n",
    "\n",
    "matrix = [[0,1,0,0,0,1],[1,0,1,1,0,0],[0,1,0,1,0,0],[0,1,1,0,1,0],[0,0,0,1,0,0],[1,0,0,0,0,0]]\n",
    "\n",
    "# Initialize the visited marker for each node as False, which turns to True if a node is visited. \n",
    "\n",
    "visited=[False for i in range(6)]\n",
    "\n",
    "# Initialize the path as an empty list \n",
    "\n",
    "path = []"
   ]
  },
  {
   "cell_type": "code",
   "execution_count": 13,
   "id": "59080b1d",
   "metadata": {
    "execution": {
     "iopub.execute_input": "2022-07-30T13:32:06.726870Z",
     "iopub.status.busy": "2022-07-30T13:32:06.726362Z",
     "iopub.status.idle": "2022-07-30T13:32:06.737151Z",
     "shell.execute_reply": "2022-07-30T13:32:06.736572Z",
     "shell.execute_reply.started": "2022-07-30T13:32:06.726847Z"
    }
   },
   "outputs": [
    {
     "name": "stdout",
     "output_type": "stream",
     "text": [
      "Shipment id: 101\n",
      "Sender: 1\n",
      "Receiver: 6\n",
      "All possible ways:\n",
      "[1, 6]\n",
      "\n",
      "\n",
      "Shipment id: 102\n",
      "Sender: 2\n",
      "Receiver: 1\n",
      "All possible ways:\n",
      "[2, 1]\n",
      "\n",
      "\n",
      "Shipment id: 103\n",
      "Sender: 5\n",
      "Receiver: 1\n",
      "All possible ways:\n",
      "[5, 4, 2, 1]\n",
      "[5, 4, 3, 2, 1]\n",
      "\n",
      "\n",
      "Shipment id: 104\n",
      "Sender: 1\n",
      "Receiver: 4\n",
      "All possible ways:\n",
      "[1, 2, 3, 4]\n",
      "[1, 2, 4]\n",
      "\n",
      "\n",
      "Shipment id: 105\n",
      "Sender: 5\n",
      "Receiver: 3\n",
      "All possible ways:\n",
      "[5, 4, 2, 3]\n",
      "[5, 4, 3]\n",
      "\n",
      "\n",
      "Shipment id: 106\n",
      "Sender: 3\n",
      "Receiver: 1\n",
      "All possible ways:\n",
      "[3, 2, 1]\n",
      "[3, 4, 2, 1]\n",
      "\n",
      "\n"
     ]
    }
   ],
   "source": [
    "# This function is to apply the above function, to the dictionary \n",
    "# Loop this function that shows all possible paths through each shipment id as key \n",
    "# shipments, and not shipments_names is used since we need the sender and receiver as Client ID and not names. \n",
    "\n",
    "def show_all_shipments(shipments):\n",
    "    \n",
    "    for i in shipments:\n",
    "        \n",
    "        print('Shipment id:',i)\n",
    "        \n",
    "        sender = int(shipments[i][4][-1])\n",
    "        print(\"Sender:\", sender)\n",
    "        \n",
    "        receiver = int(shipments[i][5][-1])\n",
    "        print(\"Receiver:\", receiver)\n",
    "        \n",
    "        print('All possible ways:')\n",
    "        find_all_routes(matrix, sender - 1, receiver - 1, visited, path)\n",
    "        \n",
    "        print('\\n')\n",
    "        \n",
    "show_all_shipments(shipments)"
   ]
  },
  {
   "cell_type": "code",
   "execution_count": null,
   "id": "cc785775",
   "metadata": {},
   "outputs": [],
   "source": []
  },
  {
   "cell_type": "code",
   "execution_count": null,
   "id": "2af1ffb0-898c-40a1-8071-db876db3e094",
   "metadata": {},
   "outputs": [],
   "source": []
  }
 ],
 "metadata": {
  "kernelspec": {
   "display_name": "Python 3 (ipykernel)",
   "language": "python",
   "name": "python3"
  },
  "language_info": {
   "codemirror_mode": {
    "name": "ipython",
    "version": 3
   },
   "file_extension": ".py",
   "mimetype": "text/x-python",
   "name": "python",
   "nbconvert_exporter": "python",
   "pygments_lexer": "ipython3",
   "version": "3.10.3"
  }
 },
 "nbformat": 4,
 "nbformat_minor": 5
}
