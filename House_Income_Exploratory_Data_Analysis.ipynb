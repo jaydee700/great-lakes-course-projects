{
 "cells": [
  {
   "cell_type": "markdown",
   "metadata": {},
   "source": [
    "<h1 class=\"list-group-item list-group-item-action active\" data-toggle=\"list\"  role=\"tab\" aria-controls=\"home\">Exploratory Data Analysis Mini Project </h1>\n",
    "     \n"
   ]
  },
  {
   "cell_type": "markdown",
   "metadata": {},
   "source": [
    "<h4 class=\"list-group-item list-group-item-action active\" >1. DESCRIPTIVE STATISTICS</h4>\n",
    "\n",
    ">#### 1. Create a dataframe using below data and answer the below questions:\n",
    "\n",
    "        Hourly_Income = [1000,2009,24418,444478,324235,243242,3434234,7567457,9235,238237,1312,3412]\n",
    "        Hourly_Expense =  [651361,217371,2746,2356,13436,5732,346346,3463,1132,23534,242235,235235]\n",
    "        family_members_count = [3,4,2,3,1,4,5,6,3,6,3,5]\n",
    "        House_rent = [1299,2300,3411,3422,4566,4211,4600,736,672,0,734,2374]\n",
    "        Highest_income_Member = [\"Olivia\",\"George\",\"Isla\",\"Harry\",\"Ava\",\"Noah\",\"Sophia\",\"Jacobi\",\"Freddie\",\"Ella\",\"Grace\",\"Ella\"]\n",
    "        \n",
    "        \n",
    ">##### A. Display the five point summary of the data. \n",
    ">##### B. What is the mean of the hourly expense?\n",
    ">##### C. What is the median of the hourly expense?\n",
    ">##### D. Find the family member with maximum income and using a suitable graph.\n",
    ">##### E. Calculate IQR(the difference between 75% and 25% quartile) for `Hourly_Income` and `Hourly_Expense`.\n",
    ">##### F. Calculate the standard deviation for first 2 columns.\n",
    ">##### G. Calculate variance for the first 4 columns"
   ]
  },
  {
   "cell_type": "code",
   "execution_count": 1,
   "metadata": {
    "execution": {
     "iopub.execute_input": "2022-07-30T13:31:17.914671Z",
     "iopub.status.busy": "2022-07-30T13:31:17.914327Z",
     "iopub.status.idle": "2022-07-30T13:31:18.615453Z",
     "shell.execute_reply": "2022-07-30T13:31:18.615217Z",
     "shell.execute_reply.started": "2022-07-30T13:31:17.914597Z"
    },
    "tags": []
   },
   "outputs": [],
   "source": [
    "import numpy as np \n",
    "import pandas as pd\n",
    "import matplotlib.pyplot as plt\n",
    "import seaborn as sns"
   ]
  },
  {
   "cell_type": "code",
   "execution_count": 2,
   "metadata": {
    "execution": {
     "iopub.execute_input": "2022-07-30T13:31:18.616133Z",
     "iopub.status.busy": "2022-07-30T13:31:18.616076Z",
     "iopub.status.idle": "2022-07-30T13:31:18.618448Z",
     "shell.execute_reply": "2022-07-30T13:31:18.618174Z",
     "shell.execute_reply.started": "2022-07-30T13:31:18.616124Z"
    },
    "tags": []
   },
   "outputs": [],
   "source": [
    "Hourly_Income = [1000,2009,24418,444478,324235,243242,3434234,7567457,9235,238237,1312,3412]\n",
    "Hourly_Expense =  [651361,217371,2746,2356,13436,5732,346346,3463,1132,23534,242235,235235]\n",
    "family_members_count = [3,4,2,3,1,4,5,6,3,6,3,5]\n",
    "House_rent = [1299,2300,3411,3422,4566,4211,4600,736,672,0,734,2374]\n",
    "Highest_income_Member = [\"Olivia\",\"George\",\"Isla\",\"Harry\",\"Ava\",\"Noah\",\"Sophia\",\"Jacobi\",\"Freddie\",\"Ella\",\"Grace\",\"Ella\"]"
   ]
  },
  {
   "cell_type": "code",
   "execution_count": 3,
   "metadata": {
    "execution": {
     "iopub.execute_input": "2022-07-30T13:31:19.087138Z",
     "iopub.status.busy": "2022-07-30T13:31:19.086817Z",
     "iopub.status.idle": "2022-07-30T13:31:19.095951Z",
     "shell.execute_reply": "2022-07-30T13:31:19.095171Z",
     "shell.execute_reply.started": "2022-07-30T13:31:19.087114Z"
    },
    "tags": []
   },
   "outputs": [],
   "source": [
    "d = {'Hourly_Income' : [1000,2009,24418,444478,324235,243242,3434234,7567457,9235,238237,1312,3412], \n",
    "    'Hourly_Expense' :  [651361,217371,2746,2356,13436,5732,346346,3463,1132,23534,242235,235235],\n",
    "    'family_members_count' : [3,4,2,3,1,4,5,6,3,6,3,5],\n",
    "    'House_rent' : [1299,2300,3411,3422,4566,4211,4600,736,672,0,734,2374],\n",
    "    'Highest_income_Member' : [\"Olivia\",\"George\",\"Isla\",\"Harry\",\"Ava\",\"Noah\",\"Sophia\",\"Jacobi\",\"Freddie\",\"Ella\",\"Grace\",\"Ella\"]}"
   ]
  },
  {
   "cell_type": "code",
   "execution_count": 4,
   "metadata": {
    "execution": {
     "iopub.execute_input": "2022-07-30T13:31:19.608996Z",
     "iopub.status.busy": "2022-07-30T13:31:19.608465Z",
     "iopub.status.idle": "2022-07-30T13:31:19.620004Z",
     "shell.execute_reply": "2022-07-30T13:31:19.617307Z",
     "shell.execute_reply.started": "2022-07-30T13:31:19.608964Z"
    },
    "tags": []
   },
   "outputs": [],
   "source": [
    "df = pd.DataFrame(d)"
   ]
  },
  {
   "cell_type": "code",
   "execution_count": 5,
   "metadata": {
    "execution": {
     "iopub.execute_input": "2022-07-30T13:31:20.227197Z",
     "iopub.status.busy": "2022-07-30T13:31:20.226668Z",
     "iopub.status.idle": "2022-07-30T13:31:20.244689Z",
     "shell.execute_reply": "2022-07-30T13:31:20.244364Z",
     "shell.execute_reply.started": "2022-07-30T13:31:20.227160Z"
    },
    "tags": []
   },
   "outputs": [
    {
     "data": {
      "text/html": [
       "<div>\n",
       "<style scoped>\n",
       "    .dataframe tbody tr th:only-of-type {\n",
       "        vertical-align: middle;\n",
       "    }\n",
       "\n",
       "    .dataframe tbody tr th {\n",
       "        vertical-align: top;\n",
       "    }\n",
       "\n",
       "    .dataframe thead th {\n",
       "        text-align: right;\n",
       "    }\n",
       "</style>\n",
       "<table border=\"1\" class=\"dataframe\">\n",
       "  <thead>\n",
       "    <tr style=\"text-align: right;\">\n",
       "      <th></th>\n",
       "      <th>Hourly_Income</th>\n",
       "      <th>Hourly_Expense</th>\n",
       "      <th>family_members_count</th>\n",
       "      <th>House_rent</th>\n",
       "      <th>Highest_income_Member</th>\n",
       "    </tr>\n",
       "  </thead>\n",
       "  <tbody>\n",
       "    <tr>\n",
       "      <th>0</th>\n",
       "      <td>1000</td>\n",
       "      <td>651361</td>\n",
       "      <td>3</td>\n",
       "      <td>1299</td>\n",
       "      <td>Olivia</td>\n",
       "    </tr>\n",
       "    <tr>\n",
       "      <th>1</th>\n",
       "      <td>2009</td>\n",
       "      <td>217371</td>\n",
       "      <td>4</td>\n",
       "      <td>2300</td>\n",
       "      <td>George</td>\n",
       "    </tr>\n",
       "    <tr>\n",
       "      <th>2</th>\n",
       "      <td>24418</td>\n",
       "      <td>2746</td>\n",
       "      <td>2</td>\n",
       "      <td>3411</td>\n",
       "      <td>Isla</td>\n",
       "    </tr>\n",
       "    <tr>\n",
       "      <th>3</th>\n",
       "      <td>444478</td>\n",
       "      <td>2356</td>\n",
       "      <td>3</td>\n",
       "      <td>3422</td>\n",
       "      <td>Harry</td>\n",
       "    </tr>\n",
       "    <tr>\n",
       "      <th>4</th>\n",
       "      <td>324235</td>\n",
       "      <td>13436</td>\n",
       "      <td>1</td>\n",
       "      <td>4566</td>\n",
       "      <td>Ava</td>\n",
       "    </tr>\n",
       "  </tbody>\n",
       "</table>\n",
       "</div>"
      ],
      "text/plain": [
       "   Hourly_Income  Hourly_Expense  family_members_count  House_rent  \\\n",
       "0           1000          651361                     3        1299   \n",
       "1           2009          217371                     4        2300   \n",
       "2          24418            2746                     2        3411   \n",
       "3         444478            2356                     3        3422   \n",
       "4         324235           13436                     1        4566   \n",
       "\n",
       "  Highest_income_Member  \n",
       "0                Olivia  \n",
       "1                George  \n",
       "2                  Isla  \n",
       "3                 Harry  \n",
       "4                   Ava  "
      ]
     },
     "execution_count": 5,
     "metadata": {},
     "output_type": "execute_result"
    }
   ],
   "source": [
    "df.head()"
   ]
  },
  {
   "cell_type": "markdown",
   "metadata": {},
   "source": [
    "<h4 class=\"list-group-item list-group-item-action active\" >2. Preliminary Wrangling,</h4>\n",
    "\n",
    ">### Dataset Information: \n",
    "\n",
    "Dataset recording people to invest in each other in a way that is financially and socially rewarding. On loans, borrowers list loan requests between $ 2,000 and $ 35,000 and individual investors invest as little as $ 25 in each loan listing they select. Prosper handles the servicing of the loan on behalf of the matched borrowers and investors.\n",
    "\n",
    "\n",
    "\n",
    "\n",
    ">#### A. Read the dataset called Pri-Load.csv\n",
    ">#### B.  Check the data type and adjust datatype for all other categorical columns.\n",
    ">#### C. If you find any of the missing values in the ProsperRating column, then drop it.\n",
    "\n"
   ]
  },
  {
   "cell_type": "code",
   "execution_count": 6,
   "metadata": {
    "execution": {
     "iopub.execute_input": "2022-07-30T13:31:21.299680Z",
     "iopub.status.busy": "2022-07-30T13:31:21.299062Z",
     "iopub.status.idle": "2022-07-30T13:31:21.319885Z",
     "shell.execute_reply": "2022-07-30T13:31:21.319025Z",
     "shell.execute_reply.started": "2022-07-30T13:31:21.299645Z"
    },
    "tags": []
   },
   "outputs": [],
   "source": [
    "# A. Read the dataset\n",
    "df = pd.read_csv('Pri-Load.csv')"
   ]
  },
  {
   "cell_type": "code",
   "execution_count": 7,
   "metadata": {
    "execution": {
     "iopub.execute_input": "2022-07-30T13:31:21.780413Z",
     "iopub.status.busy": "2022-07-30T13:31:21.779899Z",
     "iopub.status.idle": "2022-07-30T13:31:21.811255Z",
     "shell.execute_reply": "2022-07-30T13:31:21.810662Z",
     "shell.execute_reply.started": "2022-07-30T13:31:21.780383Z"
    }
   },
   "outputs": [
    {
     "data": {
      "text/html": [
       "<div>\n",
       "<style scoped>\n",
       "    .dataframe tbody tr th:only-of-type {\n",
       "        vertical-align: middle;\n",
       "    }\n",
       "\n",
       "    .dataframe tbody tr th {\n",
       "        vertical-align: top;\n",
       "    }\n",
       "\n",
       "    .dataframe thead th {\n",
       "        text-align: right;\n",
       "    }\n",
       "</style>\n",
       "<table border=\"1\" class=\"dataframe\">\n",
       "  <thead>\n",
       "    <tr style=\"text-align: right;\">\n",
       "      <th></th>\n",
       "      <th>ListingCreationDate</th>\n",
       "      <th>Term</th>\n",
       "      <th>LoanStatus</th>\n",
       "      <th>ClosedDate</th>\n",
       "      <th>BorrowerAPR</th>\n",
       "      <th>BorrowerRate</th>\n",
       "      <th>LenderYield</th>\n",
       "      <th>ProsperRating (Alpha)</th>\n",
       "      <th>ProsperScore</th>\n",
       "      <th>ListingCategory (numeric)</th>\n",
       "      <th>...</th>\n",
       "      <th>EmploymentStatus</th>\n",
       "      <th>AmountDelinquent</th>\n",
       "      <th>StatedMonthlyIncome</th>\n",
       "      <th>LoanCurrentDaysDelinquent</th>\n",
       "      <th>LoanOriginalAmount</th>\n",
       "      <th>LoanOriginationDate</th>\n",
       "      <th>LoanOriginationQuarter</th>\n",
       "      <th>MonthlyLoanPayment</th>\n",
       "      <th>LP_InterestandFees</th>\n",
       "      <th>Investors</th>\n",
       "    </tr>\n",
       "  </thead>\n",
       "  <tbody>\n",
       "    <tr>\n",
       "      <th>0</th>\n",
       "      <td>2007-08-26 19:09:29.263000000</td>\n",
       "      <td>36</td>\n",
       "      <td>Completed</td>\n",
       "      <td>14-08-2009 0.00</td>\n",
       "      <td>0.16516</td>\n",
       "      <td>0.1580</td>\n",
       "      <td>0.1380</td>\n",
       "      <td>NaN</td>\n",
       "      <td>NaN</td>\n",
       "      <td>0</td>\n",
       "      <td>...</td>\n",
       "      <td>Self-employed</td>\n",
       "      <td>472.0</td>\n",
       "      <td>3083.333333</td>\n",
       "      <td>0</td>\n",
       "      <td>9425</td>\n",
       "      <td>12-09-2007 0.00</td>\n",
       "      <td>Q3 2007</td>\n",
       "      <td>330.43</td>\n",
       "      <td>1971.14</td>\n",
       "      <td>258</td>\n",
       "    </tr>\n",
       "    <tr>\n",
       "      <th>1</th>\n",
       "      <td>2014-02-27 08:28:07.900000000</td>\n",
       "      <td>36</td>\n",
       "      <td>Current</td>\n",
       "      <td>NaN</td>\n",
       "      <td>0.12016</td>\n",
       "      <td>0.0920</td>\n",
       "      <td>0.0820</td>\n",
       "      <td>A</td>\n",
       "      <td>7.0</td>\n",
       "      <td>2</td>\n",
       "      <td>...</td>\n",
       "      <td>Employed</td>\n",
       "      <td>0.0</td>\n",
       "      <td>6125.000000</td>\n",
       "      <td>0</td>\n",
       "      <td>10000</td>\n",
       "      <td>03-03-2014 0.00</td>\n",
       "      <td>Q1 2014</td>\n",
       "      <td>318.93</td>\n",
       "      <td>0.00</td>\n",
       "      <td>1</td>\n",
       "    </tr>\n",
       "    <tr>\n",
       "      <th>2</th>\n",
       "      <td>2007-01-05 15:00:47.090000000</td>\n",
       "      <td>36</td>\n",
       "      <td>Completed</td>\n",
       "      <td>17-12-2009 0.00</td>\n",
       "      <td>0.28269</td>\n",
       "      <td>0.2750</td>\n",
       "      <td>0.2400</td>\n",
       "      <td>NaN</td>\n",
       "      <td>NaN</td>\n",
       "      <td>0</td>\n",
       "      <td>...</td>\n",
       "      <td>Not available</td>\n",
       "      <td>NaN</td>\n",
       "      <td>2083.333333</td>\n",
       "      <td>0</td>\n",
       "      <td>3001</td>\n",
       "      <td>17-01-2007 0.00</td>\n",
       "      <td>Q1 2007</td>\n",
       "      <td>123.32</td>\n",
       "      <td>1185.63</td>\n",
       "      <td>41</td>\n",
       "    </tr>\n",
       "    <tr>\n",
       "      <th>3</th>\n",
       "      <td>2012-10-22 11:02:35.010000000</td>\n",
       "      <td>36</td>\n",
       "      <td>Current</td>\n",
       "      <td>NaN</td>\n",
       "      <td>0.12528</td>\n",
       "      <td>0.0974</td>\n",
       "      <td>0.0874</td>\n",
       "      <td>A</td>\n",
       "      <td>9.0</td>\n",
       "      <td>16</td>\n",
       "      <td>...</td>\n",
       "      <td>Employed</td>\n",
       "      <td>10056.0</td>\n",
       "      <td>2875.000000</td>\n",
       "      <td>0</td>\n",
       "      <td>10000</td>\n",
       "      <td>01-11-2012 0.00</td>\n",
       "      <td>Q4 2012</td>\n",
       "      <td>321.45</td>\n",
       "      <td>1052.11</td>\n",
       "      <td>158</td>\n",
       "    </tr>\n",
       "    <tr>\n",
       "      <th>4</th>\n",
       "      <td>2013-09-14 18:38:39.097000000</td>\n",
       "      <td>36</td>\n",
       "      <td>Current</td>\n",
       "      <td>NaN</td>\n",
       "      <td>0.24614</td>\n",
       "      <td>0.2085</td>\n",
       "      <td>0.1985</td>\n",
       "      <td>D</td>\n",
       "      <td>4.0</td>\n",
       "      <td>2</td>\n",
       "      <td>...</td>\n",
       "      <td>Employed</td>\n",
       "      <td>0.0</td>\n",
       "      <td>9583.333333</td>\n",
       "      <td>0</td>\n",
       "      <td>15000</td>\n",
       "      <td>20-09-2013 0.00</td>\n",
       "      <td>Q3 2013</td>\n",
       "      <td>563.97</td>\n",
       "      <td>1256.63</td>\n",
       "      <td>20</td>\n",
       "    </tr>\n",
       "  </tbody>\n",
       "</table>\n",
       "<p>5 rows × 22 columns</p>\n",
       "</div>"
      ],
      "text/plain": [
       "             ListingCreationDate  Term LoanStatus       ClosedDate  \\\n",
       "0  2007-08-26 19:09:29.263000000    36  Completed  14-08-2009 0.00   \n",
       "1  2014-02-27 08:28:07.900000000    36    Current              NaN   \n",
       "2  2007-01-05 15:00:47.090000000    36  Completed  17-12-2009 0.00   \n",
       "3  2012-10-22 11:02:35.010000000    36    Current              NaN   \n",
       "4  2013-09-14 18:38:39.097000000    36    Current              NaN   \n",
       "\n",
       "   BorrowerAPR  BorrowerRate  LenderYield ProsperRating (Alpha)  ProsperScore  \\\n",
       "0      0.16516        0.1580       0.1380                   NaN           NaN   \n",
       "1      0.12016        0.0920       0.0820                     A           7.0   \n",
       "2      0.28269        0.2750       0.2400                   NaN           NaN   \n",
       "3      0.12528        0.0974       0.0874                     A           9.0   \n",
       "4      0.24614        0.2085       0.1985                     D           4.0   \n",
       "\n",
       "   ListingCategory (numeric)  ... EmploymentStatus AmountDelinquent  \\\n",
       "0                          0  ...    Self-employed            472.0   \n",
       "1                          2  ...         Employed              0.0   \n",
       "2                          0  ...    Not available              NaN   \n",
       "3                         16  ...         Employed          10056.0   \n",
       "4                          2  ...         Employed              0.0   \n",
       "\n",
       "  StatedMonthlyIncome  LoanCurrentDaysDelinquent  LoanOriginalAmount  \\\n",
       "0         3083.333333                          0                9425   \n",
       "1         6125.000000                          0               10000   \n",
       "2         2083.333333                          0                3001   \n",
       "3         2875.000000                          0               10000   \n",
       "4         9583.333333                          0               15000   \n",
       "\n",
       "   LoanOriginationDate  LoanOriginationQuarter MonthlyLoanPayment  \\\n",
       "0      12-09-2007 0.00                 Q3 2007             330.43   \n",
       "1      03-03-2014 0.00                 Q1 2014             318.93   \n",
       "2      17-01-2007 0.00                 Q1 2007             123.32   \n",
       "3      01-11-2012 0.00                 Q4 2012             321.45   \n",
       "4      20-09-2013 0.00                 Q3 2013             563.97   \n",
       "\n",
       "  LP_InterestandFees  Investors  \n",
       "0            1971.14        258  \n",
       "1               0.00          1  \n",
       "2            1185.63         41  \n",
       "3            1052.11        158  \n",
       "4            1256.63         20  \n",
       "\n",
       "[5 rows x 22 columns]"
      ]
     },
     "execution_count": 7,
     "metadata": {},
     "output_type": "execute_result"
    }
   ],
   "source": [
    "df.head()"
   ]
  },
  {
   "cell_type": "code",
   "execution_count": 8,
   "metadata": {
    "execution": {
     "iopub.execute_input": "2022-07-30T13:31:22.266361Z",
     "iopub.status.busy": "2022-07-30T13:31:22.266043Z",
     "iopub.status.idle": "2022-07-30T13:31:22.290174Z",
     "shell.execute_reply": "2022-07-30T13:31:22.289772Z",
     "shell.execute_reply.started": "2022-07-30T13:31:22.266339Z"
    }
   },
   "outputs": [
    {
     "name": "stdout",
     "output_type": "stream",
     "text": [
      "<class 'pandas.core.frame.DataFrame'>\n",
      "RangeIndex: 1035 entries, 0 to 1034\n",
      "Data columns (total 22 columns):\n",
      " #   Column                     Non-Null Count  Dtype  \n",
      "---  ------                     --------------  -----  \n",
      " 0   ListingCreationDate        1035 non-null   object \n",
      " 1   Term                       1035 non-null   int64  \n",
      " 2   LoanStatus                 1035 non-null   object \n",
      " 3   ClosedDate                 479 non-null    object \n",
      " 4   BorrowerAPR                1035 non-null   float64\n",
      " 5   BorrowerRate               1035 non-null   float64\n",
      " 6   LenderYield                1035 non-null   float64\n",
      " 7   ProsperRating (Alpha)      783 non-null    object \n",
      " 8   ProsperScore               783 non-null    float64\n",
      " 9   ListingCategory (numeric)  1035 non-null   int64  \n",
      " 10  BorrowerState              983 non-null    object \n",
      " 11  Occupation                 996 non-null    object \n",
      " 12  EmploymentStatus           1010 non-null   object \n",
      " 13  AmountDelinquent           954 non-null    float64\n",
      " 14  StatedMonthlyIncome        1035 non-null   float64\n",
      " 15  LoanCurrentDaysDelinquent  1035 non-null   int64  \n",
      " 16  LoanOriginalAmount         1035 non-null   int64  \n",
      " 17  LoanOriginationDate        1035 non-null   object \n",
      " 18  LoanOriginationQuarter     1035 non-null   object \n",
      " 19  MonthlyLoanPayment         1035 non-null   float64\n",
      " 20  LP_InterestandFees         1035 non-null   float64\n",
      " 21  Investors                  1035 non-null   int64  \n",
      "dtypes: float64(8), int64(5), object(9)\n",
      "memory usage: 178.0+ KB\n"
     ]
    }
   ],
   "source": [
    "# B. Check the data type and adjust datatype for all other categorical columns\n",
    "df.info()"
   ]
  },
  {
   "cell_type": "code",
   "execution_count": 9,
   "metadata": {
    "execution": {
     "iopub.execute_input": "2022-07-30T13:31:22.703468Z",
     "iopub.status.busy": "2022-07-30T13:31:22.702922Z",
     "iopub.status.idle": "2022-07-30T13:31:22.711786Z",
     "shell.execute_reply": "2022-07-30T13:31:22.710786Z",
     "shell.execute_reply.started": "2022-07-30T13:31:22.703441Z"
    }
   },
   "outputs": [],
   "source": [
    "# all columns have correct data types, no \n",
    "# need to manipulate it"
   ]
  },
  {
   "cell_type": "code",
   "execution_count": 10,
   "metadata": {
    "execution": {
     "iopub.execute_input": "2022-07-30T13:31:24.578975Z",
     "iopub.status.busy": "2022-07-30T13:31:24.578238Z",
     "iopub.status.idle": "2022-07-30T13:31:24.589573Z",
     "shell.execute_reply": "2022-07-30T13:31:24.588652Z",
     "shell.execute_reply.started": "2022-07-30T13:31:24.578935Z"
    }
   },
   "outputs": [
    {
     "data": {
      "text/plain": [
       "252"
      ]
     },
     "execution_count": 10,
     "metadata": {},
     "output_type": "execute_result"
    }
   ],
   "source": [
    "# C. If you find any of the missing values in the ProsperRating column, then drop it.\n",
    "df['ProsperRating (Alpha)'].isnull().sum()"
   ]
  },
  {
   "cell_type": "code",
   "execution_count": 11,
   "metadata": {
    "execution": {
     "iopub.execute_input": "2022-07-30T13:31:25.110289Z",
     "iopub.status.busy": "2022-07-30T13:31:25.109817Z",
     "iopub.status.idle": "2022-07-30T13:31:25.121116Z",
     "shell.execute_reply": "2022-07-30T13:31:25.120324Z",
     "shell.execute_reply.started": "2022-07-30T13:31:25.110258Z"
    }
   },
   "outputs": [],
   "source": [
    "df = df[df['ProsperRating (Alpha)'].notnull()]"
   ]
  },
  {
   "cell_type": "code",
   "execution_count": 12,
   "metadata": {
    "execution": {
     "iopub.execute_input": "2022-07-30T13:31:25.555535Z",
     "iopub.status.busy": "2022-07-30T13:31:25.554938Z",
     "iopub.status.idle": "2022-07-30T13:31:25.562070Z",
     "shell.execute_reply": "2022-07-30T13:31:25.561490Z",
     "shell.execute_reply.started": "2022-07-30T13:31:25.555500Z"
    }
   },
   "outputs": [
    {
     "data": {
      "text/plain": [
       "0"
      ]
     },
     "execution_count": 12,
     "metadata": {},
     "output_type": "execute_result"
    }
   ],
   "source": [
    "df['ProsperRating (Alpha)'].isnull().sum()\n",
    "# no more nulls in ProperRating (Alpha)"
   ]
  },
  {
   "cell_type": "markdown",
   "metadata": {},
   "source": [
    "<h4 class=\"list-group-item list-group-item-action active\" >3. UNIVARIATE ANALYSIS</h4>\n",
    "\n",
    ">#### A. What are the main features of interest in your dataset?\n",
    "\n",
    "    Step1: Apply Univariate analysis using suitable charts for[ Loan status, Employment Status, Stated Monthly Income]\n",
    "\n",
    "    Step2: Check if any column distribution skew or not.\n",
    "\n",
    "    Step3: Write at least 2 observations for each visualization.\n",
    "\n",
    "\n"
   ]
  },
  {
   "cell_type": "code",
   "execution_count": 13,
   "metadata": {
    "execution": {
     "iopub.execute_input": "2022-07-30T13:31:26.736262Z",
     "iopub.status.busy": "2022-07-30T13:31:26.735775Z",
     "iopub.status.idle": "2022-07-30T13:31:26.832952Z",
     "shell.execute_reply": "2022-07-30T13:31:26.832714Z",
     "shell.execute_reply.started": "2022-07-30T13:31:26.736233Z"
    }
   },
   "outputs": [
    {
     "data": {
      "image/png": "[encoded data removed]",
      "text/plain": [
       "<Figure size 432x288 with 1 Axes>"
      ]
     },
     "metadata": {
      "needs_background": "light"
     },
     "output_type": "display_data"
    }
   ],
   "source": [
    "sns.histplot(data = df, x = 'LoanStatus')\n",
    "plt.xticks(rotation = 90)\n",
    "plt.show()"
   ]
  },
  {
   "cell_type": "code",
   "execution_count": 14,
   "metadata": {
    "execution": {
     "iopub.execute_input": "2022-07-30T13:31:27.256075Z",
     "iopub.status.busy": "2022-07-30T13:31:27.255600Z",
     "iopub.status.idle": "2022-07-30T13:31:27.264785Z",
     "shell.execute_reply": "2022-07-30T13:31:27.263734Z",
     "shell.execute_reply.started": "2022-07-30T13:31:27.256044Z"
    }
   },
   "outputs": [],
   "source": [
    "# skewness cannot be found for categorical columns"
   ]
  },
  {
   "cell_type": "code",
   "execution_count": 15,
   "metadata": {
    "execution": {
     "iopub.execute_input": "2022-07-30T13:31:27.586818Z",
     "iopub.status.busy": "2022-07-30T13:31:27.586432Z",
     "iopub.status.idle": "2022-07-30T13:31:27.593047Z",
     "shell.execute_reply": "2022-07-30T13:31:27.592363Z",
     "shell.execute_reply.started": "2022-07-30T13:31:27.586789Z"
    }
   },
   "outputs": [],
   "source": [
    "# observation 1: the most number of loans are in the current region, followed by completed\n",
    "# observation 2: the loans that are past due represent a small minority of the loans"
   ]
  },
  {
   "cell_type": "code",
   "execution_count": 16,
   "metadata": {
    "execution": {
     "iopub.execute_input": "2022-07-30T13:31:27.876189Z",
     "iopub.status.busy": "2022-07-30T13:31:27.875326Z",
     "iopub.status.idle": "2022-07-30T13:31:27.950143Z",
     "shell.execute_reply": "2022-07-30T13:31:27.949694Z",
     "shell.execute_reply.started": "2022-07-30T13:31:27.876158Z"
    }
   },
   "outputs": [
    {
     "data": {
      "image/png": "[encoded data removed]",
      "text/plain": [
       "<Figure size 432x288 with 1 Axes>"
      ]
     },
     "metadata": {
      "needs_background": "light"
     },
     "output_type": "display_data"
    }
   ],
   "source": [
    "sns.countplot(data = df, x = 'EmploymentStatus')\n",
    "plt.xticks(rotation = 90)\n",
    "plt.show()"
   ]
  },
  {
   "cell_type": "code",
   "execution_count": 17,
   "metadata": {
    "execution": {
     "iopub.execute_input": "2022-07-30T13:31:28.154563Z",
     "iopub.status.busy": "2022-07-30T13:31:28.154438Z",
     "iopub.status.idle": "2022-07-30T13:31:28.156346Z",
     "shell.execute_reply": "2022-07-30T13:31:28.156072Z",
     "shell.execute_reply.started": "2022-07-30T13:31:28.154549Z"
    }
   },
   "outputs": [],
   "source": [
    "# skewness cannot be found for categorical columns"
   ]
  },
  {
   "cell_type": "code",
   "execution_count": 18,
   "metadata": {
    "execution": {
     "iopub.execute_input": "2022-07-30T13:31:28.447907Z",
     "iopub.status.busy": "2022-07-30T13:31:28.447420Z",
     "iopub.status.idle": "2022-07-30T13:31:28.456042Z",
     "shell.execute_reply": "2022-07-30T13:31:28.455233Z",
     "shell.execute_reply.started": "2022-07-30T13:31:28.447873Z"
    }
   },
   "outputs": [],
   "source": [
    "# observation 1: Employed category represents the majority of loan-takers, followed by full-time\n",
    "# observation 2: There are nearly the same amount of people in the three categories which are not employed, part-time and retired"
   ]
  },
  {
   "cell_type": "code",
   "execution_count": 19,
   "metadata": {
    "execution": {
     "iopub.execute_input": "2022-07-30T13:31:28.743579Z",
     "iopub.status.busy": "2022-07-30T13:31:28.742806Z",
     "iopub.status.idle": "2022-07-30T13:31:28.889192Z",
     "shell.execute_reply": "2022-07-30T13:31:28.888804Z",
     "shell.execute_reply.started": "2022-07-30T13:31:28.743550Z"
    }
   },
   "outputs": [
    {
     "data": {
      "image/png": "[encoded data removed]",
      "text/plain": [
       "<Figure size 432x288 with 1 Axes>"
      ]
     },
     "metadata": {
      "needs_background": "light"
     },
     "output_type": "display_data"
    }
   ],
   "source": [
    "sns.kdeplot(data = df, x = 'StatedMonthlyIncome')\n",
    "plt.xticks(rotation = 90)\n",
    "plt.show()"
   ]
  },
  {
   "cell_type": "code",
   "execution_count": 20,
   "metadata": {
    "execution": {
     "iopub.execute_input": "2022-07-30T13:31:29.030002Z",
     "iopub.status.busy": "2022-07-30T13:31:29.029878Z",
     "iopub.status.idle": "2022-07-30T13:31:29.032910Z",
     "shell.execute_reply": "2022-07-30T13:31:29.032602Z",
     "shell.execute_reply.started": "2022-07-30T13:31:29.029989Z"
    }
   },
   "outputs": [
    {
     "data": {
      "text/plain": [
       "3.2736637587476145"
      ]
     },
     "execution_count": 20,
     "metadata": {},
     "output_type": "execute_result"
    }
   ],
   "source": [
    "df['StatedMonthlyIncome'].skew()\n",
    "# from the skewness value, \n",
    "# we can say that the plot \n",
    "# is heavily positive skewed"
   ]
  },
  {
   "cell_type": "code",
   "execution_count": 21,
   "metadata": {
    "execution": {
     "iopub.execute_input": "2022-07-30T13:31:29.380053Z",
     "iopub.status.busy": "2022-07-30T13:31:29.379554Z",
     "iopub.status.idle": "2022-07-30T13:31:29.392296Z",
     "shell.execute_reply": "2022-07-30T13:31:29.391791Z",
     "shell.execute_reply.started": "2022-07-30T13:31:29.380021Z"
    }
   },
   "outputs": [],
   "source": [
    "# observation 1: The graph is heavily right skewed, implying that there are many outliers more than 20, 000\n",
    "# observation 2: The mean of the distribution would be very much different from the median, implying that there is a lot of dispersion when it comes to monthly salary "
   ]
  },
  {
   "cell_type": "markdown",
   "metadata": {},
   "source": [
    "<h4 class=\"list-group-item list-group-item-action active\" >4. BIVARIATE ANALYSIS</h4>\n",
    "\n",
    ">#### A. Check the correlation matrix for all numeric variables. Maintain the Strong positive and Negative correlations columns.\n",
    ">#### B. Check the relation between `LoanOriginalAmount` and `BorrowerAPR` columns. \n",
    "\n",
    "    Step1: Use subplots. \n",
    "    \n",
    "        Plot1: Scatter Plot of LoanOriginalAmount and BorrowerAPR columns    \n",
    "\n",
    "        Plot2: HeatMap of LoanOriginalAmount and BorrowerAPR\n",
    "        \n",
    "    Step2: Write your observations.         \n",
    "        \n",
    ">#### C.Display the seperate box plot for `y = BorrowerAPR`  with x1 = `LoanStatus`, x2 = `EmploymentStatus` columns.Write your observations. \n"
   ]
  },
  {
   "cell_type": "code",
   "execution_count": 22,
   "metadata": {
    "execution": {
     "iopub.execute_input": "2022-07-30T13:31:30.414683Z",
     "iopub.status.busy": "2022-07-30T13:31:30.414366Z",
     "iopub.status.idle": "2022-07-30T13:31:30.694581Z",
     "shell.execute_reply": "2022-07-30T13:31:30.694298Z",
     "shell.execute_reply.started": "2022-07-30T13:31:30.414666Z"
    }
   },
   "outputs": [
    {
     "data": {
      "image/png": "[encoded data removed]",
      "text/plain": [
       "<Figure size 864x864 with 2 Axes>"
      ]
     },
     "metadata": {
      "needs_background": "light"
     },
     "output_type": "display_data"
    }
   ],
   "source": [
    "# A. Check the correlation matrix for all numeric variables. Maintain the Strong positive and Negative correlations columns.\n",
    "plt.figure(figsize = (12, 12))\n",
    "sns.heatmap(df.corr(), annot = True, vmin = -1, vmax = 1, cmap = 'coolwarm')\n",
    "plt.show()"
   ]
  },
  {
   "cell_type": "code",
   "execution_count": 23,
   "metadata": {
    "execution": {
     "iopub.execute_input": "2022-07-30T13:31:30.909737Z",
     "iopub.status.busy": "2022-07-30T13:31:30.909156Z",
     "iopub.status.idle": "2022-07-30T13:31:31.054059Z",
     "shell.execute_reply": "2022-07-30T13:31:31.053824Z",
     "shell.execute_reply.started": "2022-07-30T13:31:30.909708Z"
    }
   },
   "outputs": [
    {
     "data": {
      "image/png": "[encoded data removed]",
      "text/plain": [
       "<Figure size 1152x504 with 3 Axes>"
      ]
     },
     "metadata": {
      "needs_background": "light"
     },
     "output_type": "display_data"
    }
   ],
   "source": [
    "# B. Check the relation between LoanOriginalAmount and BorrowerAPR columns.\n",
    "plt.figure(figsize = (16, 7))\n",
    "plt.subplot(1, 2, 1)\n",
    "sns.scatterplot(data = df, x = 'LoanOriginalAmount', y = 'BorrowerAPR')\n",
    "plt.subplot(1, 2, 2)\n",
    "sns.heatmap(df[['LoanOriginalAmount', 'BorrowerAPR']].corr(), vmin = -1, vmax = 1, cmap = 'coolwarm', annot = True)\n",
    "plt.show()"
   ]
  },
  {
   "cell_type": "code",
   "execution_count": 24,
   "metadata": {
    "execution": {
     "iopub.execute_input": "2022-07-30T13:31:31.612625Z",
     "iopub.status.busy": "2022-07-30T13:31:31.612014Z",
     "iopub.status.idle": "2022-07-30T13:31:31.621432Z",
     "shell.execute_reply": "2022-07-30T13:31:31.620756Z",
     "shell.execute_reply.started": "2022-07-30T13:31:31.612597Z"
    }
   },
   "outputs": [],
   "source": [
    "# from the heatmap, we can see that the columns have a correlation coefficient of -0.31. so, they aren't correlated at all \n",
    "# this is also supported by the scatter plot. there is no pattern."
   ]
  },
  {
   "cell_type": "code",
   "execution_count": 25,
   "metadata": {
    "execution": {
     "iopub.execute_input": "2022-07-30T13:31:32.049142Z",
     "iopub.status.busy": "2022-07-30T13:31:32.048209Z",
     "iopub.status.idle": "2022-07-30T13:31:32.245632Z",
     "shell.execute_reply": "2022-07-30T13:31:32.245264Z",
     "shell.execute_reply.started": "2022-07-30T13:31:32.049108Z"
    }
   },
   "outputs": [
    {
     "data": {
      "image/png": "[encoded data removed]",
      "text/plain": [
       "<Figure size 432x288 with 1 Axes>"
      ]
     },
     "metadata": {
      "needs_background": "light"
     },
     "output_type": "display_data"
    },
    {
     "data": {
      "image/png": "[encoded data removed]",
      "text/plain": [
       "<Figure size 432x288 with 1 Axes>"
      ]
     },
     "metadata": {
      "needs_background": "light"
     },
     "output_type": "display_data"
    }
   ],
   "source": [
    "# C.Display the seperate box plot for y = BorrowerAPR with x1 = LoanStatus, x2 = EmploymentStatus columns.Write your observations.\n",
    "\n",
    "sns.boxplot(data = df, y = 'BorrowerAPR', x = 'LoanStatus')\n",
    "plt.xticks(rotation = 90)\n",
    "plt.show()\n",
    "sns.boxplot(data = df, y = 'BorrowerAPR', x = 'EmploymentStatus')\n",
    "plt.xticks(rotation = 90)\n",
    "plt.show()"
   ]
  },
  {
   "cell_type": "code",
   "execution_count": 26,
   "metadata": {
    "execution": {
     "iopub.execute_input": "2022-07-30T13:31:32.364261Z",
     "iopub.status.busy": "2022-07-30T13:31:32.364093Z",
     "iopub.status.idle": "2022-07-30T13:31:32.366116Z",
     "shell.execute_reply": "2022-07-30T13:31:32.365768Z",
     "shell.execute_reply.started": "2022-07-30T13:31:32.364241Z"
    }
   },
   "outputs": [],
   "source": [
    "# Observation (loan status): the only column with outliers is Past Due (61-90 days), with the outlier being a very high Borrower APR\n",
    "# Observation (loan status): Past Due (1-15 days) is the column that is the most right skewed\n",
    "# Observation (employment status): not employed and part-time are the columns with outliers. \n",
    "# Observation (employment status): self-employed represents the category with the max BorrowerAPR"
   ]
  },
  {
   "cell_type": "markdown",
   "metadata": {},
   "source": [
    "<h4 class=\"list-group-item list-group-item-action active\" >5.  MULTI VARIATE ANALYSIS, FEATURE ENGINEERING</h4>\n",
    "\n",
    ">#### A. Write a program\n",
    "\n",
    "    Step 1: Create a  condition = 'LoanStatus'== 'Completed'| 'LoanStatus' == 'Defaulted' |\\'LoanStatus' == 'Chargedoff'\n",
    "\n",
    "    Step2: Create a user define function  using condition and `LoanStatus` column.\n",
    "\n",
    "    Hint: df['LoanStatus'] = df.apply(user define function , axis=1)\n",
    "    \n",
    "        Sample output : \n",
    "        \n",
    "        \n",
    "        Completed    168\n",
    "        \n",
    "        Defaulted     59\n",
    "\n",
    "\n",
    ">#### B. Write a program\n",
    "\n",
    "    Step 1: Create a  dictionary called categories = 1: 'Debt Consolidation', 2: 'Home Improvement', 3: 'Business', 6: 'Auto', 7: 'Other'\n",
    "\n",
    "    Step2: Create a user define function  using categories and `ListingCategory (numeric)` column.\n",
    "\n",
    "    Hint: df['ListingCategory (numeric)'] = df.apply(user define function , axis=1)\n",
    "    \n",
    "        Sample output : \n",
    "        \n",
    "        \n",
    "        Debt Consolidation    106\n",
    "\n",
    "        Other                  65\n",
    "\n",
    "        Business               25\n",
    "\n",
    "        Home Improvement       22\n",
    "\n",
    "        Auto                    9\n",
    "\n",
    ">#### C. Display the box plot for `ProsperRating (Alpha)` vs `LoanOriginalAmount` and hue = `Loan Status`[Completed,Defaulted]. Write your observations.\n",
    "\n",
    ">#### D. Display the catplot for `ProsperRating (Alpha)` vs `ListingCategory (numeric)`[Debt Consolidation,Other,Business,Home Improvement,Auto] and hue = `Loan Status`[Completed,Defaulted]. Write your observations."
   ]
  },
  {
   "cell_type": "code",
   "execution_count": 27,
   "metadata": {
    "execution": {
     "iopub.execute_input": "2022-07-30T13:31:33.193844Z",
     "iopub.status.busy": "2022-07-30T13:31:33.193279Z",
     "iopub.status.idle": "2022-07-30T13:31:33.204055Z",
     "shell.execute_reply": "2022-07-30T13:31:33.201052Z",
     "shell.execute_reply.started": "2022-07-30T13:31:33.193809Z"
    }
   },
   "outputs": [],
   "source": [
    "# A. Write a program\n",
    "\n",
    "i = 0 # initialize all the counters at zero. \n",
    "j = 0\n",
    "k = 0\n",
    "\n",
    "def loanstatus(x):\n",
    "    if x['LoanStatus'] == 'Completed':\n",
    "        global i # we want this function to modify the i value which is in the global scope, we use global i\n",
    "        i += 1\n",
    "        return(x['LoanStatus'] + ' ' + str(i)) # if the loan_status is Completed, returns 'Completed' with the counter.\n",
    "    elif x['LoanStatus'] == 'Defaulted':\n",
    "        global j\n",
    "        j += 1\n",
    "        return(x['LoanStatus'] + ' ' + str(j)) # similary it counts for the other categories mentioned in the question\n",
    "    elif x['LoanStatus'] == 'Chargedoff':\n",
    "        global k\n",
    "        k += 1\n",
    "        return(x['LoanStatus'] + ' ' + str(k))\n",
    "    else:\n",
    "        return(x['LoanStatus'])"
   ]
  },
  {
   "cell_type": "code",
   "execution_count": 28,
   "metadata": {
    "execution": {
     "iopub.execute_input": "2022-07-30T13:31:33.704997Z",
     "iopub.status.busy": "2022-07-30T13:31:33.704522Z",
     "iopub.status.idle": "2022-07-30T13:31:33.729375Z",
     "shell.execute_reply": "2022-07-30T13:31:33.729082Z",
     "shell.execute_reply.started": "2022-07-30T13:31:33.704969Z"
    }
   },
   "outputs": [],
   "source": [
    "df['LoanStatus'] = df.apply(loanstatus, axis = 1)"
   ]
  },
  {
   "cell_type": "code",
   "execution_count": 29,
   "metadata": {
    "execution": {
     "iopub.execute_input": "2022-07-30T13:31:34.198059Z",
     "iopub.status.busy": "2022-07-30T13:31:34.197754Z",
     "iopub.status.idle": "2022-07-30T13:31:34.207264Z",
     "shell.execute_reply": "2022-07-30T13:31:34.206624Z",
     "shell.execute_reply.started": "2022-07-30T13:31:34.198034Z"
    }
   },
   "outputs": [
    {
     "data": {
      "text/plain": [
       "1             Current\n",
       "3             Current\n",
       "4             Current\n",
       "5             Current\n",
       "6             Current\n",
       "            ...      \n",
       "1028    Completed 168\n",
       "1029          Current\n",
       "1030          Current\n",
       "1031          Current\n",
       "1033          Current\n",
       "Name: LoanStatus, Length: 783, dtype: object"
      ]
     },
     "execution_count": 29,
     "metadata": {},
     "output_type": "execute_result"
    }
   ],
   "source": [
    "df['LoanStatus'] # to verify our result"
   ]
  },
  {
   "cell_type": "code",
   "execution_count": 30,
   "metadata": {
    "execution": {
     "iopub.execute_input": "2022-07-30T13:31:34.658513Z",
     "iopub.status.busy": "2022-07-30T13:31:34.658187Z",
     "iopub.status.idle": "2022-07-30T13:31:34.671424Z",
     "shell.execute_reply": "2022-07-30T13:31:34.670908Z",
     "shell.execute_reply.started": "2022-07-30T13:31:34.658489Z"
    }
   },
   "outputs": [
    {
     "data": {
      "text/plain": [
       "1     483\n",
       "7      80\n",
       "2      68\n",
       "3      41\n",
       "6      22\n",
       "13     21\n",
       "15     17\n",
       "18     16\n",
       "14      9\n",
       "19      8\n",
       "20      6\n",
       "11      4\n",
       "16      3\n",
       "8       2\n",
       "9       2\n",
       "17      1\n",
       "Name: ListingCategory (numeric), dtype: int64"
      ]
     },
     "execution_count": 30,
     "metadata": {},
     "output_type": "execute_result"
    }
   ],
   "source": [
    "# B. Write a program\n",
    "df['ListingCategory (numeric)'].value_counts() # to verify our results after the transformation \n",
    "# 1: Debt Consolidation has 483 records."
   ]
  },
  {
   "cell_type": "code",
   "execution_count": 31,
   "metadata": {
    "execution": {
     "iopub.execute_input": "2022-07-30T13:31:35.156366Z",
     "iopub.status.busy": "2022-07-30T13:31:35.155920Z",
     "iopub.status.idle": "2022-07-30T13:31:35.166691Z",
     "shell.execute_reply": "2022-07-30T13:31:35.164357Z",
     "shell.execute_reply.started": "2022-07-30T13:31:35.156338Z"
    }
   },
   "outputs": [],
   "source": [
    "dictionary = {1: 'Debt Consolidation', 2: 'Home Improvement', 3: 'Business', 6: 'Auto', 7: 'Other'}"
   ]
  },
  {
   "cell_type": "code",
   "execution_count": 32,
   "metadata": {
    "execution": {
     "iopub.execute_input": "2022-07-30T13:31:35.699221Z",
     "iopub.status.busy": "2022-07-30T13:31:35.697861Z",
     "iopub.status.idle": "2022-07-30T13:31:35.711451Z",
     "shell.execute_reply": "2022-07-30T13:31:35.710548Z",
     "shell.execute_reply.started": "2022-07-30T13:31:35.699193Z"
    }
   },
   "outputs": [],
   "source": [
    "a = 0 # initialize the five counters\n",
    "b = 0 \n",
    "c = 0\n",
    "d = 0 \n",
    "e = 0\n",
    "\n",
    "\n",
    "def listingcategory(x):\n",
    "    global a # for our function to modify the global counters\n",
    "    global b\n",
    "    global c\n",
    "    global d\n",
    "    global e\n",
    "        \n",
    "    if x['ListingCategory (numeric)'] == 1: # check each key value whether it matches the numeric listing category\n",
    "        a += 1\n",
    "        return(dictionary[1] + \" \" + str(a))\n",
    "    elif x['ListingCategory (numeric)'] == 2:\n",
    "        b += 1\n",
    "        return(dictionary[2] + \" \" + str(b))\n",
    "    elif x['ListingCategory (numeric)'] == 3:\n",
    "        c += 1\n",
    "        return(dictionary[3] + \" \" + str(c))\n",
    "    elif x['ListingCategory (numeric)'] == 6:\n",
    "        d += 1\n",
    "        return(dictionary[6] + \" \" + str(d))\n",
    "    elif x['ListingCategory (numeric)'] == 7:\n",
    "        d += 1\n",
    "        return(dictionary[7] + \" \" + str(e))\n",
    "    else:\n",
    "        return(x['ListingCategory (numeric)'])\n",
    "    \n",
    "# code can be iterated using for z in dictionary.keys()\n",
    "# but then the counter will not work \n",
    "# hence, we go with the somewhat manual way\n",
    "# but the code works"
   ]
  },
  {
   "cell_type": "code",
   "execution_count": 33,
   "metadata": {
    "execution": {
     "iopub.execute_input": "2022-07-30T13:31:36.103239Z",
     "iopub.status.busy": "2022-07-30T13:31:36.102748Z",
     "iopub.status.idle": "2022-07-30T13:31:36.125344Z",
     "shell.execute_reply": "2022-07-30T13:31:36.124932Z",
     "shell.execute_reply.started": "2022-07-30T13:31:36.103209Z"
    }
   },
   "outputs": [],
   "source": [
    "df['ListingCategory (numeric)'] = df.apply(listingcategory, axis=1)"
   ]
  },
  {
   "cell_type": "code",
   "execution_count": 34,
   "metadata": {
    "execution": {
     "iopub.execute_input": "2022-07-30T13:31:36.429557Z",
     "iopub.status.busy": "2022-07-30T13:31:36.429119Z",
     "iopub.status.idle": "2022-07-30T13:31:36.438307Z",
     "shell.execute_reply": "2022-07-30T13:31:36.437677Z",
     "shell.execute_reply.started": "2022-07-30T13:31:36.429530Z"
    }
   },
   "outputs": [
    {
     "data": {
      "text/plain": [
       "1           Home Improvement 1\n",
       "3                           16\n",
       "4           Home Improvement 2\n",
       "5         Debt Consolidation 1\n",
       "6         Debt Consolidation 2\n",
       "                 ...          \n",
       "1028    Debt Consolidation 480\n",
       "1029    Debt Consolidation 481\n",
       "1030    Debt Consolidation 482\n",
       "1031    Debt Consolidation 483\n",
       "1033       Home Improvement 68\n",
       "Name: ListingCategory (numeric), Length: 783, dtype: object"
      ]
     },
     "execution_count": 34,
     "metadata": {},
     "output_type": "execute_result"
    }
   ],
   "source": [
    "df['ListingCategory (numeric)']"
   ]
  },
  {
   "cell_type": "code",
   "execution_count": 35,
   "metadata": {
    "execution": {
     "iopub.execute_input": "2022-07-30T13:31:36.796819Z",
     "iopub.status.busy": "2022-07-30T13:31:36.796333Z",
     "iopub.status.idle": "2022-07-30T13:31:36.821924Z",
     "shell.execute_reply": "2022-07-30T13:31:36.821597Z",
     "shell.execute_reply.started": "2022-07-30T13:31:36.796791Z"
    }
   },
   "outputs": [
    {
     "data": {
      "text/html": [
       "<div>\n",
       "<style scoped>\n",
       "    .dataframe tbody tr th:only-of-type {\n",
       "        vertical-align: middle;\n",
       "    }\n",
       "\n",
       "    .dataframe tbody tr th {\n",
       "        vertical-align: top;\n",
       "    }\n",
       "\n",
       "    .dataframe thead th {\n",
       "        text-align: right;\n",
       "    }\n",
       "</style>\n",
       "<table border=\"1\" class=\"dataframe\">\n",
       "  <thead>\n",
       "    <tr style=\"text-align: right;\">\n",
       "      <th></th>\n",
       "      <th>ListingCreationDate</th>\n",
       "      <th>Term</th>\n",
       "      <th>LoanStatus</th>\n",
       "      <th>ClosedDate</th>\n",
       "      <th>BorrowerAPR</th>\n",
       "      <th>BorrowerRate</th>\n",
       "      <th>LenderYield</th>\n",
       "      <th>ProsperRating (Alpha)</th>\n",
       "      <th>ProsperScore</th>\n",
       "      <th>ListingCategory (numeric)</th>\n",
       "      <th>...</th>\n",
       "      <th>EmploymentStatus</th>\n",
       "      <th>AmountDelinquent</th>\n",
       "      <th>StatedMonthlyIncome</th>\n",
       "      <th>LoanCurrentDaysDelinquent</th>\n",
       "      <th>LoanOriginalAmount</th>\n",
       "      <th>LoanOriginationDate</th>\n",
       "      <th>LoanOriginationQuarter</th>\n",
       "      <th>MonthlyLoanPayment</th>\n",
       "      <th>LP_InterestandFees</th>\n",
       "      <th>Investors</th>\n",
       "    </tr>\n",
       "  </thead>\n",
       "  <tbody>\n",
       "    <tr>\n",
       "      <th>1</th>\n",
       "      <td>2014-02-27 08:28:07.900000000</td>\n",
       "      <td>36</td>\n",
       "      <td>Current</td>\n",
       "      <td>NaN</td>\n",
       "      <td>0.12016</td>\n",
       "      <td>0.0920</td>\n",
       "      <td>0.0820</td>\n",
       "      <td>A</td>\n",
       "      <td>7.0</td>\n",
       "      <td>Home Improvement 1</td>\n",
       "      <td>...</td>\n",
       "      <td>Employed</td>\n",
       "      <td>0.0</td>\n",
       "      <td>6125.000000</td>\n",
       "      <td>0</td>\n",
       "      <td>10000</td>\n",
       "      <td>03-03-2014 0.00</td>\n",
       "      <td>Q1 2014</td>\n",
       "      <td>318.93</td>\n",
       "      <td>0.00</td>\n",
       "      <td>1</td>\n",
       "    </tr>\n",
       "    <tr>\n",
       "      <th>3</th>\n",
       "      <td>2012-10-22 11:02:35.010000000</td>\n",
       "      <td>36</td>\n",
       "      <td>Current</td>\n",
       "      <td>NaN</td>\n",
       "      <td>0.12528</td>\n",
       "      <td>0.0974</td>\n",
       "      <td>0.0874</td>\n",
       "      <td>A</td>\n",
       "      <td>9.0</td>\n",
       "      <td>16</td>\n",
       "      <td>...</td>\n",
       "      <td>Employed</td>\n",
       "      <td>10056.0</td>\n",
       "      <td>2875.000000</td>\n",
       "      <td>0</td>\n",
       "      <td>10000</td>\n",
       "      <td>01-11-2012 0.00</td>\n",
       "      <td>Q4 2012</td>\n",
       "      <td>321.45</td>\n",
       "      <td>1052.11</td>\n",
       "      <td>158</td>\n",
       "    </tr>\n",
       "    <tr>\n",
       "      <th>4</th>\n",
       "      <td>2013-09-14 18:38:39.097000000</td>\n",
       "      <td>36</td>\n",
       "      <td>Current</td>\n",
       "      <td>NaN</td>\n",
       "      <td>0.24614</td>\n",
       "      <td>0.2085</td>\n",
       "      <td>0.1985</td>\n",
       "      <td>D</td>\n",
       "      <td>4.0</td>\n",
       "      <td>Home Improvement 2</td>\n",
       "      <td>...</td>\n",
       "      <td>Employed</td>\n",
       "      <td>0.0</td>\n",
       "      <td>9583.333333</td>\n",
       "      <td>0</td>\n",
       "      <td>15000</td>\n",
       "      <td>20-09-2013 0.00</td>\n",
       "      <td>Q3 2013</td>\n",
       "      <td>563.97</td>\n",
       "      <td>1256.63</td>\n",
       "      <td>20</td>\n",
       "    </tr>\n",
       "    <tr>\n",
       "      <th>5</th>\n",
       "      <td>2013-12-14 08:26:37.093000000</td>\n",
       "      <td>60</td>\n",
       "      <td>Current</td>\n",
       "      <td>NaN</td>\n",
       "      <td>0.15425</td>\n",
       "      <td>0.1314</td>\n",
       "      <td>0.1214</td>\n",
       "      <td>B</td>\n",
       "      <td>10.0</td>\n",
       "      <td>Debt Consolidation 1</td>\n",
       "      <td>...</td>\n",
       "      <td>Employed</td>\n",
       "      <td>0.0</td>\n",
       "      <td>8333.333333</td>\n",
       "      <td>0</td>\n",
       "      <td>15000</td>\n",
       "      <td>24-12-2013 0.00</td>\n",
       "      <td>Q4 2013</td>\n",
       "      <td>342.37</td>\n",
       "      <td>327.45</td>\n",
       "      <td>1</td>\n",
       "    </tr>\n",
       "    <tr>\n",
       "      <th>6</th>\n",
       "      <td>2013-04-12 09:52:56.147000000</td>\n",
       "      <td>36</td>\n",
       "      <td>Current</td>\n",
       "      <td>NaN</td>\n",
       "      <td>0.31032</td>\n",
       "      <td>0.2712</td>\n",
       "      <td>0.2612</td>\n",
       "      <td>E</td>\n",
       "      <td>2.0</td>\n",
       "      <td>Debt Consolidation 2</td>\n",
       "      <td>...</td>\n",
       "      <td>Employed</td>\n",
       "      <td>0.0</td>\n",
       "      <td>2083.333333</td>\n",
       "      <td>0</td>\n",
       "      <td>3000</td>\n",
       "      <td>18-04-2013 0.00</td>\n",
       "      <td>Q2 2013</td>\n",
       "      <td>122.67</td>\n",
       "      <td>622.45</td>\n",
       "      <td>1</td>\n",
       "    </tr>\n",
       "    <tr>\n",
       "      <th>...</th>\n",
       "      <td>...</td>\n",
       "      <td>...</td>\n",
       "      <td>...</td>\n",
       "      <td>...</td>\n",
       "      <td>...</td>\n",
       "      <td>...</td>\n",
       "      <td>...</td>\n",
       "      <td>...</td>\n",
       "      <td>...</td>\n",
       "      <td>...</td>\n",
       "      <td>...</td>\n",
       "      <td>...</td>\n",
       "      <td>...</td>\n",
       "      <td>...</td>\n",
       "      <td>...</td>\n",
       "      <td>...</td>\n",
       "      <td>...</td>\n",
       "      <td>...</td>\n",
       "      <td>...</td>\n",
       "      <td>...</td>\n",
       "      <td>...</td>\n",
       "    </tr>\n",
       "    <tr>\n",
       "      <th>1028</th>\n",
       "      <td>2010-03-12 12:13:42.697000000</td>\n",
       "      <td>36</td>\n",
       "      <td>Completed 168</td>\n",
       "      <td>23-03-2013 0.00</td>\n",
       "      <td>0.26282</td>\n",
       "      <td>0.2399</td>\n",
       "      <td>0.2299</td>\n",
       "      <td>D</td>\n",
       "      <td>7.0</td>\n",
       "      <td>Debt Consolidation 480</td>\n",
       "      <td>...</td>\n",
       "      <td>Full-time</td>\n",
       "      <td>0.0</td>\n",
       "      <td>2840.083333</td>\n",
       "      <td>0</td>\n",
       "      <td>3500</td>\n",
       "      <td>23-03-2010 0.00</td>\n",
       "      <td>Q1 2010</td>\n",
       "      <td>131.50</td>\n",
       "      <td>1448.61</td>\n",
       "      <td>209</td>\n",
       "    </tr>\n",
       "    <tr>\n",
       "      <th>1029</th>\n",
       "      <td>2013-08-22 13:08:33.250000000</td>\n",
       "      <td>36</td>\n",
       "      <td>Current</td>\n",
       "      <td>NaN</td>\n",
       "      <td>0.18725</td>\n",
       "      <td>0.1509</td>\n",
       "      <td>0.1409</td>\n",
       "      <td>B</td>\n",
       "      <td>7.0</td>\n",
       "      <td>Debt Consolidation 481</td>\n",
       "      <td>...</td>\n",
       "      <td>Employed</td>\n",
       "      <td>0.0</td>\n",
       "      <td>12916.666670</td>\n",
       "      <td>0</td>\n",
       "      <td>30000</td>\n",
       "      <td>26-08-2013 0.00</td>\n",
       "      <td>Q3 2013</td>\n",
       "      <td>1041.28</td>\n",
       "      <td>2153.83</td>\n",
       "      <td>202</td>\n",
       "    </tr>\n",
       "    <tr>\n",
       "      <th>1030</th>\n",
       "      <td>2012-02-05 13:26:09.013000000</td>\n",
       "      <td>36</td>\n",
       "      <td>Current</td>\n",
       "      <td>NaN</td>\n",
       "      <td>0.24246</td>\n",
       "      <td>0.2049</td>\n",
       "      <td>0.1949</td>\n",
       "      <td>C</td>\n",
       "      <td>7.0</td>\n",
       "      <td>Debt Consolidation 482</td>\n",
       "      <td>...</td>\n",
       "      <td>Employed</td>\n",
       "      <td>0.0</td>\n",
       "      <td>4750.000000</td>\n",
       "      <td>0</td>\n",
       "      <td>15000</td>\n",
       "      <td>13-02-2012 0.00</td>\n",
       "      <td>Q1 2012</td>\n",
       "      <td>561.21</td>\n",
       "      <td>4510.85</td>\n",
       "      <td>291</td>\n",
       "    </tr>\n",
       "    <tr>\n",
       "      <th>1031</th>\n",
       "      <td>2013-11-30 18:09:55.920000000</td>\n",
       "      <td>60</td>\n",
       "      <td>Current</td>\n",
       "      <td>NaN</td>\n",
       "      <td>0.21832</td>\n",
       "      <td>0.1940</td>\n",
       "      <td>0.1840</td>\n",
       "      <td>C</td>\n",
       "      <td>4.0</td>\n",
       "      <td>Debt Consolidation 483</td>\n",
       "      <td>...</td>\n",
       "      <td>Employed</td>\n",
       "      <td>0.0</td>\n",
       "      <td>5500.000000</td>\n",
       "      <td>0</td>\n",
       "      <td>5000</td>\n",
       "      <td>11-12-2013 0.00</td>\n",
       "      <td>Q4 2013</td>\n",
       "      <td>130.81</td>\n",
       "      <td>163.97</td>\n",
       "      <td>1</td>\n",
       "    </tr>\n",
       "    <tr>\n",
       "      <th>1033</th>\n",
       "      <td>2011-08-22 21:04:01.433000000</td>\n",
       "      <td>60</td>\n",
       "      <td>Current</td>\n",
       "      <td>NaN</td>\n",
       "      <td>0.29371</td>\n",
       "      <td>0.2699</td>\n",
       "      <td>0.2599</td>\n",
       "      <td>D</td>\n",
       "      <td>5.0</td>\n",
       "      <td>Home Improvement 68</td>\n",
       "      <td>...</td>\n",
       "      <td>Full-time</td>\n",
       "      <td>0.0</td>\n",
       "      <td>2681.000000</td>\n",
       "      <td>0</td>\n",
       "      <td>10000</td>\n",
       "      <td>30-08-2011 0.00</td>\n",
       "      <td>Q3 2011</td>\n",
       "      <td>305.29</td>\n",
       "      <td>5777.86</td>\n",
       "      <td>148</td>\n",
       "    </tr>\n",
       "  </tbody>\n",
       "</table>\n",
       "<p>783 rows × 22 columns</p>\n",
       "</div>"
      ],
      "text/plain": [
       "                ListingCreationDate  Term     LoanStatus       ClosedDate  \\\n",
       "1     2014-02-27 08:28:07.900000000    36        Current              NaN   \n",
       "3     2012-10-22 11:02:35.010000000    36        Current              NaN   \n",
       "4     2013-09-14 18:38:39.097000000    36        Current              NaN   \n",
       "5     2013-12-14 08:26:37.093000000    60        Current              NaN   \n",
       "6     2013-04-12 09:52:56.147000000    36        Current              NaN   \n",
       "...                             ...   ...            ...              ...   \n",
       "1028  2010-03-12 12:13:42.697000000    36  Completed 168  23-03-2013 0.00   \n",
       "1029  2013-08-22 13:08:33.250000000    36        Current              NaN   \n",
       "1030  2012-02-05 13:26:09.013000000    36        Current              NaN   \n",
       "1031  2013-11-30 18:09:55.920000000    60        Current              NaN   \n",
       "1033  2011-08-22 21:04:01.433000000    60        Current              NaN   \n",
       "\n",
       "      BorrowerAPR  BorrowerRate  LenderYield ProsperRating (Alpha)  \\\n",
       "1         0.12016        0.0920       0.0820                     A   \n",
       "3         0.12528        0.0974       0.0874                     A   \n",
       "4         0.24614        0.2085       0.1985                     D   \n",
       "5         0.15425        0.1314       0.1214                     B   \n",
       "6         0.31032        0.2712       0.2612                     E   \n",
       "...           ...           ...          ...                   ...   \n",
       "1028      0.26282        0.2399       0.2299                     D   \n",
       "1029      0.18725        0.1509       0.1409                     B   \n",
       "1030      0.24246        0.2049       0.1949                     C   \n",
       "1031      0.21832        0.1940       0.1840                     C   \n",
       "1033      0.29371        0.2699       0.2599                     D   \n",
       "\n",
       "      ProsperScore ListingCategory (numeric)  ... EmploymentStatus  \\\n",
       "1              7.0        Home Improvement 1  ...         Employed   \n",
       "3              9.0                        16  ...         Employed   \n",
       "4              4.0        Home Improvement 2  ...         Employed   \n",
       "5             10.0      Debt Consolidation 1  ...         Employed   \n",
       "6              2.0      Debt Consolidation 2  ...         Employed   \n",
       "...            ...                       ...  ...              ...   \n",
       "1028           7.0    Debt Consolidation 480  ...        Full-time   \n",
       "1029           7.0    Debt Consolidation 481  ...         Employed   \n",
       "1030           7.0    Debt Consolidation 482  ...         Employed   \n",
       "1031           4.0    Debt Consolidation 483  ...         Employed   \n",
       "1033           5.0       Home Improvement 68  ...        Full-time   \n",
       "\n",
       "     AmountDelinquent StatedMonthlyIncome  LoanCurrentDaysDelinquent  \\\n",
       "1                 0.0         6125.000000                          0   \n",
       "3             10056.0         2875.000000                          0   \n",
       "4                 0.0         9583.333333                          0   \n",
       "5                 0.0         8333.333333                          0   \n",
       "6                 0.0         2083.333333                          0   \n",
       "...               ...                 ...                        ...   \n",
       "1028              0.0         2840.083333                          0   \n",
       "1029              0.0        12916.666670                          0   \n",
       "1030              0.0         4750.000000                          0   \n",
       "1031              0.0         5500.000000                          0   \n",
       "1033              0.0         2681.000000                          0   \n",
       "\n",
       "      LoanOriginalAmount  LoanOriginationDate  LoanOriginationQuarter  \\\n",
       "1                  10000      03-03-2014 0.00                 Q1 2014   \n",
       "3                  10000      01-11-2012 0.00                 Q4 2012   \n",
       "4                  15000      20-09-2013 0.00                 Q3 2013   \n",
       "5                  15000      24-12-2013 0.00                 Q4 2013   \n",
       "6                   3000      18-04-2013 0.00                 Q2 2013   \n",
       "...                  ...                  ...                     ...   \n",
       "1028                3500      23-03-2010 0.00                 Q1 2010   \n",
       "1029               30000      26-08-2013 0.00                 Q3 2013   \n",
       "1030               15000      13-02-2012 0.00                 Q1 2012   \n",
       "1031                5000      11-12-2013 0.00                 Q4 2013   \n",
       "1033               10000      30-08-2011 0.00                 Q3 2011   \n",
       "\n",
       "     MonthlyLoanPayment LP_InterestandFees  Investors  \n",
       "1                318.93               0.00          1  \n",
       "3                321.45            1052.11        158  \n",
       "4                563.97            1256.63         20  \n",
       "5                342.37             327.45          1  \n",
       "6                122.67             622.45          1  \n",
       "...                 ...                ...        ...  \n",
       "1028             131.50            1448.61        209  \n",
       "1029            1041.28            2153.83        202  \n",
       "1030             561.21            4510.85        291  \n",
       "1031             130.81             163.97          1  \n",
       "1033             305.29            5777.86        148  \n",
       "\n",
       "[783 rows x 22 columns]"
      ]
     },
     "execution_count": 35,
     "metadata": {},
     "output_type": "execute_result"
    }
   ],
   "source": [
    "df"
   ]
  },
  {
   "cell_type": "code",
   "execution_count": 36,
   "metadata": {
    "execution": {
     "iopub.execute_input": "2022-07-30T13:31:37.127618Z",
     "iopub.status.busy": "2022-07-30T13:31:37.127153Z",
     "iopub.status.idle": "2022-07-30T13:31:37.265182Z",
     "shell.execute_reply": "2022-07-30T13:31:37.264726Z",
     "shell.execute_reply.started": "2022-07-30T13:31:37.127589Z"
    }
   },
   "outputs": [
    {
     "data": {
      "image/png": "[encoded data removed]",
      "text/plain": [
       "<Figure size 864x504 with 1 Axes>"
      ]
     },
     "metadata": {
      "needs_background": "light"
     },
     "output_type": "display_data"
    }
   ],
   "source": [
    "# # C. Display the box plot for ProsperRating (Alpha) vs LoanOriginalAmount and hue = Loan Status[Completed,Defaulted]. Write your observations.\n",
    "\n",
    "df1 = pd.read_csv('Pri-Load.csv')\n",
    "df2 = df1[(df1['LoanStatus'] == 'Completed') | (df1['LoanStatus'] == 'Defaulted')]\n",
    "\n",
    "plt.figure(figsize = (12, 7))\n",
    "sns.boxplot(data = df2, \n",
    "            x = 'ProsperRating (Alpha)', \n",
    "            y = 'LoanOriginalAmount', \n",
    "           hue = 'LoanStatus')\n",
    "plt.show()"
   ]
  },
  {
   "cell_type": "code",
   "execution_count": 37,
   "metadata": {
    "execution": {
     "iopub.execute_input": "2022-07-30T13:31:37.683128Z",
     "iopub.status.busy": "2022-07-30T13:31:37.681457Z",
     "iopub.status.idle": "2022-07-30T13:31:37.692024Z",
     "shell.execute_reply": "2022-07-30T13:31:37.690062Z",
     "shell.execute_reply.started": "2022-07-30T13:31:37.683086Z"
    }
   },
   "outputs": [],
   "source": [
    "# observation 1: Completed loans make up the bulk of the loan as compared to defaulted\n",
    "# observation 2: Some ProsperRatings categories don't have any defaulted categories, like A, AA and B. "
   ]
  },
  {
   "cell_type": "code",
   "execution_count": 38,
   "metadata": {
    "execution": {
     "iopub.execute_input": "2022-07-30T13:31:38.104595Z",
     "iopub.status.busy": "2022-07-30T13:31:38.104121Z",
     "iopub.status.idle": "2022-07-30T13:31:38.111235Z",
     "shell.execute_reply": "2022-07-30T13:31:38.110031Z",
     "shell.execute_reply.started": "2022-07-30T13:31:38.104565Z"
    }
   },
   "outputs": [],
   "source": [
    "# D. Display the catplot for ProsperRating (Alpha) vs ListingCategory (numeric)[Debt Consolidation,Other,Business,Home Improvement,Auto] and hue = Loan Status[Completed,Defaulted]. Write your observations.\n",
    "\n",
    "# first we need to encode the values of ListingCategory\n",
    "# I will be reusing the previous function, but removing the counter\n",
    "# Now, i can use the looping through the dictionary."
   ]
  },
  {
   "cell_type": "code",
   "execution_count": 39,
   "metadata": {
    "execution": {
     "iopub.execute_input": "2022-07-30T13:31:38.407249Z",
     "iopub.status.busy": "2022-07-30T13:31:38.406939Z",
     "iopub.status.idle": "2022-07-30T13:31:38.412964Z",
     "shell.execute_reply": "2022-07-30T13:31:38.412320Z",
     "shell.execute_reply.started": "2022-07-30T13:31:38.407226Z"
    }
   },
   "outputs": [],
   "source": [
    "dictionary = {1: 'Debt Consolidation', 2: 'Home Improvement', 3: 'Business', 6: 'Auto', 7: 'Other'}"
   ]
  },
  {
   "cell_type": "code",
   "execution_count": 40,
   "metadata": {
    "execution": {
     "iopub.execute_input": "2022-07-30T13:31:38.727571Z",
     "iopub.status.busy": "2022-07-30T13:31:38.727168Z",
     "iopub.status.idle": "2022-07-30T13:31:38.739505Z",
     "shell.execute_reply": "2022-07-30T13:31:38.736571Z",
     "shell.execute_reply.started": "2022-07-30T13:31:38.727545Z"
    }
   },
   "outputs": [],
   "source": [
    "def listingcategorynames(x):        \n",
    "    for z in dictionary.keys():\n",
    "        if x['ListingCategory (numeric)'] == z: # check each key value whether it matches the numeric listing category\n",
    "            return(dictionary[z])\n",
    "        else:\n",
    "            continue"
   ]
  },
  {
   "cell_type": "code",
   "execution_count": 41,
   "metadata": {
    "execution": {
     "iopub.execute_input": "2022-07-30T13:31:39.041127Z",
     "iopub.status.busy": "2022-07-30T13:31:39.040784Z",
     "iopub.status.idle": "2022-07-30T13:31:39.068550Z",
     "shell.execute_reply": "2022-07-30T13:31:39.068251Z",
     "shell.execute_reply.started": "2022-07-30T13:31:39.041103Z"
    }
   },
   "outputs": [
    {
     "name": "stderr",
     "output_type": "stream",
     "text": [
      "/var/folders/4t/x94vczys6r3gbtcffqkfsz_c0000gp/T/ipykernel_2196/3400772504.py:1: SettingWithCopyWarning: \n",
      "A value is trying to be set on a copy of a slice from a DataFrame.\n",
      "Try using .loc[row_indexer,col_indexer] = value instead\n",
      "\n",
      "See the caveats in the documentation: https://pandas.pydata.org/pandas-docs/stable/user_guide/indexing.html#returning-a-view-versus-a-copy\n",
      "  df2['ListingCategory (numeric)'] = df2.apply(listingcategorynames, axis = 1)\n"
     ]
    }
   ],
   "source": [
    "df2['ListingCategory (numeric)'] = df2.apply(listingcategorynames, axis = 1)\n",
    "# ignore the warning, I intentionally sliced the dataframe first to get only completed and defaulted categories"
   ]
  },
  {
   "cell_type": "code",
   "execution_count": 42,
   "metadata": {
    "execution": {
     "iopub.execute_input": "2022-07-30T13:31:39.520294Z",
     "iopub.status.busy": "2022-07-30T13:31:39.519854Z",
     "iopub.status.idle": "2022-07-30T13:31:39.546087Z",
     "shell.execute_reply": "2022-07-30T13:31:39.545807Z",
     "shell.execute_reply.started": "2022-07-30T13:31:39.520264Z"
    }
   },
   "outputs": [
    {
     "data": {
      "text/html": [
       "<div>\n",
       "<style scoped>\n",
       "    .dataframe tbody tr th:only-of-type {\n",
       "        vertical-align: middle;\n",
       "    }\n",
       "\n",
       "    .dataframe tbody tr th {\n",
       "        vertical-align: top;\n",
       "    }\n",
       "\n",
       "    .dataframe thead th {\n",
       "        text-align: right;\n",
       "    }\n",
       "</style>\n",
       "<table border=\"1\" class=\"dataframe\">\n",
       "  <thead>\n",
       "    <tr style=\"text-align: right;\">\n",
       "      <th></th>\n",
       "      <th>ListingCreationDate</th>\n",
       "      <th>Term</th>\n",
       "      <th>LoanStatus</th>\n",
       "      <th>ClosedDate</th>\n",
       "      <th>BorrowerAPR</th>\n",
       "      <th>BorrowerRate</th>\n",
       "      <th>LenderYield</th>\n",
       "      <th>ProsperRating (Alpha)</th>\n",
       "      <th>ProsperScore</th>\n",
       "      <th>ListingCategory (numeric)</th>\n",
       "      <th>...</th>\n",
       "      <th>EmploymentStatus</th>\n",
       "      <th>AmountDelinquent</th>\n",
       "      <th>StatedMonthlyIncome</th>\n",
       "      <th>LoanCurrentDaysDelinquent</th>\n",
       "      <th>LoanOriginalAmount</th>\n",
       "      <th>LoanOriginationDate</th>\n",
       "      <th>LoanOriginationQuarter</th>\n",
       "      <th>MonthlyLoanPayment</th>\n",
       "      <th>LP_InterestandFees</th>\n",
       "      <th>Investors</th>\n",
       "    </tr>\n",
       "  </thead>\n",
       "  <tbody>\n",
       "    <tr>\n",
       "      <th>0</th>\n",
       "      <td>2007-08-26 19:09:29.263000000</td>\n",
       "      <td>36</td>\n",
       "      <td>Completed</td>\n",
       "      <td>14-08-2009 0.00</td>\n",
       "      <td>0.16516</td>\n",
       "      <td>0.1580</td>\n",
       "      <td>0.1380</td>\n",
       "      <td>NaN</td>\n",
       "      <td>NaN</td>\n",
       "      <td>None</td>\n",
       "      <td>...</td>\n",
       "      <td>Self-employed</td>\n",
       "      <td>472.0</td>\n",
       "      <td>3083.333333</td>\n",
       "      <td>0</td>\n",
       "      <td>9425</td>\n",
       "      <td>12-09-2007 0.00</td>\n",
       "      <td>Q3 2007</td>\n",
       "      <td>330.43</td>\n",
       "      <td>1971.14</td>\n",
       "      <td>258</td>\n",
       "    </tr>\n",
       "    <tr>\n",
       "      <th>2</th>\n",
       "      <td>2007-01-05 15:00:47.090000000</td>\n",
       "      <td>36</td>\n",
       "      <td>Completed</td>\n",
       "      <td>17-12-2009 0.00</td>\n",
       "      <td>0.28269</td>\n",
       "      <td>0.2750</td>\n",
       "      <td>0.2400</td>\n",
       "      <td>NaN</td>\n",
       "      <td>NaN</td>\n",
       "      <td>None</td>\n",
       "      <td>...</td>\n",
       "      <td>Not available</td>\n",
       "      <td>NaN</td>\n",
       "      <td>2083.333333</td>\n",
       "      <td>0</td>\n",
       "      <td>3001</td>\n",
       "      <td>17-01-2007 0.00</td>\n",
       "      <td>Q1 2007</td>\n",
       "      <td>123.32</td>\n",
       "      <td>1185.63</td>\n",
       "      <td>41</td>\n",
       "    </tr>\n",
       "    <tr>\n",
       "      <th>11</th>\n",
       "      <td>2007-10-09 20:28:33.640000000</td>\n",
       "      <td>36</td>\n",
       "      <td>Completed</td>\n",
       "      <td>07-01-2008 0.00</td>\n",
       "      <td>0.15033</td>\n",
       "      <td>0.1325</td>\n",
       "      <td>0.1225</td>\n",
       "      <td>NaN</td>\n",
       "      <td>NaN</td>\n",
       "      <td>None</td>\n",
       "      <td>...</td>\n",
       "      <td>Full-time</td>\n",
       "      <td>2224.0</td>\n",
       "      <td>1666.666667</td>\n",
       "      <td>0</td>\n",
       "      <td>1000</td>\n",
       "      <td>18-10-2007 0.00</td>\n",
       "      <td>Q4 2007</td>\n",
       "      <td>33.81</td>\n",
       "      <td>11.65</td>\n",
       "      <td>53</td>\n",
       "    </tr>\n",
       "    <tr>\n",
       "      <th>15</th>\n",
       "      <td>2012-04-10 09:14:46.297000000</td>\n",
       "      <td>36</td>\n",
       "      <td>Defaulted</td>\n",
       "      <td>19-12-2012 0.00</td>\n",
       "      <td>0.35797</td>\n",
       "      <td>0.3177</td>\n",
       "      <td>0.3077</td>\n",
       "      <td>HR</td>\n",
       "      <td>5.0</td>\n",
       "      <td>None</td>\n",
       "      <td>...</td>\n",
       "      <td>Other</td>\n",
       "      <td>0.0</td>\n",
       "      <td>5500.000000</td>\n",
       "      <td>140</td>\n",
       "      <td>4000</td>\n",
       "      <td>19-04-2012 0.00</td>\n",
       "      <td>Q2 2012</td>\n",
       "      <td>173.71</td>\n",
       "      <td>311.38</td>\n",
       "      <td>10</td>\n",
       "    </tr>\n",
       "    <tr>\n",
       "      <th>21</th>\n",
       "      <td>2007-11-30 20:33:49.227000000</td>\n",
       "      <td>36</td>\n",
       "      <td>Completed</td>\n",
       "      <td>12-12-2010 0.00</td>\n",
       "      <td>0.21488</td>\n",
       "      <td>0.2075</td>\n",
       "      <td>0.1975</td>\n",
       "      <td>NaN</td>\n",
       "      <td>NaN</td>\n",
       "      <td>None</td>\n",
       "      <td>...</td>\n",
       "      <td>Full-time</td>\n",
       "      <td>5200.0</td>\n",
       "      <td>3750.000000</td>\n",
       "      <td>0</td>\n",
       "      <td>3000</td>\n",
       "      <td>12-12-2007 0.00</td>\n",
       "      <td>Q4 2007</td>\n",
       "      <td>112.64</td>\n",
       "      <td>1061.05</td>\n",
       "      <td>53</td>\n",
       "    </tr>\n",
       "    <tr>\n",
       "      <th>...</th>\n",
       "      <td>...</td>\n",
       "      <td>...</td>\n",
       "      <td>...</td>\n",
       "      <td>...</td>\n",
       "      <td>...</td>\n",
       "      <td>...</td>\n",
       "      <td>...</td>\n",
       "      <td>...</td>\n",
       "      <td>...</td>\n",
       "      <td>...</td>\n",
       "      <td>...</td>\n",
       "      <td>...</td>\n",
       "      <td>...</td>\n",
       "      <td>...</td>\n",
       "      <td>...</td>\n",
       "      <td>...</td>\n",
       "      <td>...</td>\n",
       "      <td>...</td>\n",
       "      <td>...</td>\n",
       "      <td>...</td>\n",
       "      <td>...</td>\n",
       "    </tr>\n",
       "    <tr>\n",
       "      <th>1022</th>\n",
       "      <td>2009-11-14 21:53:13.970000000</td>\n",
       "      <td>36</td>\n",
       "      <td>Completed</td>\n",
       "      <td>27-11-2012 0.00</td>\n",
       "      <td>0.12511</td>\n",
       "      <td>0.1040</td>\n",
       "      <td>0.0940</td>\n",
       "      <td>A</td>\n",
       "      <td>9.0</td>\n",
       "      <td>Other</td>\n",
       "      <td>...</td>\n",
       "      <td>Full-time</td>\n",
       "      <td>0.0</td>\n",
       "      <td>3416.666667</td>\n",
       "      <td>0</td>\n",
       "      <td>5000</td>\n",
       "      <td>27-11-2009 0.00</td>\n",
       "      <td>Q4 2009</td>\n",
       "      <td>162.28</td>\n",
       "      <td>841.15</td>\n",
       "      <td>158</td>\n",
       "    </tr>\n",
       "    <tr>\n",
       "      <th>1023</th>\n",
       "      <td>2006-03-30 11:08:08.503000000</td>\n",
       "      <td>36</td>\n",
       "      <td>Completed</td>\n",
       "      <td>16-05-2006 0.00</td>\n",
       "      <td>0.08684</td>\n",
       "      <td>0.0800</td>\n",
       "      <td>0.0750</td>\n",
       "      <td>NaN</td>\n",
       "      <td>NaN</td>\n",
       "      <td>None</td>\n",
       "      <td>...</td>\n",
       "      <td>NaN</td>\n",
       "      <td>NaN</td>\n",
       "      <td>8333.333333</td>\n",
       "      <td>0</td>\n",
       "      <td>5000</td>\n",
       "      <td>05-04-2006 0.00</td>\n",
       "      <td>Q2 2006</td>\n",
       "      <td>156.68</td>\n",
       "      <td>32.63</td>\n",
       "      <td>51</td>\n",
       "    </tr>\n",
       "    <tr>\n",
       "      <th>1028</th>\n",
       "      <td>2010-03-12 12:13:42.697000000</td>\n",
       "      <td>36</td>\n",
       "      <td>Completed</td>\n",
       "      <td>23-03-2013 0.00</td>\n",
       "      <td>0.26282</td>\n",
       "      <td>0.2399</td>\n",
       "      <td>0.2299</td>\n",
       "      <td>D</td>\n",
       "      <td>7.0</td>\n",
       "      <td>Debt Consolidation</td>\n",
       "      <td>...</td>\n",
       "      <td>Full-time</td>\n",
       "      <td>0.0</td>\n",
       "      <td>2840.083333</td>\n",
       "      <td>0</td>\n",
       "      <td>3500</td>\n",
       "      <td>23-03-2010 0.00</td>\n",
       "      <td>Q1 2010</td>\n",
       "      <td>131.50</td>\n",
       "      <td>1448.61</td>\n",
       "      <td>209</td>\n",
       "    </tr>\n",
       "    <tr>\n",
       "      <th>1032</th>\n",
       "      <td>2008-09-27 05:42:35.203000000</td>\n",
       "      <td>36</td>\n",
       "      <td>Completed</td>\n",
       "      <td>06-10-2011 0.00</td>\n",
       "      <td>0.19855</td>\n",
       "      <td>0.1765</td>\n",
       "      <td>0.1665</td>\n",
       "      <td>NaN</td>\n",
       "      <td>NaN</td>\n",
       "      <td>Debt Consolidation</td>\n",
       "      <td>...</td>\n",
       "      <td>Full-time</td>\n",
       "      <td>0.0</td>\n",
       "      <td>1666.666667</td>\n",
       "      <td>0</td>\n",
       "      <td>5000</td>\n",
       "      <td>06-10-2008 0.00</td>\n",
       "      <td>Q4 2008</td>\n",
       "      <td>179.89</td>\n",
       "      <td>1475.70</td>\n",
       "      <td>176</td>\n",
       "    </tr>\n",
       "    <tr>\n",
       "      <th>1034</th>\n",
       "      <td>2006-12-11 13:41:20.050000000</td>\n",
       "      <td>36</td>\n",
       "      <td>Completed</td>\n",
       "      <td>27-12-2009 0.00</td>\n",
       "      <td>0.10692</td>\n",
       "      <td>0.1000</td>\n",
       "      <td>0.0950</td>\n",
       "      <td>NaN</td>\n",
       "      <td>NaN</td>\n",
       "      <td>None</td>\n",
       "      <td>...</td>\n",
       "      <td>Not available</td>\n",
       "      <td>NaN</td>\n",
       "      <td>4160.000000</td>\n",
       "      <td>0</td>\n",
       "      <td>19500</td>\n",
       "      <td>27-12-2006 0.00</td>\n",
       "      <td>Q4 2006</td>\n",
       "      <td>626.60</td>\n",
       "      <td>3154.17</td>\n",
       "      <td>302</td>\n",
       "    </tr>\n",
       "  </tbody>\n",
       "</table>\n",
       "<p>383 rows × 22 columns</p>\n",
       "</div>"
      ],
      "text/plain": [
       "                ListingCreationDate  Term LoanStatus       ClosedDate  \\\n",
       "0     2007-08-26 19:09:29.263000000    36  Completed  14-08-2009 0.00   \n",
       "2     2007-01-05 15:00:47.090000000    36  Completed  17-12-2009 0.00   \n",
       "11    2007-10-09 20:28:33.640000000    36  Completed  07-01-2008 0.00   \n",
       "15    2012-04-10 09:14:46.297000000    36  Defaulted  19-12-2012 0.00   \n",
       "21    2007-11-30 20:33:49.227000000    36  Completed  12-12-2010 0.00   \n",
       "...                             ...   ...        ...              ...   \n",
       "1022  2009-11-14 21:53:13.970000000    36  Completed  27-11-2012 0.00   \n",
       "1023  2006-03-30 11:08:08.503000000    36  Completed  16-05-2006 0.00   \n",
       "1028  2010-03-12 12:13:42.697000000    36  Completed  23-03-2013 0.00   \n",
       "1032  2008-09-27 05:42:35.203000000    36  Completed  06-10-2011 0.00   \n",
       "1034  2006-12-11 13:41:20.050000000    36  Completed  27-12-2009 0.00   \n",
       "\n",
       "      BorrowerAPR  BorrowerRate  LenderYield ProsperRating (Alpha)  \\\n",
       "0         0.16516        0.1580       0.1380                   NaN   \n",
       "2         0.28269        0.2750       0.2400                   NaN   \n",
       "11        0.15033        0.1325       0.1225                   NaN   \n",
       "15        0.35797        0.3177       0.3077                    HR   \n",
       "21        0.21488        0.2075       0.1975                   NaN   \n",
       "...           ...           ...          ...                   ...   \n",
       "1022      0.12511        0.1040       0.0940                     A   \n",
       "1023      0.08684        0.0800       0.0750                   NaN   \n",
       "1028      0.26282        0.2399       0.2299                     D   \n",
       "1032      0.19855        0.1765       0.1665                   NaN   \n",
       "1034      0.10692        0.1000       0.0950                   NaN   \n",
       "\n",
       "      ProsperScore ListingCategory (numeric)  ... EmploymentStatus  \\\n",
       "0              NaN                      None  ...    Self-employed   \n",
       "2              NaN                      None  ...    Not available   \n",
       "11             NaN                      None  ...        Full-time   \n",
       "15             5.0                      None  ...            Other   \n",
       "21             NaN                      None  ...        Full-time   \n",
       "...            ...                       ...  ...              ...   \n",
       "1022           9.0                     Other  ...        Full-time   \n",
       "1023           NaN                      None  ...              NaN   \n",
       "1028           7.0        Debt Consolidation  ...        Full-time   \n",
       "1032           NaN        Debt Consolidation  ...        Full-time   \n",
       "1034           NaN                      None  ...    Not available   \n",
       "\n",
       "     AmountDelinquent StatedMonthlyIncome  LoanCurrentDaysDelinquent  \\\n",
       "0               472.0         3083.333333                          0   \n",
       "2                 NaN         2083.333333                          0   \n",
       "11             2224.0         1666.666667                          0   \n",
       "15                0.0         5500.000000                        140   \n",
       "21             5200.0         3750.000000                          0   \n",
       "...               ...                 ...                        ...   \n",
       "1022              0.0         3416.666667                          0   \n",
       "1023              NaN         8333.333333                          0   \n",
       "1028              0.0         2840.083333                          0   \n",
       "1032              0.0         1666.666667                          0   \n",
       "1034              NaN         4160.000000                          0   \n",
       "\n",
       "      LoanOriginalAmount  LoanOriginationDate  LoanOriginationQuarter  \\\n",
       "0                   9425      12-09-2007 0.00                 Q3 2007   \n",
       "2                   3001      17-01-2007 0.00                 Q1 2007   \n",
       "11                  1000      18-10-2007 0.00                 Q4 2007   \n",
       "15                  4000      19-04-2012 0.00                 Q2 2012   \n",
       "21                  3000      12-12-2007 0.00                 Q4 2007   \n",
       "...                  ...                  ...                     ...   \n",
       "1022                5000      27-11-2009 0.00                 Q4 2009   \n",
       "1023                5000      05-04-2006 0.00                 Q2 2006   \n",
       "1028                3500      23-03-2010 0.00                 Q1 2010   \n",
       "1032                5000      06-10-2008 0.00                 Q4 2008   \n",
       "1034               19500      27-12-2006 0.00                 Q4 2006   \n",
       "\n",
       "     MonthlyLoanPayment LP_InterestandFees  Investors  \n",
       "0                330.43            1971.14        258  \n",
       "2                123.32            1185.63         41  \n",
       "11                33.81              11.65         53  \n",
       "15               173.71             311.38         10  \n",
       "21               112.64            1061.05         53  \n",
       "...                 ...                ...        ...  \n",
       "1022             162.28             841.15        158  \n",
       "1023             156.68              32.63         51  \n",
       "1028             131.50            1448.61        209  \n",
       "1032             179.89            1475.70        176  \n",
       "1034             626.60            3154.17        302  \n",
       "\n",
       "[383 rows x 22 columns]"
      ]
     },
     "execution_count": 42,
     "metadata": {},
     "output_type": "execute_result"
    }
   ],
   "source": [
    "df2"
   ]
  },
  {
   "cell_type": "code",
   "execution_count": 43,
   "metadata": {
    "execution": {
     "iopub.execute_input": "2022-07-30T13:31:39.860992Z",
     "iopub.status.busy": "2022-07-30T13:31:39.860668Z",
     "iopub.status.idle": "2022-07-30T13:31:39.986062Z",
     "shell.execute_reply": "2022-07-30T13:31:39.985677Z",
     "shell.execute_reply.started": "2022-07-30T13:31:39.860964Z"
    }
   },
   "outputs": [
    {
     "data": {
      "image/png": "[encoded data removed]",
      "text/plain": [
       "<Figure size 864x504 with 1 Axes>"
      ]
     },
     "metadata": {
      "needs_background": "light"
     },
     "output_type": "display_data"
    }
   ],
   "source": [
    "plt.figure(figsize = (12, 7))\n",
    "sns.boxplot(data = df2, \n",
    "           x = 'ListingCategory (numeric)', \n",
    "           y = 'LoanOriginalAmount', \n",
    "           hue = 'LoanStatus')\n",
    "plt.show()"
   ]
  },
  {
   "cell_type": "code",
   "execution_count": 44,
   "metadata": {
    "execution": {
     "iopub.execute_input": "2022-07-30T13:31:40.178783Z",
     "iopub.status.busy": "2022-07-30T13:31:40.178618Z",
     "iopub.status.idle": "2022-07-30T13:31:40.180710Z",
     "shell.execute_reply": "2022-07-30T13:31:40.180358Z",
     "shell.execute_reply.started": "2022-07-30T13:31:40.178764Z"
    }
   },
   "outputs": [],
   "source": [
    "# observation 1: completed category again dominates in all Listing categories, except debt consolidation where defaulted has the highest share as compared to completed. \n",
    "# observation 2: the outliers in LoanOriginalAmount is always on the higher side. "
   ]
  },
  {
   "cell_type": "code",
   "execution_count": null,
   "metadata": {},
   "outputs": [],
   "source": []
  },
  {
   "cell_type": "code",
   "execution_count": null,
   "metadata": {},
   "outputs": [],
   "source": []
  },
  {
   "cell_type": "code",
   "execution_count": null,
   "metadata": {},
   "outputs": [],
   "source": []
  },
  {
   "cell_type": "code",
   "execution_count": null,
   "metadata": {},
   "outputs": [],
   "source": []
  },
  {
   "cell_type": "code",
   "execution_count": null,
   "metadata": {},
   "outputs": [],
   "source": []
  },
  {
   "cell_type": "code",
   "execution_count": null,
   "metadata": {},
   "outputs": [],
   "source": []
  }
 ],
 "metadata": {
  "kernelspec": {
   "display_name": "Python 3 (ipykernel)",
   "language": "python",
   "name": "python3"
  },
  "language_info": {
   "codemirror_mode": {
    "name": "ipython",
    "version": 3
   },
   "file_extension": ".py",
   "mimetype": "text/x-python",
   "name": "python",
   "nbconvert_exporter": "python",
   "pygments_lexer": "ipython3",
   "version": "3.10.3"
  }
 },
 "nbformat": 4,
 "nbformat_minor": 4
}
