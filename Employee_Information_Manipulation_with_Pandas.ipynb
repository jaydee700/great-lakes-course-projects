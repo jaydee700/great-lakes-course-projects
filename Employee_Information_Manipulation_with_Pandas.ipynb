{
 "cells": [
  {
   "cell_type": "markdown",
   "id": "64169e83",
   "metadata": {
    "id": "64169e83"
   },
   "source": [
    "A Company has its offices across all locations of India. These locations are categorized with respect to zones.  The company has decided to give medical expenditure benefits to their employees.  The company has collected the medical expenditure of all the employees for the year 2019.  The company also collected some other health and family related data of all employees like number of dependents, age, bmi, smoking and alcoholic habits.\n",
    " Answer the following questions to provide insight into the collected data.\n",
    "Dataset details ** \n",
    "id: Employee id - unique\n",
    "age: age of primary beneficiary\n",
    "sex: Gender data - female, male\n",
    "bmi: Body mass index, providing an understanding of body, weights that are relatively high or low relative to height,\n",
    "objective index of body weight (kg / m ^ 2) using the ratio of height to weight, ideally 18.5 to 24.9\n",
    "dependent: Number of children other family members who are not earning and dependent on employees.\n",
    "alcohol: Alcohol consumption habit. Possible values - daily, weekend, party, no, rarely\n",
    "smoker: Smoking habit.\n",
    "zone: The office location zones. Possible values - east, west, south, north, northeast, southeast, southwest, northwest.\n",
    "expenditure: Individual medical expenditure by employees during year 2019"
   ]
  },
  {
   "cell_type": "code",
   "execution_count": 4,
   "id": "8caf2138",
   "metadata": {
    "execution": {
     "iopub.execute_input": "2022-07-31T05:33:44.796309Z",
     "iopub.status.busy": "2022-07-31T05:33:44.795604Z",
     "iopub.status.idle": "2022-07-31T05:33:44.807491Z",
     "shell.execute_reply": "2022-07-31T05:33:44.802707Z",
     "shell.execute_reply.started": "2022-07-31T05:33:44.796252Z"
    },
    "executionInfo": {
     "elapsed": 2152,
     "status": "ok",
     "timestamp": 1635786839075,
     "user": {
      "displayName": "Joseph D",
      "photoUrl": "https://lh3.googleusercontent.com/a-/AOh14GhmnaLZBqoGu8UCJy8JHtd3gqaxDA-t8FbmSeG9Sg=s64",
      "userId": "10910041272242312414"
     },
     "user_tz": -240
    },
    "id": "8caf2138",
    "tags": []
   },
   "outputs": [],
   "source": [
    "import numpy as np\n",
    "import pandas as pd\n",
    "import matplotlib.pyplot as plt\n",
    "import seaborn as sns \n",
    "import plotly.express as px \n",
    "import warnings\n",
    "warnings.filterwarnings(action = 'ignore')"
   ]
  },
  {
   "cell_type": "code",
   "execution_count": 5,
   "id": "b17795fe",
   "metadata": {
    "execution": {
     "iopub.execute_input": "2022-07-31T05:33:44.995913Z",
     "iopub.status.busy": "2022-07-31T05:33:44.995558Z",
     "iopub.status.idle": "2022-07-31T05:33:45.003685Z",
     "shell.execute_reply": "2022-07-31T05:33:45.002986Z",
     "shell.execute_reply.started": "2022-07-31T05:33:44.995881Z"
    },
    "id": "b17795fe",
    "tags": []
   },
   "outputs": [],
   "source": [
    " # Read the dataset and do primary study of data"
   ]
  },
  {
   "cell_type": "code",
   "execution_count": 6,
   "id": "b886b4b1",
   "metadata": {
    "execution": {
     "iopub.execute_input": "2022-07-31T05:33:45.226934Z",
     "iopub.status.busy": "2022-07-31T05:33:45.225534Z",
     "iopub.status.idle": "2022-07-31T05:33:45.241624Z",
     "shell.execute_reply": "2022-07-31T05:33:45.241015Z",
     "shell.execute_reply.started": "2022-07-31T05:33:45.226881Z"
    },
    "executionInfo": {
     "elapsed": 348,
     "status": "ok",
     "timestamp": 1635786863625,
     "user": {
      "displayName": "Joseph D",
      "photoUrl": "https://lh3.googleusercontent.com/a-/AOh14GhmnaLZBqoGu8UCJy8JHtd3gqaxDA-t8FbmSeG9Sg=s64",
      "userId": "10910041272242312414"
     },
     "user_tz": -240
    },
    "id": "b886b4b1",
    "tags": []
   },
   "outputs": [],
   "source": [
    "df_emp_health = pd.read_csv('emp_health.csv')"
   ]
  },
  {
   "cell_type": "code",
   "execution_count": 7,
   "id": "1264f5bc",
   "metadata": {
    "execution": {
     "iopub.execute_input": "2022-07-31T05:33:46.440622Z",
     "iopub.status.busy": "2022-07-31T05:33:46.439934Z",
     "iopub.status.idle": "2022-07-31T05:33:46.448550Z",
     "shell.execute_reply": "2022-07-31T05:33:46.447403Z",
     "shell.execute_reply.started": "2022-07-31T05:33:46.440569Z"
    },
    "id": "1264f5bc",
    "tags": []
   },
   "outputs": [],
   "source": [
    "# a. Reading some rows of dataset"
   ]
  },
  {
   "cell_type": "code",
   "execution_count": 8,
   "id": "a6ee3546",
   "metadata": {
    "colab": {
     "base_uri": "https://localhost:8080/",
     "height": 204
    },
    "execution": {
     "iopub.execute_input": "2022-07-31T05:33:46.719755Z",
     "iopub.status.busy": "2022-07-31T05:33:46.719208Z",
     "iopub.status.idle": "2022-07-31T05:33:46.741038Z",
     "shell.execute_reply": "2022-07-31T05:33:46.740573Z",
     "shell.execute_reply.started": "2022-07-31T05:33:46.719715Z"
    },
    "executionInfo": {
     "elapsed": 358,
     "status": "ok",
     "timestamp": 1635786869998,
     "user": {
      "displayName": "Joseph D",
      "photoUrl": "https://lh3.googleusercontent.com/a-/AOh14GhmnaLZBqoGu8UCJy8JHtd3gqaxDA-t8FbmSeG9Sg=s64",
      "userId": "10910041272242312414"
     },
     "user_tz": -240
    },
    "id": "a6ee3546",
    "outputId": "a27abfb3-ecfe-4cbf-a790-a3a67d8a528e"
   },
   "outputs": [
    {
     "data": {
      "text/html": [
       "<div>\n",
       "<style scoped>\n",
       "    .dataframe tbody tr th:only-of-type {\n",
       "        vertical-align: middle;\n",
       "    }\n",
       "\n",
       "    .dataframe tbody tr th {\n",
       "        vertical-align: top;\n",
       "    }\n",
       "\n",
       "    .dataframe thead th {\n",
       "        text-align: right;\n",
       "    }\n",
       "</style>\n",
       "<table border=\"1\" class=\"dataframe\">\n",
       "  <thead>\n",
       "    <tr style=\"text-align: right;\">\n",
       "      <th></th>\n",
       "      <th>id</th>\n",
       "      <th>age</th>\n",
       "      <th>sex</th>\n",
       "      <th>bmi</th>\n",
       "      <th>dependent</th>\n",
       "      <th>alcohol</th>\n",
       "      <th>smoke</th>\n",
       "      <th>zone</th>\n",
       "      <th>expenditure</th>\n",
       "    </tr>\n",
       "  </thead>\n",
       "  <tbody>\n",
       "    <tr>\n",
       "      <th>29</th>\n",
       "      <td>i10041</td>\n",
       "      <td>31</td>\n",
       "      <td>male</td>\n",
       "      <td>36.300</td>\n",
       "      <td>2</td>\n",
       "      <td>daily</td>\n",
       "      <td>yes</td>\n",
       "      <td>southwest</td>\n",
       "      <td>38711.00000</td>\n",
       "    </tr>\n",
       "    <tr>\n",
       "      <th>656</th>\n",
       "      <td>i10668</td>\n",
       "      <td>26</td>\n",
       "      <td>female</td>\n",
       "      <td>42.400</td>\n",
       "      <td>1</td>\n",
       "      <td>daily</td>\n",
       "      <td>no</td>\n",
       "      <td>west</td>\n",
       "      <td>3410.32400</td>\n",
       "    </tr>\n",
       "    <tr>\n",
       "      <th>511</th>\n",
       "      <td>i10523</td>\n",
       "      <td>27</td>\n",
       "      <td>male</td>\n",
       "      <td>33.660</td>\n",
       "      <td>0</td>\n",
       "      <td>weekend</td>\n",
       "      <td>no</td>\n",
       "      <td>southeast</td>\n",
       "      <td>2498.41440</td>\n",
       "    </tr>\n",
       "    <tr>\n",
       "      <th>618</th>\n",
       "      <td>i10630</td>\n",
       "      <td>19</td>\n",
       "      <td>female</td>\n",
       "      <td>33.110</td>\n",
       "      <td>0</td>\n",
       "      <td>no</td>\n",
       "      <td>yes</td>\n",
       "      <td>east</td>\n",
       "      <td>34439.85590</td>\n",
       "    </tr>\n",
       "    <tr>\n",
       "      <th>3</th>\n",
       "      <td>i10015</td>\n",
       "      <td>33</td>\n",
       "      <td>male</td>\n",
       "      <td>22.705</td>\n",
       "      <td>0</td>\n",
       "      <td>daily</td>\n",
       "      <td>no</td>\n",
       "      <td>northwest</td>\n",
       "      <td>21984.47061</td>\n",
       "    </tr>\n",
       "  </tbody>\n",
       "</table>\n",
       "</div>"
      ],
      "text/plain": [
       "         id  age     sex     bmi  dependent  alcohol smoke       zone  \\\n",
       "29   i10041   31    male  36.300          2    daily   yes  southwest   \n",
       "656  i10668   26  female  42.400          1    daily    no       west   \n",
       "511  i10523   27    male  33.660          0  weekend    no  southeast   \n",
       "618  i10630   19  female  33.110          0       no   yes       east   \n",
       "3    i10015   33    male  22.705          0    daily    no  northwest   \n",
       "\n",
       "     expenditure  \n",
       "29   38711.00000  \n",
       "656   3410.32400  \n",
       "511   2498.41440  \n",
       "618  34439.85590  \n",
       "3    21984.47061  "
      ]
     },
     "execution_count": 8,
     "metadata": {},
     "output_type": "execute_result"
    }
   ],
   "source": [
    "df_emp_health.sample(5)"
   ]
  },
  {
   "cell_type": "code",
   "execution_count": 9,
   "id": "1b408006",
   "metadata": {
    "execution": {
     "iopub.execute_input": "2022-07-31T05:33:46.889545Z",
     "iopub.status.busy": "2022-07-31T05:33:46.889073Z",
     "iopub.status.idle": "2022-07-31T05:33:46.894720Z",
     "shell.execute_reply": "2022-07-31T05:33:46.893316Z",
     "shell.execute_reply.started": "2022-07-31T05:33:46.889521Z"
    },
    "id": "1b408006"
   },
   "outputs": [],
   "source": [
    "# b. Learn data types of all features"
   ]
  },
  {
   "cell_type": "code",
   "execution_count": 10,
   "id": "cccff0e0",
   "metadata": {
    "colab": {
     "base_uri": "https://localhost:8080/"
    },
    "execution": {
     "iopub.execute_input": "2022-07-31T05:33:47.396321Z",
     "iopub.status.busy": "2022-07-31T05:33:47.395815Z",
     "iopub.status.idle": "2022-07-31T05:33:47.415180Z",
     "shell.execute_reply": "2022-07-31T05:33:47.414751Z",
     "shell.execute_reply.started": "2022-07-31T05:33:47.396285Z"
    },
    "executionInfo": {
     "elapsed": 382,
     "status": "ok",
     "timestamp": 1635786872467,
     "user": {
      "displayName": "Joseph D",
      "photoUrl": "https://lh3.googleusercontent.com/a-/AOh14GhmnaLZBqoGu8UCJy8JHtd3gqaxDA-t8FbmSeG9Sg=s64",
      "userId": "10910041272242312414"
     },
     "user_tz": -240
    },
    "id": "cccff0e0",
    "outputId": "b0f8f45b-3e76-484a-960b-b63080a38980"
   },
   "outputs": [
    {
     "name": "stdout",
     "output_type": "stream",
     "text": [
      "<class 'pandas.core.frame.DataFrame'>\n",
      "RangeIndex: 1338 entries, 0 to 1337\n",
      "Data columns (total 9 columns):\n",
      " #   Column       Non-Null Count  Dtype  \n",
      "---  ------       --------------  -----  \n",
      " 0   id           1338 non-null   object \n",
      " 1   age          1338 non-null   int64  \n",
      " 2   sex          1338 non-null   object \n",
      " 3   bmi          1338 non-null   float64\n",
      " 4   dependent    1338 non-null   int64  \n",
      " 5   alcohol      1338 non-null   object \n",
      " 6   smoke        1338 non-null   object \n",
      " 7   zone         1338 non-null   object \n",
      " 8   expenditure  1338 non-null   float64\n",
      "dtypes: float64(2), int64(2), object(5)\n",
      "memory usage: 94.2+ KB\n"
     ]
    }
   ],
   "source": [
    "df_emp_health.info()"
   ]
  },
  {
   "cell_type": "code",
   "execution_count": 11,
   "id": "aaa170f8",
   "metadata": {
    "execution": {
     "iopub.execute_input": "2022-07-31T05:33:47.473158Z",
     "iopub.status.busy": "2022-07-31T05:33:47.472876Z",
     "iopub.status.idle": "2022-07-31T05:33:47.479734Z",
     "shell.execute_reply": "2022-07-31T05:33:47.478526Z",
     "shell.execute_reply.started": "2022-07-31T05:33:47.473136Z"
    },
    "id": "aaa170f8"
   },
   "outputs": [],
   "source": [
    "# c. See the statistical properties of the data."
   ]
  },
  {
   "cell_type": "code",
   "execution_count": 12,
   "id": "10eeaabc",
   "metadata": {
    "colab": {
     "base_uri": "https://localhost:8080/",
     "height": 297
    },
    "execution": {
     "iopub.execute_input": "2022-07-31T05:33:47.556811Z",
     "iopub.status.busy": "2022-07-31T05:33:47.556415Z",
     "iopub.status.idle": "2022-07-31T05:33:47.578952Z",
     "shell.execute_reply": "2022-07-31T05:33:47.578709Z",
     "shell.execute_reply.started": "2022-07-31T05:33:47.556779Z"
    },
    "executionInfo": {
     "elapsed": 370,
     "status": "ok",
     "timestamp": 1635786875068,
     "user": {
      "displayName": "Joseph D",
      "photoUrl": "https://lh3.googleusercontent.com/a-/AOh14GhmnaLZBqoGu8UCJy8JHtd3gqaxDA-t8FbmSeG9Sg=s64",
      "userId": "10910041272242312414"
     },
     "user_tz": -240
    },
    "id": "10eeaabc",
    "outputId": "84f19fc9-a5af-4e40-e960-d702d2078530"
   },
   "outputs": [
    {
     "data": {
      "text/html": [
       "<div>\n",
       "<style scoped>\n",
       "    .dataframe tbody tr th:only-of-type {\n",
       "        vertical-align: middle;\n",
       "    }\n",
       "\n",
       "    .dataframe tbody tr th {\n",
       "        vertical-align: top;\n",
       "    }\n",
       "\n",
       "    .dataframe thead th {\n",
       "        text-align: right;\n",
       "    }\n",
       "</style>\n",
       "<table border=\"1\" class=\"dataframe\">\n",
       "  <thead>\n",
       "    <tr style=\"text-align: right;\">\n",
       "      <th></th>\n",
       "      <th>age</th>\n",
       "      <th>bmi</th>\n",
       "      <th>dependent</th>\n",
       "      <th>expenditure</th>\n",
       "    </tr>\n",
       "  </thead>\n",
       "  <tbody>\n",
       "    <tr>\n",
       "      <th>count</th>\n",
       "      <td>1338.000000</td>\n",
       "      <td>1338.000000</td>\n",
       "      <td>1338.000000</td>\n",
       "      <td>1338.000000</td>\n",
       "    </tr>\n",
       "    <tr>\n",
       "      <th>mean</th>\n",
       "      <td>39.207025</td>\n",
       "      <td>30.663397</td>\n",
       "      <td>1.094918</td>\n",
       "      <td>13270.422265</td>\n",
       "    </tr>\n",
       "    <tr>\n",
       "      <th>std</th>\n",
       "      <td>14.049960</td>\n",
       "      <td>6.098187</td>\n",
       "      <td>1.205493</td>\n",
       "      <td>12110.011237</td>\n",
       "    </tr>\n",
       "    <tr>\n",
       "      <th>min</th>\n",
       "      <td>18.000000</td>\n",
       "      <td>15.960000</td>\n",
       "      <td>0.000000</td>\n",
       "      <td>1121.873900</td>\n",
       "    </tr>\n",
       "    <tr>\n",
       "      <th>25%</th>\n",
       "      <td>27.000000</td>\n",
       "      <td>26.296250</td>\n",
       "      <td>0.000000</td>\n",
       "      <td>4740.287150</td>\n",
       "    </tr>\n",
       "    <tr>\n",
       "      <th>50%</th>\n",
       "      <td>39.000000</td>\n",
       "      <td>30.400000</td>\n",
       "      <td>1.000000</td>\n",
       "      <td>9382.033000</td>\n",
       "    </tr>\n",
       "    <tr>\n",
       "      <th>75%</th>\n",
       "      <td>51.000000</td>\n",
       "      <td>34.693750</td>\n",
       "      <td>2.000000</td>\n",
       "      <td>16639.912515</td>\n",
       "    </tr>\n",
       "    <tr>\n",
       "      <th>max</th>\n",
       "      <td>64.000000</td>\n",
       "      <td>53.130000</td>\n",
       "      <td>5.000000</td>\n",
       "      <td>63770.428010</td>\n",
       "    </tr>\n",
       "  </tbody>\n",
       "</table>\n",
       "</div>"
      ],
      "text/plain": [
       "               age          bmi    dependent   expenditure\n",
       "count  1338.000000  1338.000000  1338.000000   1338.000000\n",
       "mean     39.207025    30.663397     1.094918  13270.422265\n",
       "std      14.049960     6.098187     1.205493  12110.011237\n",
       "min      18.000000    15.960000     0.000000   1121.873900\n",
       "25%      27.000000    26.296250     0.000000   4740.287150\n",
       "50%      39.000000    30.400000     1.000000   9382.033000\n",
       "75%      51.000000    34.693750     2.000000  16639.912515\n",
       "max      64.000000    53.130000     5.000000  63770.428010"
      ]
     },
     "execution_count": 12,
     "metadata": {},
     "output_type": "execute_result"
    }
   ],
   "source": [
    "df_emp_health.describe()"
   ]
  },
  {
   "cell_type": "code",
   "execution_count": 13,
   "id": "c9727148",
   "metadata": {
    "execution": {
     "iopub.execute_input": "2022-07-31T05:33:47.637451Z",
     "iopub.status.busy": "2022-07-31T05:33:47.636986Z",
     "iopub.status.idle": "2022-07-31T05:33:47.645452Z",
     "shell.execute_reply": "2022-07-31T05:33:47.644677Z",
     "shell.execute_reply.started": "2022-07-31T05:33:47.637408Z"
    },
    "id": "c9727148"
   },
   "outputs": [],
   "source": [
    "# 1. How many employees above 50 age smoke, what is their average expenditure on health management?"
   ]
  },
  {
   "cell_type": "code",
   "execution_count": 14,
   "id": "a22e41ff",
   "metadata": {
    "colab": {
     "base_uri": "https://localhost:8080/"
    },
    "execution": {
     "iopub.execute_input": "2022-07-31T05:33:48.008850Z",
     "iopub.status.busy": "2022-07-31T05:33:48.008409Z",
     "iopub.status.idle": "2022-07-31T05:33:48.024746Z",
     "shell.execute_reply": "2022-07-31T05:33:48.023610Z",
     "shell.execute_reply.started": "2022-07-31T05:33:48.008820Z"
    },
    "executionInfo": {
     "elapsed": 418,
     "status": "ok",
     "timestamp": 1635786877901,
     "user": {
      "displayName": "Joseph D",
      "photoUrl": "https://lh3.googleusercontent.com/a-/AOh14GhmnaLZBqoGu8UCJy8JHtd3gqaxDA-t8FbmSeG9Sg=s64",
      "userId": "10910041272242312414"
     },
     "user_tz": -240
    },
    "id": "a22e41ff",
    "outputId": "d66179e1-a735-4ea4-9f4d-d493f25efb6a"
   },
   "outputs": [
    {
     "name": "stdout",
     "output_type": "stream",
     "text": [
      "The average expenditure on health management of employees above 50 that smoke is: 38820\n"
     ]
    }
   ],
   "source": [
    "print('The average expenditure on health management of employees above 50 that smoke is:', \n",
    "     round(df_emp_health[(df_emp_health['age'] > 50) & (df_emp_health['smoke'] == 'yes')]['expenditure'].mean()))"
   ]
  },
  {
   "cell_type": "code",
   "execution_count": 15,
   "id": "0269515e",
   "metadata": {
    "execution": {
     "iopub.execute_input": "2022-07-31T05:33:48.504060Z",
     "iopub.status.busy": "2022-07-31T05:33:48.503358Z",
     "iopub.status.idle": "2022-07-31T05:33:48.511661Z",
     "shell.execute_reply": "2022-07-31T05:33:48.509802Z",
     "shell.execute_reply.started": "2022-07-31T05:33:48.504008Z"
    },
    "id": "0269515e"
   },
   "outputs": [],
   "source": [
    "# 2. How many female employees did not consume alcohol daily. What is their proportion with respect to total female employees?"
   ]
  },
  {
   "cell_type": "code",
   "execution_count": 16,
   "id": "4288441e",
   "metadata": {
    "colab": {
     "base_uri": "https://localhost:8080/"
    },
    "execution": {
     "iopub.execute_input": "2022-07-31T05:33:48.582221Z",
     "iopub.status.busy": "2022-07-31T05:33:48.581835Z",
     "iopub.status.idle": "2022-07-31T05:33:48.601568Z",
     "shell.execute_reply": "2022-07-31T05:33:48.599910Z",
     "shell.execute_reply.started": "2022-07-31T05:33:48.582188Z"
    },
    "executionInfo": {
     "elapsed": 9,
     "status": "ok",
     "timestamp": 1635786881696,
     "user": {
      "displayName": "Joseph D",
      "photoUrl": "https://lh3.googleusercontent.com/a-/AOh14GhmnaLZBqoGu8UCJy8JHtd3gqaxDA-t8FbmSeG9Sg=s64",
      "userId": "10910041272242312414"
     },
     "user_tz": -240
    },
    "id": "4288441e",
    "outputId": "c9438efa-9d89-4255-986f-1468dd779195"
   },
   "outputs": [
    {
     "name": "stdout",
     "output_type": "stream",
     "text": [
      "The number of female employees that did not consume alcohol daily is: 453\n",
      "The total number of female employees is: 662\n",
      "The proportion of the female employees that did not consume alcohol daily to the total number of female employees is: 0.68\n"
     ]
    }
   ],
   "source": [
    "print('The number of female employees that did not consume alcohol daily is:', \n",
    "      df_emp_health[(df_emp_health['sex'] == 'female') & (df_emp_health['alcohol'] != 'daily')]['id'].count())\n",
    "print('The total number of female employees is:', df_emp_health[df_emp_health['sex'] == 'female']['id'].count())\n",
    "print('The proportion of the female employees that did not consume alcohol daily to the total number of female employees is:', \n",
    "     round(df_emp_health[(df_emp_health['sex'] == 'female') & (df_emp_health['alcohol'] != 'daily')]['id'].count()/df_emp_health[df_emp_health['sex'] == 'female']['id'].count(), 2))"
   ]
  },
  {
   "cell_type": "code",
   "execution_count": 17,
   "id": "aebd6715",
   "metadata": {
    "execution": {
     "iopub.execute_input": "2022-07-31T05:33:48.662394Z",
     "iopub.status.busy": "2022-07-31T05:33:48.662032Z",
     "iopub.status.idle": "2022-07-31T05:33:48.670391Z",
     "shell.execute_reply": "2022-07-31T05:33:48.669549Z",
     "shell.execute_reply.started": "2022-07-31T05:33:48.662362Z"
    },
    "id": "aebd6715"
   },
   "outputs": [],
   "source": [
    "# 3. Display zone wise average expenditure of employees on health"
   ]
  },
  {
   "cell_type": "code",
   "execution_count": 18,
   "id": "2b2e25a1",
   "metadata": {
    "colab": {
     "base_uri": "https://localhost:8080/"
    },
    "execution": {
     "iopub.execute_input": "2022-07-31T05:33:48.749289Z",
     "iopub.status.busy": "2022-07-31T05:33:48.748969Z",
     "iopub.status.idle": "2022-07-31T05:33:48.763479Z",
     "shell.execute_reply": "2022-07-31T05:33:48.762745Z",
     "shell.execute_reply.started": "2022-07-31T05:33:48.749267Z"
    },
    "executionInfo": {
     "elapsed": 12,
     "status": "ok",
     "timestamp": 1635786884585,
     "user": {
      "displayName": "Joseph D",
      "photoUrl": "https://lh3.googleusercontent.com/a-/AOh14GhmnaLZBqoGu8UCJy8JHtd3gqaxDA-t8FbmSeG9Sg=s64",
      "userId": "10910041272242312414"
     },
     "user_tz": -240
    },
    "id": "2b2e25a1",
    "outputId": "a482edd6-6077-4036-e058-d039582f35e1"
   },
   "outputs": [
    {
     "name": "stdout",
     "output_type": "stream",
     "text": [
      "The zone-wise average expenditure of employees on health is: \n",
      " zone\n",
      "east         13775.0\n",
      "north        14103.0\n",
      "northeast    13695.0\n",
      "northwest    12152.0\n",
      "south        14716.0\n",
      "southeast    14453.0\n",
      "southwest    12717.0\n",
      "west         12183.0\n",
      "Name: expenditure, dtype: float64\n"
     ]
    }
   ],
   "source": [
    "print('The zone-wise average expenditure of employees on health is:','\\n', \n",
    "      round(df_emp_health.groupby('zone')['expenditure'].mean()))"
   ]
  },
  {
   "cell_type": "code",
   "execution_count": 19,
   "id": "6f0e3150",
   "metadata": {
    "execution": {
     "iopub.execute_input": "2022-07-31T05:33:48.832118Z",
     "iopub.status.busy": "2022-07-31T05:33:48.831805Z",
     "iopub.status.idle": "2022-07-31T05:33:48.841705Z",
     "shell.execute_reply": "2022-07-31T05:33:48.838573Z",
     "shell.execute_reply.started": "2022-07-31T05:33:48.832096Z"
    },
    "id": "6f0e3150"
   },
   "outputs": [],
   "source": [
    "# 4. Employees of which zone did maximum expenditure on health"
   ]
  },
  {
   "cell_type": "code",
   "execution_count": 20,
   "id": "7316e4aa",
   "metadata": {
    "colab": {
     "base_uri": "https://localhost:8080/"
    },
    "execution": {
     "iopub.execute_input": "2022-07-31T05:33:49.243647Z",
     "iopub.status.busy": "2022-07-31T05:33:49.243218Z",
     "iopub.status.idle": "2022-07-31T05:33:49.260358Z",
     "shell.execute_reply": "2022-07-31T05:33:49.259780Z",
     "shell.execute_reply.started": "2022-07-31T05:33:49.243622Z"
    },
    "executionInfo": {
     "elapsed": 347,
     "status": "ok",
     "timestamp": 1635786887340,
     "user": {
      "displayName": "Joseph D",
      "photoUrl": "https://lh3.googleusercontent.com/a-/AOh14GhmnaLZBqoGu8UCJy8JHtd3gqaxDA-t8FbmSeG9Sg=s64",
      "userId": "10910041272242312414"
     },
     "user_tz": -240
    },
    "id": "7316e4aa",
    "outputId": "311cd469-fe9f-4f72-b2a3-209c473bff2b"
   },
   "outputs": [
    {
     "name": "stdout",
     "output_type": "stream",
     "text": [
      "zone\n",
      "east         False\n",
      "north        False\n",
      "northeast    False\n",
      "northwest    False\n",
      "south        False\n",
      "southeast     True\n",
      "southwest    False\n",
      "west         False\n",
      "Name: expenditure, dtype: bool\n",
      "\n",
      "The maximum expenditure spent on a zone was South-East, with a value of 63770\n"
     ]
    }
   ],
   "source": [
    "print(df_emp_health.groupby('zone')['expenditure'].max() == (df_emp_health.groupby('zone')['expenditure'].max()).max())\n",
    "print('')\n",
    "print('The maximum expenditure spent on a zone was South-East, with a value of',\n",
    "     round(df_emp_health.groupby('zone')['expenditure'].max().max()))"
   ]
  },
  {
   "cell_type": "code",
   "execution_count": 21,
   "id": "08c32813",
   "metadata": {
    "execution": {
     "iopub.execute_input": "2022-07-31T05:33:49.739997Z",
     "iopub.status.busy": "2022-07-31T05:33:49.739389Z",
     "iopub.status.idle": "2022-07-31T05:33:49.749852Z",
     "shell.execute_reply": "2022-07-31T05:33:49.748469Z",
     "shell.execute_reply.started": "2022-07-31T05:33:49.739965Z"
    },
    "id": "08c32813"
   },
   "outputs": [],
   "source": [
    "# 5. What is the minimum expenditure done by any employee in organization"
   ]
  },
  {
   "cell_type": "code",
   "execution_count": 22,
   "id": "816ac74c",
   "metadata": {
    "colab": {
     "base_uri": "https://localhost:8080/"
    },
    "execution": {
     "iopub.execute_input": "2022-07-31T05:33:49.823051Z",
     "iopub.status.busy": "2022-07-31T05:33:49.822290Z",
     "iopub.status.idle": "2022-07-31T05:33:49.832977Z",
     "shell.execute_reply": "2022-07-31T05:33:49.831879Z",
     "shell.execute_reply.started": "2022-07-31T05:33:49.823000Z"
    },
    "executionInfo": {
     "elapsed": 433,
     "status": "ok",
     "timestamp": 1635786889835,
     "user": {
      "displayName": "Joseph D",
      "photoUrl": "https://lh3.googleusercontent.com/a-/AOh14GhmnaLZBqoGu8UCJy8JHtd3gqaxDA-t8FbmSeG9Sg=s64",
      "userId": "10910041272242312414"
     },
     "user_tz": -240
    },
    "id": "816ac74c",
    "outputId": "0161a2fd-79d8-4a33-c451-d48385f30762"
   },
   "outputs": [
    {
     "name": "stdout",
     "output_type": "stream",
     "text": [
      "The minimum expenditure done by any employee is: 1122\n"
     ]
    }
   ],
   "source": [
    "print('The minimum expenditure done by any employee is:', round(df_emp_health['expenditure'].min()))"
   ]
  },
  {
   "cell_type": "code",
   "execution_count": 23,
   "id": "2d3a50bc",
   "metadata": {
    "execution": {
     "iopub.execute_input": "2022-07-31T05:33:49.903701Z",
     "iopub.status.busy": "2022-07-31T05:33:49.903239Z",
     "iopub.status.idle": "2022-07-31T05:33:49.911628Z",
     "shell.execute_reply": "2022-07-31T05:33:49.910765Z",
     "shell.execute_reply.started": "2022-07-31T05:33:49.903658Z"
    },
    "id": "2d3a50bc"
   },
   "outputs": [],
   "source": [
    "# 6. What is average expenditure of employees who have 2 or lesser dependents"
   ]
  },
  {
   "cell_type": "code",
   "execution_count": 24,
   "id": "d1920b3b",
   "metadata": {
    "colab": {
     "base_uri": "https://localhost:8080/"
    },
    "execution": {
     "iopub.execute_input": "2022-07-31T05:33:49.987588Z",
     "iopub.status.busy": "2022-07-31T05:33:49.987307Z",
     "iopub.status.idle": "2022-07-31T05:33:49.995388Z",
     "shell.execute_reply": "2022-07-31T05:33:49.994922Z",
     "shell.execute_reply.started": "2022-07-31T05:33:49.987563Z"
    },
    "executionInfo": {
     "elapsed": 9,
     "status": "ok",
     "timestamp": 1635786891305,
     "user": {
      "displayName": "Joseph D",
      "photoUrl": "https://lh3.googleusercontent.com/a-/AOh14GhmnaLZBqoGu8UCJy8JHtd3gqaxDA-t8FbmSeG9Sg=s64",
      "userId": "10910041272242312414"
     },
     "user_tz": -240
    },
    "id": "d1920b3b",
    "outputId": "d24acbf5-fc17-4197-c40f-cd172de9aca9"
   },
   "outputs": [
    {
     "name": "stdout",
     "output_type": "stream",
     "text": [
      "The average expenditure of employees who have 2 or lesser dependents is: 13041\n"
     ]
    }
   ],
   "source": [
    "print('The average expenditure of employees who have 2 or lesser dependents is:', \n",
    "      round(df_emp_health[df_emp_health['dependent'] <= 2]['expenditure'].mean()))"
   ]
  },
  {
   "cell_type": "code",
   "execution_count": 25,
   "id": "ba340d9e",
   "metadata": {
    "execution": {
     "iopub.execute_input": "2022-07-31T05:33:50.072063Z",
     "iopub.status.busy": "2022-07-31T05:33:50.071781Z",
     "iopub.status.idle": "2022-07-31T05:33:50.079826Z",
     "shell.execute_reply": "2022-07-31T05:33:50.078787Z",
     "shell.execute_reply.started": "2022-07-31T05:33:50.072021Z"
    },
    "id": "ba340d9e"
   },
   "outputs": [],
   "source": [
    "# 7. How many employees are below the age of 20 years? What is their average BMI"
   ]
  },
  {
   "cell_type": "code",
   "execution_count": 26,
   "id": "3e7e9b85",
   "metadata": {
    "colab": {
     "base_uri": "https://localhost:8080/"
    },
    "execution": {
     "iopub.execute_input": "2022-07-31T05:33:50.158316Z",
     "iopub.status.busy": "2022-07-31T05:33:50.157832Z",
     "iopub.status.idle": "2022-07-31T05:33:50.175936Z",
     "shell.execute_reply": "2022-07-31T05:33:50.172354Z",
     "shell.execute_reply.started": "2022-07-31T05:33:50.158273Z"
    },
    "executionInfo": {
     "elapsed": 8,
     "status": "ok",
     "timestamp": 1635786894122,
     "user": {
      "displayName": "Joseph D",
      "photoUrl": "https://lh3.googleusercontent.com/a-/AOh14GhmnaLZBqoGu8UCJy8JHtd3gqaxDA-t8FbmSeG9Sg=s64",
      "userId": "10910041272242312414"
     },
     "user_tz": -240
    },
    "id": "3e7e9b85",
    "outputId": "2e7b4e9e-81f9-4620-8439-2137f97c5c8a"
   },
   "outputs": [
    {
     "name": "stdout",
     "output_type": "stream",
     "text": [
      "The number of employees who are below the age of 20 years is: 137\n",
      "The average BMI for employess below the age of 20 years is: 29.97\n"
     ]
    }
   ],
   "source": [
    "print('The number of employees who are below the age of 20 years is:', \n",
    "     df_emp_health[df_emp_health['age'] < 20]['id'].count())\n",
    "print('The average BMI for employess below the age of 20 years is:', \n",
    "      round(df_emp_health[df_emp_health['age'] < 20]['bmi'].mean(), 2))"
   ]
  },
  {
   "cell_type": "code",
   "execution_count": 27,
   "id": "447d15e9",
   "metadata": {
    "execution": {
     "iopub.execute_input": "2022-07-31T05:33:50.239646Z",
     "iopub.status.busy": "2022-07-31T05:33:50.239358Z",
     "iopub.status.idle": "2022-07-31T05:33:50.246877Z",
     "shell.execute_reply": "2022-07-31T05:33:50.246070Z",
     "shell.execute_reply.started": "2022-07-31T05:33:50.239624Z"
    },
    "id": "447d15e9"
   },
   "outputs": [],
   "source": [
    "# 8. Create a dataframe \"non_smoker\" for all non-smoker male employees"
   ]
  },
  {
   "cell_type": "code",
   "execution_count": 28,
   "id": "cb739dbb",
   "metadata": {
    "colab": {
     "base_uri": "https://localhost:8080/"
    },
    "execution": {
     "iopub.execute_input": "2022-07-31T05:33:50.325273Z",
     "iopub.status.busy": "2022-07-31T05:33:50.324602Z",
     "iopub.status.idle": "2022-07-31T05:33:50.349018Z",
     "shell.execute_reply": "2022-07-31T05:33:50.345867Z",
     "shell.execute_reply.started": "2022-07-31T05:33:50.325246Z"
    },
    "executionInfo": {
     "elapsed": 348,
     "status": "ok",
     "timestamp": 1635786897120,
     "user": {
      "displayName": "Joseph D",
      "photoUrl": "https://lh3.googleusercontent.com/a-/AOh14GhmnaLZBqoGu8UCJy8JHtd3gqaxDA-t8FbmSeG9Sg=s64",
      "userId": "10910041272242312414"
     },
     "user_tz": -240
    },
    "id": "cb739dbb",
    "outputId": "f8825b2f-998a-4ea3-ab58-176082d9b6e2"
   },
   "outputs": [
    {
     "name": "stdout",
     "output_type": "stream",
     "text": [
      "         id  age   sex     bmi  dependent  alcohol smoke       zone  \\\n",
      "403  i10415   49  male  32.300          3    daily    no       west   \n",
      "591  i10603   47  male  19.570          1  weekend    no       west   \n",
      "464  i10476   19  male  25.175          0       no    no       west   \n",
      "195  i10207   19  male  30.590          0    daily    no  northwest   \n",
      "546  i10558   28  male  35.435          0    daily    no       east   \n",
      "\n",
      "     expenditure  \n",
      "403  10269.46000  \n",
      "591   8428.06930  \n",
      "464   1632.03625  \n",
      "195   1639.56310  \n",
      "546   3268.84665  \n"
     ]
    }
   ],
   "source": [
    "df_emp_health_copy = df_emp_health.copy()\n",
    "df_non_smoker = df_emp_health_copy[(df_emp_health_copy['smoke'] == 'no') & (df_emp_health_copy['sex'] == 'male')]\n",
    "print(df_non_smoker.sample(5))"
   ]
  },
  {
   "cell_type": "code",
   "execution_count": 29,
   "id": "f61628b3",
   "metadata": {
    "execution": {
     "iopub.execute_input": "2022-07-31T05:33:50.663658Z",
     "iopub.status.busy": "2022-07-31T05:33:50.663187Z",
     "iopub.status.idle": "2022-07-31T05:33:50.671952Z",
     "shell.execute_reply": "2022-07-31T05:33:50.671162Z",
     "shell.execute_reply.started": "2022-07-31T05:33:50.663615Z"
    },
    "id": "f61628b3"
   },
   "outputs": [],
   "source": [
    "# 9. Create a dataframe \"non_alcoholic\" for all male employees who do not consume alcohol"
   ]
  },
  {
   "cell_type": "code",
   "execution_count": 30,
   "id": "a407fdb7",
   "metadata": {
    "colab": {
     "base_uri": "https://localhost:8080/"
    },
    "execution": {
     "iopub.execute_input": "2022-07-31T05:33:51.173029Z",
     "iopub.status.busy": "2022-07-31T05:33:51.171971Z",
     "iopub.status.idle": "2022-07-31T05:33:51.189262Z",
     "shell.execute_reply": "2022-07-31T05:33:51.188486Z",
     "shell.execute_reply.started": "2022-07-31T05:33:51.172962Z"
    },
    "executionInfo": {
     "elapsed": 9,
     "status": "ok",
     "timestamp": 1635786899885,
     "user": {
      "displayName": "Joseph D",
      "photoUrl": "https://lh3.googleusercontent.com/a-/AOh14GhmnaLZBqoGu8UCJy8JHtd3gqaxDA-t8FbmSeG9Sg=s64",
      "userId": "10910041272242312414"
     },
     "user_tz": -240
    },
    "id": "a407fdb7",
    "outputId": "f0df72c9-2971-4339-c035-4b41744a9104"
   },
   "outputs": [
    {
     "name": "stdout",
     "output_type": "stream",
     "text": [
      "          id  age     sex     bmi  dependent alcohol smoke       zone  \\\n",
      "1068  i11080   63    male  21.660          1      no    no       west   \n",
      "624   i10636   59    male  28.785          0      no    no  northwest   \n",
      "883   i10895   51  female  37.050          3      no   yes  northeast   \n",
      "1326  i11338   42  female  32.870          0      no    no       east   \n",
      "701   i10713   50  female  44.745          0      no    no  northeast   \n",
      "\n",
      "      expenditure  \n",
      "1068  14349.85440  \n",
      "624   12129.61415  \n",
      "883   46255.11250  \n",
      "1326   7050.02130  \n",
      "701    9541.69555  \n"
     ]
    }
   ],
   "source": [
    "df_emp_health_copy = df_emp_health.copy()\n",
    "df_non_alcoholic = df_emp_health_copy[df_emp_health_copy['alcohol'] == 'no'] \n",
    "print(df_non_alcoholic.sample(5))"
   ]
  },
  {
   "cell_type": "code",
   "execution_count": 31,
   "id": "ed6a9188",
   "metadata": {
    "execution": {
     "iopub.execute_input": "2022-07-31T05:33:51.247388Z",
     "iopub.status.busy": "2022-07-31T05:33:51.246971Z",
     "iopub.status.idle": "2022-07-31T05:33:51.254062Z",
     "shell.execute_reply": "2022-07-31T05:33:51.253461Z",
     "shell.execute_reply.started": "2022-07-31T05:33:51.247350Z"
    },
    "id": "ed6a9188"
   },
   "outputs": [],
   "source": [
    "# 10. Create a dataframe called \"non_smoking_alcoholic\" with the men employees who do not smoke and consume alcohol. \n",
    "# The dataframe should contain columns id, smoke, alcohol"
   ]
  },
  {
   "cell_type": "code",
   "execution_count": 32,
   "id": "92af3e70",
   "metadata": {
    "colab": {
     "base_uri": "https://localhost:8080/"
    },
    "execution": {
     "iopub.execute_input": "2022-07-31T05:33:51.332081Z",
     "iopub.status.busy": "2022-07-31T05:33:51.331783Z",
     "iopub.status.idle": "2022-07-31T05:33:51.351158Z",
     "shell.execute_reply": "2022-07-31T05:33:51.349154Z",
     "shell.execute_reply.started": "2022-07-31T05:33:51.332059Z"
    },
    "executionInfo": {
     "elapsed": 8,
     "status": "ok",
     "timestamp": 1635786902560,
     "user": {
      "displayName": "Joseph D",
      "photoUrl": "https://lh3.googleusercontent.com/a-/AOh14GhmnaLZBqoGu8UCJy8JHtd3gqaxDA-t8FbmSeG9Sg=s64",
      "userId": "10910041272242312414"
     },
     "user_tz": -240
    },
    "id": "92af3e70",
    "outputId": "43271cbb-68f6-4c26-96ca-8c7cfe6388cf"
   },
   "outputs": [
    {
     "name": "stdout",
     "output_type": "stream",
     "text": [
      "         id smoke_x alcohol_y\n",
      "0    i10030      no        no\n",
      "1    i10036      no        no\n",
      "2    i10040      no        no\n",
      "3    i10049      no        no\n",
      "4    i10079      no        no\n",
      "..      ...     ...       ...\n",
      "104  i11273      no        no\n",
      "105  i11282      no        no\n",
      "106  i11322      no        no\n",
      "107  i11332      no        no\n",
      "108  i11345      no        no\n",
      "\n",
      "[109 rows x 3 columns]\n"
     ]
    }
   ],
   "source": [
    "df_non_smoking_alcoholic = pd.merge(df_non_smoker, df_non_alcoholic, on = ['id'], how = 'inner')\n",
    "print(df_non_smoking_alcoholic[['id', 'smoke_x', 'alcohol_y']])"
   ]
  },
  {
   "cell_type": "code",
   "execution_count": 33,
   "id": "d97de731",
   "metadata": {
    "execution": {
     "iopub.execute_input": "2022-07-31T05:33:51.415998Z",
     "iopub.status.busy": "2022-07-31T05:33:51.415704Z",
     "iopub.status.idle": "2022-07-31T05:33:51.420250Z",
     "shell.execute_reply": "2022-07-31T05:33:51.419392Z",
     "shell.execute_reply.started": "2022-07-31T05:33:51.415976Z"
    },
    "id": "d97de731"
   },
   "outputs": [],
   "source": [
    "# 11.What is the count for each zone with respect to number of dependent"
   ]
  },
  {
   "cell_type": "code",
   "execution_count": 34,
   "id": "bc97f041",
   "metadata": {
    "colab": {
     "base_uri": "https://localhost:8080/"
    },
    "execution": {
     "iopub.execute_input": "2022-07-31T05:33:51.501097Z",
     "iopub.status.busy": "2022-07-31T05:33:51.500725Z",
     "iopub.status.idle": "2022-07-31T05:33:51.512920Z",
     "shell.execute_reply": "2022-07-31T05:33:51.512352Z",
     "shell.execute_reply.started": "2022-07-31T05:33:51.501063Z"
    },
    "executionInfo": {
     "elapsed": 12,
     "status": "ok",
     "timestamp": 1635786905458,
     "user": {
      "displayName": "Joseph D",
      "photoUrl": "https://lh3.googleusercontent.com/a-/AOh14GhmnaLZBqoGu8UCJy8JHtd3gqaxDA-t8FbmSeG9Sg=s64",
      "userId": "10910041272242312414"
     },
     "user_tz": -240
    },
    "id": "bc97f041",
    "outputId": "37f923f0-595d-4389-ef81-107e147d8b69"
   },
   "outputs": [
    {
     "data": {
      "text/plain": [
       "zone\n",
       "east         262\n",
       "north         70\n",
       "northeast     74\n",
       "northwest    145\n",
       "south         84\n",
       "southeast    198\n",
       "southwest    251\n",
       "west         254\n",
       "Name: dependent, dtype: int64"
      ]
     },
     "execution_count": 34,
     "metadata": {},
     "output_type": "execute_result"
    }
   ],
   "source": [
    "df_emp_health.groupby('zone')['dependent'].count()"
   ]
  },
  {
   "cell_type": "code",
   "execution_count": 35,
   "id": "4494b48a",
   "metadata": {
    "execution": {
     "iopub.execute_input": "2022-07-31T05:33:51.977776Z",
     "iopub.status.busy": "2022-07-31T05:33:51.977144Z",
     "iopub.status.idle": "2022-07-31T05:33:51.988651Z",
     "shell.execute_reply": "2022-07-31T05:33:51.987646Z",
     "shell.execute_reply.started": "2022-07-31T05:33:51.977725Z"
    },
    "id": "4494b48a"
   },
   "outputs": [],
   "source": [
    "# 12. Classify the employees into 3 categories.\n",
    "# Category 1 : employees below 18.5 bmi - underweight\n",
    "# Category 2 : employees with bmi in the range of 18.5 to 24.9 - fit\n",
    "# Category 3 : employee with bmi over 24.9 - overweight\n",
    "# What is the average expenditure of employees in each category?"
   ]
  },
  {
   "cell_type": "code",
   "execution_count": 36,
   "id": "294d3a0c",
   "metadata": {
    "colab": {
     "base_uri": "https://localhost:8080/"
    },
    "execution": {
     "iopub.execute_input": "2022-07-31T05:33:52.204352Z",
     "iopub.status.busy": "2022-07-31T05:33:52.204072Z",
     "iopub.status.idle": "2022-07-31T05:33:52.220040Z",
     "shell.execute_reply": "2022-07-31T05:33:52.219556Z",
     "shell.execute_reply.started": "2022-07-31T05:33:52.204329Z"
    },
    "executionInfo": {
     "elapsed": 529,
     "status": "ok",
     "timestamp": 1635786909591,
     "user": {
      "displayName": "Joseph D",
      "photoUrl": "https://lh3.googleusercontent.com/a-/AOh14GhmnaLZBqoGu8UCJy8JHtd3gqaxDA-t8FbmSeG9Sg=s64",
      "userId": "10910041272242312414"
     },
     "user_tz": -240
    },
    "id": "294d3a0c",
    "outputId": "cda7d871-5d66-45fc-9776-238309887b2b"
   },
   "outputs": [
    {
     "name": "stdout",
     "output_type": "stream",
     "text": [
      "The average expenditure for employees in the underweight category is: 8852\n",
      "The average expenditure for employees in the fit category is: 10379\n",
      "The average expenditure for employees in the overweight category is: 13937\n"
     ]
    }
   ],
   "source": [
    "df_underweight = df_emp_health[df_emp_health['bmi'] < 18.5]\n",
    "df_fit = df_emp_health[(df_emp_health['bmi'] >= 18.5) & (df_emp_health['bmi'] <= 24.9)]\n",
    "df_overweight = df_emp_health[df_emp_health['bmi'] > 24.9]\n",
    "\n",
    "print('The average expenditure for employees in the underweight category is:', \n",
    "     round(df_underweight['expenditure'].mean()))\n",
    "\n",
    "print('The average expenditure for employees in the fit category is:', \n",
    "     round(df_fit['expenditure'].mean()))\n",
    "\n",
    "print('The average expenditure for employees in the overweight category is:', \n",
    "     round(df_overweight['expenditure'].mean()))"
   ]
  },
  {
   "cell_type": "code",
   "execution_count": 37,
   "id": "31e16682",
   "metadata": {
    "execution": {
     "iopub.execute_input": "2022-07-31T05:33:52.700833Z",
     "iopub.status.busy": "2022-07-31T05:33:52.700009Z",
     "iopub.status.idle": "2022-07-31T05:33:52.710780Z",
     "shell.execute_reply": "2022-07-31T05:33:52.709117Z",
     "shell.execute_reply.started": "2022-07-31T05:33:52.700791Z"
    },
    "id": "31e16682"
   },
   "outputs": [],
   "source": [
    "# Display the bar chart for the same"
   ]
  },
  {
   "cell_type": "code",
   "execution_count": 38,
   "id": "72cb23fb",
   "metadata": {
    "execution": {
     "iopub.execute_input": "2022-07-31T05:33:52.781319Z",
     "iopub.status.busy": "2022-07-31T05:33:52.780792Z",
     "iopub.status.idle": "2022-07-31T05:33:52.848343Z",
     "shell.execute_reply": "2022-07-31T05:33:52.848068Z",
     "shell.execute_reply.started": "2022-07-31T05:33:52.781281Z"
    },
    "id": "72cb23fb"
   },
   "outputs": [
    {
     "data": {
      "image/png": "[encoded data removed]",
      "text/plain": [
       "<Figure size 432x288 with 1 Axes>"
      ]
     },
     "metadata": {
      "needs_background": "light"
     },
     "output_type": "display_data"
    }
   ],
   "source": [
    "# import matplotlib.pyplot as plt\n",
    "x = ['Underweight', 'Fit', 'Overweight']\n",
    "y = [8852, 10379, 13937]\n",
    "plt.bar(x, y)\n",
    "plt.show()"
   ]
  },
  {
   "cell_type": "code",
   "execution_count": 39,
   "id": "592a1795",
   "metadata": {
    "execution": {
     "iopub.execute_input": "2022-07-31T05:33:52.863728Z",
     "iopub.status.busy": "2022-07-31T05:33:52.863588Z",
     "iopub.status.idle": "2022-07-31T05:33:52.865943Z",
     "shell.execute_reply": "2022-07-31T05:33:52.865310Z",
     "shell.execute_reply.started": "2022-07-31T05:33:52.863717Z"
    },
    "id": "592a1795"
   },
   "outputs": [],
   "source": [
    "# 13. Draw line plot of expenditure against age and BMI"
   ]
  },
  {
   "cell_type": "code",
   "execution_count": 40,
   "id": "9c71a007",
   "metadata": {
    "colab": {
     "base_uri": "https://localhost:8080/",
     "height": 265
    },
    "execution": {
     "iopub.execute_input": "2022-07-31T05:33:52.945614Z",
     "iopub.status.busy": "2022-07-31T05:33:52.945454Z",
     "iopub.status.idle": "2022-07-31T05:33:52.979127Z",
     "shell.execute_reply": "2022-07-31T05:33:52.978733Z",
     "shell.execute_reply.started": "2022-07-31T05:33:52.945595Z"
    },
    "executionInfo": {
     "elapsed": 416,
     "status": "ok",
     "timestamp": 1635786985445,
     "user": {
      "displayName": "Joseph D",
      "photoUrl": "https://lh3.googleusercontent.com/a-/AOh14GhmnaLZBqoGu8UCJy8JHtd3gqaxDA-t8FbmSeG9Sg=s64",
      "userId": "10910041272242312414"
     },
     "user_tz": -240
    },
    "id": "9c71a007",
    "outputId": "a8e26ae2-43bc-450b-e11e-0d03e4ac773f",
    "pycharm": {
     "is_executing": true
    }
   },
   "outputs": [
    {
     "data": {
      "image/png": "[encoded data removed]",
      "text/plain": [
       "<Figure size 432x288 with 1 Axes>"
      ]
     },
     "metadata": {
      "needs_background": "light"
     },
     "output_type": "display_data"
    }
   ],
   "source": [
    "x = ['Underweight', 'Fit', 'Overweight']\n",
    "y = [df_underweight['expenditure'].mean(), df_fit['expenditure'].mean(), df_overweight['expenditure'].mean()]\n",
    "plt.plot(x, y)\n",
    "plt.show()"
   ]
  },
  {
   "cell_type": "code",
   "execution_count": 41,
   "id": "a8020fdd",
   "metadata": {
    "execution": {
     "iopub.execute_input": "2022-07-31T05:33:53.354421Z",
     "iopub.status.busy": "2022-07-31T05:33:53.354214Z",
     "iopub.status.idle": "2022-07-31T05:33:53.357018Z",
     "shell.execute_reply": "2022-07-31T05:33:53.356559Z",
     "shell.execute_reply.started": "2022-07-31T05:33:53.354402Z"
    },
    "executionInfo": {
     "elapsed": 4,
     "status": "ok",
     "timestamp": 1635787011546,
     "user": {
      "displayName": "Joseph D",
      "photoUrl": "https://lh3.googleusercontent.com/a-/AOh14GhmnaLZBqoGu8UCJy8JHtd3gqaxDA-t8FbmSeG9Sg=s64",
      "userId": "10910041272242312414"
     },
     "user_tz": -240
    },
    "id": "a8020fdd",
    "pycharm": {
     "is_executing": true
    }
   },
   "outputs": [],
   "source": [
    " # 14. Draw a bar chart to show zone wise average expenditure"
   ]
  },
  {
   "cell_type": "code",
   "execution_count": 42,
   "id": "vhn675BTgPML",
   "metadata": {
    "colab": {
     "base_uri": "https://localhost:8080/"
    },
    "execution": {
     "iopub.execute_input": "2022-07-31T05:33:53.861682Z",
     "iopub.status.busy": "2022-07-31T05:33:53.861262Z",
     "iopub.status.idle": "2022-07-31T05:33:53.875601Z",
     "shell.execute_reply": "2022-07-31T05:33:53.874512Z",
     "shell.execute_reply.started": "2022-07-31T05:33:53.861645Z"
    },
    "executionInfo": {
     "elapsed": 354,
     "status": "ok",
     "timestamp": 1635787051076,
     "user": {
      "displayName": "Joseph D",
      "photoUrl": "https://lh3.googleusercontent.com/a-/AOh14GhmnaLZBqoGu8UCJy8JHtd3gqaxDA-t8FbmSeG9Sg=s64",
      "userId": "10910041272242312414"
     },
     "user_tz": -240
    },
    "id": "vhn675BTgPML",
    "outputId": "8321816c-8624-43c5-a310-240477007fbe"
   },
   "outputs": [
    {
     "data": {
      "text/plain": [
       "zone\n",
       "east         13774.679941\n",
       "north        14102.583403\n",
       "northeast    13694.721724\n",
       "northwest    12151.702619\n",
       "south        14715.689519\n",
       "southeast    14452.949680\n",
       "southwest    12717.083869\n",
       "west         12182.998872\n",
       "Name: expenditure, dtype: float64"
      ]
     },
     "execution_count": 42,
     "metadata": {},
     "output_type": "execute_result"
    }
   ],
   "source": [
    "df_emp_health.groupby('zone')['expenditure'].mean()"
   ]
  },
  {
   "cell_type": "code",
   "execution_count": 43,
   "id": "X3KXwcLugY0z",
   "metadata": {
    "colab": {
     "base_uri": "https://localhost:8080/",
     "height": 307
    },
    "execution": {
     "iopub.execute_input": "2022-07-31T05:33:53.938246Z",
     "iopub.status.busy": "2022-07-31T05:33:53.937885Z",
     "iopub.status.idle": "2022-07-31T05:33:54.001672Z",
     "shell.execute_reply": "2022-07-31T05:33:54.001298Z",
     "shell.execute_reply.started": "2022-07-31T05:33:53.938214Z"
    },
    "executionInfo": {
     "elapsed": 398,
     "status": "ok",
     "timestamp": 1635787613291,
     "user": {
      "displayName": "Joseph D",
      "photoUrl": "https://lh3.googleusercontent.com/a-/AOh14GhmnaLZBqoGu8UCJy8JHtd3gqaxDA-t8FbmSeG9Sg=s64",
      "userId": "10910041272242312414"
     },
     "user_tz": -240
    },
    "id": "X3KXwcLugY0z",
    "outputId": "f22c4416-d108-458e-bd71-4852bb8f8823"
   },
   "outputs": [
    {
     "data": {
      "image/png": "[encoded data removed]",
      "text/plain": [
       "<Figure size 432x288 with 1 Axes>"
      ]
     },
     "metadata": {
      "needs_background": "light"
     },
     "output_type": "display_data"
    }
   ],
   "source": [
    "x = ['east', 'north', 'northeast', 'northwest', 'south', 'southeast', 'southwest', 'west']\n",
    "y = [13774, 14102, 13694, 12151, 14715, 14452, 12717, 12182]\n",
    "plt.xticks(rotation = 90)\n",
    "plt.bar(x, y)\n",
    "plt.show()"
   ]
  },
  {
   "cell_type": "code",
   "execution_count": 44,
   "id": "R3nM6sQZgwM1",
   "metadata": {
    "execution": {
     "iopub.execute_input": "2022-07-31T05:33:54.019841Z",
     "iopub.status.busy": "2022-07-31T05:33:54.019715Z",
     "iopub.status.idle": "2022-07-31T05:33:54.021605Z",
     "shell.execute_reply": "2022-07-31T05:33:54.021327Z",
     "shell.execute_reply.started": "2022-07-31T05:33:54.019828Z"
    },
    "executionInfo": {
     "elapsed": 481,
     "status": "ok",
     "timestamp": 1635787189741,
     "user": {
      "displayName": "Joseph D",
      "photoUrl": "https://lh3.googleusercontent.com/a-/AOh14GhmnaLZBqoGu8UCJy8JHtd3gqaxDA-t8FbmSeG9Sg=s64",
      "userId": "10910041272242312414"
     },
     "user_tz": -240
    },
    "id": "R3nM6sQZgwM1"
   },
   "outputs": [],
   "source": [
    "# 15. Draw a bar chart to show smoking and alcoholic habits against average expenditure"
   ]
  },
  {
   "cell_type": "code",
   "execution_count": 45,
   "id": "Gt6xEXRag6pe",
   "metadata": {
    "execution": {
     "iopub.execute_input": "2022-07-31T05:33:54.101520Z",
     "iopub.status.busy": "2022-07-31T05:33:54.101386Z",
     "iopub.status.idle": "2022-07-31T05:33:54.104679Z",
     "shell.execute_reply": "2022-07-31T05:33:54.104223Z",
     "shell.execute_reply.started": "2022-07-31T05:33:54.101508Z"
    },
    "executionInfo": {
     "elapsed": 359,
     "status": "ok",
     "timestamp": 1635787263616,
     "user": {
      "displayName": "Joseph D",
      "photoUrl": "https://lh3.googleusercontent.com/a-/AOh14GhmnaLZBqoGu8UCJy8JHtd3gqaxDA-t8FbmSeG9Sg=s64",
      "userId": "10910041272242312414"
     },
     "user_tz": -240
    },
    "id": "Gt6xEXRag6pe"
   },
   "outputs": [],
   "source": [
    "df_emp_health_copy = df_emp_health.copy()\n",
    "df_smoker = df_emp_health_copy[df_emp_health_copy['smoke'] != 'no'] \n",
    "\n",
    "df_emp_health_copy = df_emp_health.copy()\n",
    "df_alcoholic = df_emp_health_copy[df_emp_health_copy['alcohol'] != 'no'] "
   ]
  },
  {
   "cell_type": "code",
   "execution_count": 46,
   "id": "dP7K6LfuhMtc",
   "metadata": {
    "colab": {
     "base_uri": "https://localhost:8080/"
    },
    "execution": {
     "iopub.execute_input": "2022-07-31T05:33:54.186194Z",
     "iopub.status.busy": "2022-07-31T05:33:54.186052Z",
     "iopub.status.idle": "2022-07-31T05:33:54.189715Z",
     "shell.execute_reply": "2022-07-31T05:33:54.189270Z",
     "shell.execute_reply.started": "2022-07-31T05:33:54.186180Z"
    },
    "executionInfo": {
     "elapsed": 364,
     "status": "ok",
     "timestamp": 1635787459919,
     "user": {
      "displayName": "Joseph D",
      "photoUrl": "https://lh3.googleusercontent.com/a-/AOh14GhmnaLZBqoGu8UCJy8JHtd3gqaxDA-t8FbmSeG9Sg=s64",
      "userId": "10910041272242312414"
     },
     "user_tz": -240
    },
    "id": "dP7K6LfuhMtc",
    "outputId": "d60d3c2b-e917-4dc6-f3c9-2922aaa80c90"
   },
   "outputs": [
    {
     "name": "stdout",
     "output_type": "stream",
     "text": [
      "The average expenditure for a smoker is: 32050\n",
      "The average expenditure for a non-smoker is: 8087\n",
      "The average expenditure for a alcoholic is: 13029\n",
      "The average expenditure for a non-alcoholic is: 14277\n",
      "The average expenditure for a non-smoking, non-alcoholic is: 8036\n"
     ]
    }
   ],
   "source": [
    "print('The average expenditure for a smoker is:', round(df_smoker['expenditure'].mean()))\n",
    "print('The average expenditure for a non-smoker is:', round(df_non_smoker['expenditure'].mean()))\n",
    "print('The average expenditure for a alcoholic is:', round(df_alcoholic['expenditure'].mean()))\n",
    "print('The average expenditure for a non-alcoholic is:', round(df_non_alcoholic['expenditure'].mean()))\n",
    "print('The average expenditure for a non-smoking, non-alcoholic is:', round(df_non_smoking_alcoholic['expenditure_x'].mean()))"
   ]
  },
  {
   "cell_type": "code",
   "execution_count": 47,
   "id": "iRsNqgD9hOyS",
   "metadata": {
    "colab": {
     "base_uri": "https://localhost:8080/",
     "height": 409
    },
    "execution": {
     "iopub.execute_input": "2022-07-31T05:33:54.272323Z",
     "iopub.status.busy": "2022-07-31T05:33:54.272103Z",
     "iopub.status.idle": "2022-07-31T05:33:54.317177Z",
     "shell.execute_reply": "2022-07-31T05:33:54.316861Z",
     "shell.execute_reply.started": "2022-07-31T05:33:54.272308Z"
    },
    "executionInfo": {
     "elapsed": 410,
     "status": "ok",
     "timestamp": 1635787603879,
     "user": {
      "displayName": "Joseph D",
      "photoUrl": "https://lh3.googleusercontent.com/a-/AOh14GhmnaLZBqoGu8UCJy8JHtd3gqaxDA-t8FbmSeG9Sg=s64",
      "userId": "10910041272242312414"
     },
     "user_tz": -240
    },
    "id": "iRsNqgD9hOyS",
    "outputId": "1dbfb3c8-4a6e-4f12-8745-073722e7ddfc"
   },
   "outputs": [
    {
     "data": {
      "image/png": "[encoded data removed]",
      "text/plain": [
       "<Figure size 432x288 with 1 Axes>"
      ]
     },
     "metadata": {
      "needs_background": "light"
     },
     "output_type": "display_data"
    }
   ],
   "source": [
    "x = ['Smoker', 'Alcoholic', 'Non-Smoker', 'Non-Alcoholic', 'Non-Smoking and Non-Alcholic']\n",
    "y = [32050, 8434, 13029, 14277, 8629]\n",
    "plt.xticks(rotation=90)\n",
    "plt.bar(x, y)\n",
    "plt.show()"
   ]
  },
  {
   "cell_type": "code",
   "execution_count": 48,
   "id": "eKP18KeeiWRt",
   "metadata": {
    "execution": {
     "iopub.execute_input": "2022-07-31T05:33:54.354649Z",
     "iopub.status.busy": "2022-07-31T05:33:54.354487Z",
     "iopub.status.idle": "2022-07-31T05:33:54.356487Z",
     "shell.execute_reply": "2022-07-31T05:33:54.356106Z",
     "shell.execute_reply.started": "2022-07-31T05:33:54.354629Z"
    },
    "executionInfo": {
     "elapsed": 339,
     "status": "ok",
     "timestamp": 1635787627345,
     "user": {
      "displayName": "Joseph D",
      "photoUrl": "https://lh3.googleusercontent.com/a-/AOh14GhmnaLZBqoGu8UCJy8JHtd3gqaxDA-t8FbmSeG9Sg=s64",
      "userId": "10910041272242312414"
     },
     "user_tz": -240
    },
    "id": "eKP18KeeiWRt"
   },
   "outputs": [],
   "source": [
    "# 16. Draw pie chart for alcohol consumption habits"
   ]
  },
  {
   "cell_type": "code",
   "execution_count": 49,
   "id": "if4hhQw_ilhP",
   "metadata": {
    "colab": {
     "base_uri": "https://localhost:8080/"
    },
    "execution": {
     "iopub.execute_input": "2022-07-31T05:33:54.438141Z",
     "iopub.status.busy": "2022-07-31T05:33:54.437960Z",
     "iopub.status.idle": "2022-07-31T05:33:54.441646Z",
     "shell.execute_reply": "2022-07-31T05:33:54.441326Z",
     "shell.execute_reply.started": "2022-07-31T05:33:54.438122Z"
    },
    "executionInfo": {
     "elapsed": 403,
     "status": "ok",
     "timestamp": 1635787843401,
     "user": {
      "displayName": "Joseph D",
      "photoUrl": "https://lh3.googleusercontent.com/a-/AOh14GhmnaLZBqoGu8UCJy8JHtd3gqaxDA-t8FbmSeG9Sg=s64",
      "userId": "10910041272242312414"
     },
     "user_tz": -240
    },
    "id": "if4hhQw_ilhP",
    "outputId": "658e4950-b5a6-47d4-cf6c-f0507ea38b98"
   },
   "outputs": [
    {
     "data": {
      "text/plain": [
       "alcohol\n",
       "daily      395\n",
       "no         259\n",
       "party      278\n",
       "rarely      59\n",
       "weekend    347\n",
       "Name: id, dtype: int64"
      ]
     },
     "execution_count": 49,
     "metadata": {},
     "output_type": "execute_result"
    }
   ],
   "source": [
    "df_emp_health.groupby('alcohol')['id'].count()"
   ]
  },
  {
   "cell_type": "code",
   "execution_count": 50,
   "id": "HDFZMlsjipyQ",
   "metadata": {
    "colab": {
     "base_uri": "https://localhost:8080/",
     "height": 248
    },
    "execution": {
     "iopub.execute_input": "2022-07-31T05:33:54.523541Z",
     "iopub.status.busy": "2022-07-31T05:33:54.523250Z",
     "iopub.status.idle": "2022-07-31T05:33:54.554810Z",
     "shell.execute_reply": "2022-07-31T05:33:54.554568Z",
     "shell.execute_reply.started": "2022-07-31T05:33:54.523523Z"
    },
    "executionInfo": {
     "elapsed": 9,
     "status": "ok",
     "timestamp": 1635787845008,
     "user": {
      "displayName": "Joseph D",
      "photoUrl": "https://lh3.googleusercontent.com/a-/AOh14GhmnaLZBqoGu8UCJy8JHtd3gqaxDA-t8FbmSeG9Sg=s64",
      "userId": "10910041272242312414"
     },
     "user_tz": -240
    },
    "id": "HDFZMlsjipyQ",
    "outputId": "5c2ffb94-6ce3-44f9-aafe-f49a04c321c7"
   },
   "outputs": [
    {
     "data": {
      "image/png": "[encoded data removed]",
      "text/plain": [
       "<Figure size 432x288 with 1 Axes>"
      ]
     },
     "metadata": {},
     "output_type": "display_data"
    }
   ],
   "source": [
    "y = [395, 259, 278, 59, 347]\n",
    "mylabels = [\"Daily\", \"No\", \"Party\", \"Rarely\", \"Weekend\"]\n",
    "\n",
    "plt.pie(y, labels = mylabels)\n",
    "plt.show()"
   ]
  },
  {
   "cell_type": "code",
   "execution_count": 51,
   "id": "2s0_9VYUjfs9",
   "metadata": {
    "execution": {
     "iopub.execute_input": "2022-07-31T05:33:54.602783Z",
     "iopub.status.busy": "2022-07-31T05:33:54.602638Z",
     "iopub.status.idle": "2022-07-31T05:33:54.604666Z",
     "shell.execute_reply": "2022-07-31T05:33:54.604326Z",
     "shell.execute_reply.started": "2022-07-31T05:33:54.602770Z"
    },
    "executionInfo": {
     "elapsed": 377,
     "status": "ok",
     "timestamp": 1635787870805,
     "user": {
      "displayName": "Joseph D",
      "photoUrl": "https://lh3.googleusercontent.com/a-/AOh14GhmnaLZBqoGu8UCJy8JHtd3gqaxDA-t8FbmSeG9Sg=s64",
      "userId": "10910041272242312414"
     },
     "user_tz": -240
    },
    "id": "2s0_9VYUjfs9"
   },
   "outputs": [],
   "source": [
    " # 17. Draw scatter plot to see the relation between age and expenditure, keep smoking habit as hue"
   ]
  },
  {
   "cell_type": "code",
   "execution_count": 52,
   "id": "ArlaphsYjg8q",
   "metadata": {
    "colab": {
     "base_uri": "https://localhost:8080/",
     "height": 296
    },
    "execution": {
     "iopub.execute_input": "2022-07-31T05:33:54.875176Z",
     "iopub.status.busy": "2022-07-31T05:33:54.875011Z",
     "iopub.status.idle": "2022-07-31T05:33:54.958702Z",
     "shell.execute_reply": "2022-07-31T05:33:54.958316Z",
     "shell.execute_reply.started": "2022-07-31T05:33:54.875159Z"
    },
    "executionInfo": {
     "elapsed": 880,
     "status": "ok",
     "timestamp": 1635788051198,
     "user": {
      "displayName": "Joseph D",
      "photoUrl": "https://lh3.googleusercontent.com/a-/AOh14GhmnaLZBqoGu8UCJy8JHtd3gqaxDA-t8FbmSeG9Sg=s64",
      "userId": "10910041272242312414"
     },
     "user_tz": -240
    },
    "id": "ArlaphsYjg8q",
    "outputId": "25da646a-028f-4a78-c613-6225b8c078b4"
   },
   "outputs": [
    {
     "data": {
      "text/plain": [
       "<AxesSubplot:xlabel='age', ylabel='expenditure'>"
      ]
     },
     "execution_count": 52,
     "metadata": {},
     "output_type": "execute_result"
    },
    {
     "data": {
      "image/png": "[encoded data removed]",
      "text/plain": [
       "<Figure size 432x288 with 1 Axes>"
      ]
     },
     "metadata": {
      "needs_background": "light"
     },
     "output_type": "display_data"
    }
   ],
   "source": [
    "sns.scatterplot(data = df_emp_health, x = \"age\", y = \"expenditure\", hue = 'smoke')"
   ]
  },
  {
   "cell_type": "code",
   "execution_count": 53,
   "id": "fhYMCb2VkGr-",
   "metadata": {
    "execution": {
     "iopub.execute_input": "2022-07-31T05:33:55.387745Z",
     "iopub.status.busy": "2022-07-31T05:33:55.387027Z",
     "iopub.status.idle": "2022-07-31T05:33:55.399172Z",
     "shell.execute_reply": "2022-07-31T05:33:55.396141Z",
     "shell.execute_reply.started": "2022-07-31T05:33:55.387682Z"
    },
    "executionInfo": {
     "elapsed": 348,
     "status": "ok",
     "timestamp": 1635788072902,
     "user": {
      "displayName": "Joseph D",
      "photoUrl": "https://lh3.googleusercontent.com/a-/AOh14GhmnaLZBqoGu8UCJy8JHtd3gqaxDA-t8FbmSeG9Sg=s64",
      "userId": "10910041272242312414"
     },
     "user_tz": -240
    },
    "id": "fhYMCb2VkGr-"
   },
   "outputs": [],
   "source": [
    "# 18. Draw distribution plot of expenditure"
   ]
  },
  {
   "cell_type": "code",
   "execution_count": 54,
   "id": "vRC3p3dkkLs-",
   "metadata": {
    "colab": {
     "base_uri": "https://localhost:8080/",
     "height": 386
    },
    "execution": {
     "iopub.execute_input": "2022-07-31T05:33:55.460049Z",
     "iopub.status.busy": "2022-07-31T05:33:55.459580Z",
     "iopub.status.idle": "2022-07-31T05:33:55.606601Z",
     "shell.execute_reply": "2022-07-31T05:33:55.606254Z",
     "shell.execute_reply.started": "2022-07-31T05:33:55.460005Z"
    },
    "executionInfo": {
     "elapsed": 999,
     "status": "ok",
     "timestamp": 1635788171660,
     "user": {
      "displayName": "Joseph D",
      "photoUrl": "https://lh3.googleusercontent.com/a-/AOh14GhmnaLZBqoGu8UCJy8JHtd3gqaxDA-t8FbmSeG9Sg=s64",
      "userId": "10910041272242312414"
     },
     "user_tz": -240
    },
    "id": "vRC3p3dkkLs-",
    "outputId": "4ec70e8c-d3cd-4ce9-d43e-3a396c67f0ad"
   },
   "outputs": [
    {
     "data": {
      "text/plain": [
       "<seaborn.axisgrid.FacetGrid at 0x166d6c190>"
      ]
     },
     "execution_count": 54,
     "metadata": {},
     "output_type": "execute_result"
    },
    {
     "data": {
      "image/png": "[encoded data removed]",
      "text/plain": [
       "<Figure size 360x360 with 1 Axes>"
      ]
     },
     "metadata": {
      "needs_background": "light"
     },
     "output_type": "display_data"
    }
   ],
   "source": [
    "sns.displot(data = df_emp_health, x = 'expenditure')"
   ]
  },
  {
   "cell_type": "code",
   "execution_count": 55,
   "id": "OrNuX3t-kW_z",
   "metadata": {
    "execution": {
     "iopub.execute_input": "2022-07-31T05:33:55.607298Z",
     "iopub.status.busy": "2022-07-31T05:33:55.607228Z",
     "iopub.status.idle": "2022-07-31T05:33:55.609334Z",
     "shell.execute_reply": "2022-07-31T05:33:55.609078Z",
     "shell.execute_reply.started": "2022-07-31T05:33:55.607288Z"
    },
    "executionInfo": {
     "elapsed": 446,
     "status": "ok",
     "timestamp": 1635788182590,
     "user": {
      "displayName": "Joseph D",
      "photoUrl": "https://lh3.googleusercontent.com/a-/AOh14GhmnaLZBqoGu8UCJy8JHtd3gqaxDA-t8FbmSeG9Sg=s64",
      "userId": "10910041272242312414"
     },
     "user_tz": -240
    },
    "id": "OrNuX3t-kW_z"
   },
   "outputs": [],
   "source": [
    "# 19. Display the pairplot"
   ]
  },
  {
   "cell_type": "code",
   "execution_count": 56,
   "id": "On33H6UTktDH",
   "metadata": {
    "colab": {
     "base_uri": "https://localhost:8080/",
     "height": 743
    },
    "execution": {
     "iopub.execute_input": "2022-07-31T05:33:55.630908Z",
     "iopub.status.busy": "2022-07-31T05:33:55.630790Z",
     "iopub.status.idle": "2022-07-31T05:33:56.366251Z",
     "shell.execute_reply": "2022-07-31T05:33:56.365996Z",
     "shell.execute_reply.started": "2022-07-31T05:33:55.630895Z"
    },
    "executionInfo": {
     "elapsed": 7062,
     "status": "ok",
     "timestamp": 1635788215456,
     "user": {
      "displayName": "Joseph D",
      "photoUrl": "https://lh3.googleusercontent.com/a-/AOh14GhmnaLZBqoGu8UCJy8JHtd3gqaxDA-t8FbmSeG9Sg=s64",
      "userId": "10910041272242312414"
     },
     "user_tz": -240
    },
    "id": "On33H6UTktDH",
    "outputId": "ca5b0852-555e-401d-be8a-f7900b05cbd6"
   },
   "outputs": [
    {
     "data": {
      "text/plain": [
       "<seaborn.axisgrid.PairGrid at 0x166f36470>"
      ]
     },
     "execution_count": 56,
     "metadata": {},
     "output_type": "execute_result"
    },
    {
     "data": {
      "image/png": "[encoded data removed]",
      "text/plain": [
       "<Figure size 720x720 with 20 Axes>"
      ]
     },
     "metadata": {
      "needs_background": "light"
     },
     "output_type": "display_data"
    }
   ],
   "source": [
    "sns.pairplot(data = df_emp_health)"
   ]
  },
  {
   "cell_type": "code",
   "execution_count": 57,
   "id": "emvXd4-UkzdK",
   "metadata": {
    "execution": {
     "iopub.execute_input": "2022-07-31T05:33:56.366968Z",
     "iopub.status.busy": "2022-07-31T05:33:56.366888Z",
     "iopub.status.idle": "2022-07-31T05:33:56.368526Z",
     "shell.execute_reply": "2022-07-31T05:33:56.368236Z",
     "shell.execute_reply.started": "2022-07-31T05:33:56.366959Z"
    },
    "executionInfo": {
     "elapsed": 344,
     "status": "ok",
     "timestamp": 1635788231546,
     "user": {
      "displayName": "Joseph D",
      "photoUrl": "https://lh3.googleusercontent.com/a-/AOh14GhmnaLZBqoGu8UCJy8JHtd3gqaxDA-t8FbmSeG9Sg=s64",
      "userId": "10910041272242312414"
     },
     "user_tz": -240
    },
    "id": "emvXd4-UkzdK"
   },
   "outputs": [],
   "source": [
    "# 20. Display heatmap for the data"
   ]
  },
  {
   "cell_type": "code",
   "execution_count": 58,
   "id": "dMfeezMak5CU",
   "metadata": {
    "colab": {
     "base_uri": "https://localhost:8080/",
     "height": 269
    },
    "execution": {
     "iopub.execute_input": "2022-07-31T05:33:56.368862Z",
     "iopub.status.busy": "2022-07-31T05:33:56.368810Z",
     "iopub.status.idle": "2022-07-31T05:33:56.434136Z",
     "shell.execute_reply": "2022-07-31T05:33:56.433791Z",
     "shell.execute_reply.started": "2022-07-31T05:33:56.368855Z"
    },
    "executionInfo": {
     "elapsed": 528,
     "status": "ok",
     "timestamp": 1635788394610,
     "user": {
      "displayName": "Joseph D",
      "photoUrl": "https://lh3.googleusercontent.com/a-/AOh14GhmnaLZBqoGu8UCJy8JHtd3gqaxDA-t8FbmSeG9Sg=s64",
      "userId": "10910041272242312414"
     },
     "user_tz": -240
    },
    "id": "dMfeezMak5CU",
    "outputId": "8bb71863-41c5-4e61-9259-cdb5e63db361"
   },
   "outputs": [
    {
     "data": {
      "image/png": "[encoded data removed]",
      "text/plain": [
       "<Figure size 432x288 with 2 Axes>"
      ]
     },
     "metadata": {
      "needs_background": "light"
     },
     "output_type": "display_data"
    }
   ],
   "source": [
    "corr_matrix = df_emp_health.corr()\n",
    "corr_matrix\n",
    "sns.heatmap(corr_matrix, annot = True, vmin = -1)\n",
    "plt.show()"
   ]
  },
  {
   "cell_type": "code",
   "execution_count": null,
   "id": "Ye5Oe46clAzZ",
   "metadata": {
    "id": "Ye5Oe46clAzZ"
   },
   "outputs": [],
   "source": []
  }
 ],
 "metadata": {
  "colab": {
   "name": "NPV - Mini Project - Joseph.ipynb",
   "provenance": []
  },
  "kernelspec": {
   "display_name": "Python 3 (ipykernel)",
   "language": "python",
   "name": "python3"
  },
  "language_info": {
   "codemirror_mode": {
    "name": "ipython",
    "version": 3
   },
   "file_extension": ".py",
   "mimetype": "text/x-python",
   "name": "python",
   "nbconvert_exporter": "python",
   "pygments_lexer": "ipython3",
   "version": "3.10.3"
  }
 },
 "nbformat": 4,
 "nbformat_minor": 5
}
