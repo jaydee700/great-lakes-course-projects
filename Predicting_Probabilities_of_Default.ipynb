{
 "cells": [
  {
   "cell_type": "markdown",
   "metadata": {},
   "source": [
    "# Logistic regression"
   ]
  },
  {
   "cell_type": "markdown",
   "metadata": {},
   "source": [
    "# Dataset:\n",
    "German Credit"
   ]
  },
  {
   "cell_type": "markdown",
   "metadata": {},
   "source": [
    "# Objective\n",
    "Estimate default probabilities using logistic regression"
   ]
  },
  {
   "cell_type": "markdown",
   "metadata": {},
   "source": [
    "# 1. Load Libraries and data"
   ]
  },
  {
   "cell_type": "code",
   "execution_count": 7,
   "metadata": {
    "execution": {
     "iopub.execute_input": "2022-07-31T05:29:10.995354Z",
     "iopub.status.busy": "2022-07-31T05:29:10.994655Z",
     "iopub.status.idle": "2022-07-31T05:29:11.008948Z",
     "shell.execute_reply": "2022-07-31T05:29:11.007604Z",
     "shell.execute_reply.started": "2022-07-31T05:29:10.995303Z"
    },
    "tags": []
   },
   "outputs": [],
   "source": [
    "#Load Libraries\n",
    "import pandas as pd\n",
    "import numpy as np\n",
    "import matplotlib as mpl\n",
    "import matplotlib.pyplot as plt\n",
    "from sklearn.model_selection import train_test_split\n",
    "from sklearn import linear_model\n",
    "import statsmodels.api as sm\n",
    "from sklearn import metrics\n",
    "from sklearn import datasets\n",
    "import seaborn as sn\n",
    "%matplotlib inline"
   ]
  },
  {
   "cell_type": "code",
   "execution_count": 10,
   "metadata": {
    "execution": {
     "iopub.execute_input": "2022-07-31T05:31:04.433363Z",
     "iopub.status.busy": "2022-07-31T05:31:04.432863Z",
     "iopub.status.idle": "2022-07-31T05:31:04.561635Z",
     "shell.execute_reply": "2022-07-31T05:31:04.561402Z",
     "shell.execute_reply.started": "2022-07-31T05:31:04.433334Z"
    },
    "tags": []
   },
   "outputs": [],
   "source": [
    "#Load data\n",
    "credit_df = pd.read_excel('GermanCredit.xlsx')"
   ]
  },
  {
   "cell_type": "code",
   "execution_count": 11,
   "metadata": {
    "execution": {
     "iopub.execute_input": "2022-07-31T05:31:05.923809Z",
     "iopub.status.busy": "2022-07-31T05:31:05.923215Z",
     "iopub.status.idle": "2022-07-31T05:31:05.946373Z",
     "shell.execute_reply": "2022-07-31T05:31:05.946003Z",
     "shell.execute_reply.started": "2022-07-31T05:31:05.923767Z"
    }
   },
   "outputs": [
    {
     "data": {
      "text/html": [
       "<div>\n",
       "<style scoped>\n",
       "    .dataframe tbody tr th:only-of-type {\n",
       "        vertical-align: middle;\n",
       "    }\n",
       "\n",
       "    .dataframe tbody tr th {\n",
       "        vertical-align: top;\n",
       "    }\n",
       "\n",
       "    .dataframe thead th {\n",
       "        text-align: right;\n",
       "    }\n",
       "</style>\n",
       "<table border=\"1\" class=\"dataframe\">\n",
       "  <thead>\n",
       "    <tr style=\"text-align: right;\">\n",
       "      <th></th>\n",
       "      <th>Creditability</th>\n",
       "      <th>CreditAmount</th>\n",
       "      <th>DurationOfCreditInMonths</th>\n",
       "    </tr>\n",
       "  </thead>\n",
       "  <tbody>\n",
       "    <tr>\n",
       "      <th>0</th>\n",
       "      <td>1</td>\n",
       "      <td>1049</td>\n",
       "      <td>18</td>\n",
       "    </tr>\n",
       "    <tr>\n",
       "      <th>1</th>\n",
       "      <td>1</td>\n",
       "      <td>2799</td>\n",
       "      <td>9</td>\n",
       "    </tr>\n",
       "    <tr>\n",
       "      <th>2</th>\n",
       "      <td>1</td>\n",
       "      <td>841</td>\n",
       "      <td>12</td>\n",
       "    </tr>\n",
       "    <tr>\n",
       "      <th>3</th>\n",
       "      <td>1</td>\n",
       "      <td>2122</td>\n",
       "      <td>12</td>\n",
       "    </tr>\n",
       "    <tr>\n",
       "      <th>4</th>\n",
       "      <td>1</td>\n",
       "      <td>2171</td>\n",
       "      <td>12</td>\n",
       "    </tr>\n",
       "  </tbody>\n",
       "</table>\n",
       "</div>"
      ],
      "text/plain": [
       "   Creditability  CreditAmount  DurationOfCreditInMonths\n",
       "0              1          1049                        18\n",
       "1              1          2799                         9\n",
       "2              1           841                        12\n",
       "3              1          2122                        12\n",
       "4              1          2171                        12"
      ]
     },
     "execution_count": 11,
     "metadata": {},
     "output_type": "execute_result"
    }
   ],
   "source": [
    "#Print header of the file\n",
    "credit_df.head()"
   ]
  },
  {
   "cell_type": "markdown",
   "metadata": {},
   "source": [
    "# 2. Check how many records do we have\n"
   ]
  },
  {
   "cell_type": "code",
   "execution_count": 12,
   "metadata": {
    "execution": {
     "iopub.execute_input": "2022-07-31T05:31:06.615958Z",
     "iopub.status.busy": "2022-07-31T05:31:06.615057Z",
     "iopub.status.idle": "2022-07-31T05:31:06.628044Z",
     "shell.execute_reply": "2022-07-31T05:31:06.627329Z",
     "shell.execute_reply.started": "2022-07-31T05:31:06.615913Z"
    }
   },
   "outputs": [
    {
     "data": {
      "text/plain": [
       "(1000, 3)"
      ]
     },
     "execution_count": 12,
     "metadata": {},
     "output_type": "execute_result"
    }
   ],
   "source": [
    "credit_df.shape"
   ]
  },
  {
   "cell_type": "markdown",
   "metadata": {},
   "source": [
    "# 3. Plot Histogram for column 'CreditAmount'"
   ]
  },
  {
   "cell_type": "code",
   "execution_count": 13,
   "metadata": {
    "execution": {
     "iopub.execute_input": "2022-07-31T05:31:07.171858Z",
     "iopub.status.busy": "2022-07-31T05:31:07.171176Z",
     "iopub.status.idle": "2022-07-31T05:31:07.315289Z",
     "shell.execute_reply": "2022-07-31T05:31:07.314606Z",
     "shell.execute_reply.started": "2022-07-31T05:31:07.171808Z"
    }
   },
   "outputs": [
    {
     "data": {
      "text/plain": [
       "(array([ 26.,  87., 124., 121.,  87.,  84.,  63.,  54.,  43.,  49.,  31.,\n",
       "         24.,  19.,  16.,   7.,  16.,  22.,  14.,  11.,  17.,  13.,   7.,\n",
       "          7.,   4.,   7.,   5.,   2.,   5.,   3.,   4.,   1.,   4.,   4.,\n",
       "          2.,   3.,   1.,   0.,   2.,   3.,   2.,   1.,   0.,   3.,   1.,\n",
       "          0.,   0.,   0.,   0.,   0.,   1.]),\n",
       " array([  250.  ,   613.48,   976.96,  1340.44,  1703.92,  2067.4 ,\n",
       "         2430.88,  2794.36,  3157.84,  3521.32,  3884.8 ,  4248.28,\n",
       "         4611.76,  4975.24,  5338.72,  5702.2 ,  6065.68,  6429.16,\n",
       "         6792.64,  7156.12,  7519.6 ,  7883.08,  8246.56,  8610.04,\n",
       "         8973.52,  9337.  ,  9700.48, 10063.96, 10427.44, 10790.92,\n",
       "        11154.4 , 11517.88, 11881.36, 12244.84, 12608.32, 12971.8 ,\n",
       "        13335.28, 13698.76, 14062.24, 14425.72, 14789.2 , 15152.68,\n",
       "        15516.16, 15879.64, 16243.12, 16606.6 , 16970.08, 17333.56,\n",
       "        17697.04, 18060.52, 18424.  ]),\n",
       " <BarContainer object of 50 artists>)"
      ]
     },
     "execution_count": 13,
     "metadata": {},
     "output_type": "execute_result"
    },
    {
     "data": {
      "image/png": "[encoded data removed]",
      "text/plain": [
       "<Figure size 432x288 with 1 Axes>"
      ]
     },
     "metadata": {
      "needs_background": "light"
     },
     "output_type": "display_data"
    }
   ],
   "source": [
    "plt.hist(credit_df['CreditAmount'], 50)"
   ]
  },
  {
   "cell_type": "code",
   "execution_count": 14,
   "metadata": {
    "execution": {
     "iopub.execute_input": "2022-07-31T05:31:07.446984Z",
     "iopub.status.busy": "2022-07-31T05:31:07.446432Z",
     "iopub.status.idle": "2022-07-31T05:31:07.480908Z",
     "shell.execute_reply": "2022-07-31T05:31:07.480608Z",
     "shell.execute_reply.started": "2022-07-31T05:31:07.446949Z"
    }
   },
   "outputs": [
    {
     "data": {
      "text/plain": [
       "[(0, 500),\n",
       " (501, 1000),\n",
       " (1001, 1500),\n",
       " (1501, 2000),\n",
       " (2001, 2500),\n",
       " (2501, 5000),\n",
       " (5001, 7500),\n",
       " (7501, 10000),\n",
       " (10001, 15000),\n",
       " (15001, 20000)]"
      ]
     },
     "execution_count": 14,
     "metadata": {},
     "output_type": "execute_result"
    }
   ],
   "source": [
    "amountIntervalsPoints = np.array([0, 500, 1000,1500,2000, 2500, 5000, 7500, 10000, 15000, 20000])\n",
    "amountIntervals = [(amountIntervalsPoints[i] + int(i != 0), amountIntervalsPoints[i + 1]) for i in np.arange(len(amountIntervalsPoints) - 1)]\n",
    "amountIntervals"
   ]
  },
  {
   "cell_type": "code",
   "execution_count": 15,
   "metadata": {
    "execution": {
     "iopub.execute_input": "2022-07-31T05:31:07.813856Z",
     "iopub.status.busy": "2022-07-31T05:31:07.813326Z",
     "iopub.status.idle": "2022-07-31T05:31:07.831629Z",
     "shell.execute_reply": "2022-07-31T05:31:07.831035Z",
     "shell.execute_reply.started": "2022-07-31T05:31:07.813822Z"
    }
   },
   "outputs": [
    {
     "data": {
      "text/html": [
       "<div>\n",
       "<style scoped>\n",
       "    .dataframe tbody tr th:only-of-type {\n",
       "        vertical-align: middle;\n",
       "    }\n",
       "\n",
       "    .dataframe tbody tr th {\n",
       "        vertical-align: top;\n",
       "    }\n",
       "\n",
       "    .dataframe thead th {\n",
       "        text-align: right;\n",
       "    }\n",
       "</style>\n",
       "<table border=\"1\" class=\"dataframe\">\n",
       "  <thead>\n",
       "    <tr style=\"text-align: right;\">\n",
       "      <th></th>\n",
       "      <th>intervalLeftSide</th>\n",
       "      <th>intervalRightSide</th>\n",
       "    </tr>\n",
       "  </thead>\n",
       "  <tbody>\n",
       "    <tr>\n",
       "      <th>0</th>\n",
       "      <td>0</td>\n",
       "      <td>500</td>\n",
       "    </tr>\n",
       "    <tr>\n",
       "      <th>1</th>\n",
       "      <td>501</td>\n",
       "      <td>1000</td>\n",
       "    </tr>\n",
       "    <tr>\n",
       "      <th>2</th>\n",
       "      <td>1001</td>\n",
       "      <td>1500</td>\n",
       "    </tr>\n",
       "    <tr>\n",
       "      <th>3</th>\n",
       "      <td>1501</td>\n",
       "      <td>2000</td>\n",
       "    </tr>\n",
       "    <tr>\n",
       "      <th>4</th>\n",
       "      <td>2001</td>\n",
       "      <td>2500</td>\n",
       "    </tr>\n",
       "    <tr>\n",
       "      <th>5</th>\n",
       "      <td>2501</td>\n",
       "      <td>5000</td>\n",
       "    </tr>\n",
       "    <tr>\n",
       "      <th>6</th>\n",
       "      <td>5001</td>\n",
       "      <td>7500</td>\n",
       "    </tr>\n",
       "    <tr>\n",
       "      <th>7</th>\n",
       "      <td>7501</td>\n",
       "      <td>10000</td>\n",
       "    </tr>\n",
       "    <tr>\n",
       "      <th>8</th>\n",
       "      <td>10001</td>\n",
       "      <td>15000</td>\n",
       "    </tr>\n",
       "    <tr>\n",
       "      <th>9</th>\n",
       "      <td>15001</td>\n",
       "      <td>20000</td>\n",
       "    </tr>\n",
       "  </tbody>\n",
       "</table>\n",
       "</div>"
      ],
      "text/plain": [
       "   intervalLeftSide  intervalRightSide\n",
       "0                 0                500\n",
       "1               501               1000\n",
       "2              1001               1500\n",
       "3              1501               2000\n",
       "4              2001               2500\n",
       "5              2501               5000\n",
       "6              5001               7500\n",
       "7              7501              10000\n",
       "8             10001              15000\n",
       "9             15001              20000"
      ]
     },
     "execution_count": 15,
     "metadata": {},
     "output_type": "execute_result"
    }
   ],
   "source": [
    "amountIntervalsDf = pd.DataFrame(amountIntervals, columns = ['intervalLeftSide', 'intervalRightSide'])\n",
    "amountIntervalsDf"
   ]
  },
  {
   "cell_type": "code",
   "execution_count": 16,
   "metadata": {
    "execution": {
     "iopub.execute_input": "2022-07-31T05:31:08.112504Z",
     "iopub.status.busy": "2022-07-31T05:31:08.111867Z",
     "iopub.status.idle": "2022-07-31T05:31:08.134087Z",
     "shell.execute_reply": "2022-07-31T05:31:08.133553Z",
     "shell.execute_reply.started": "2022-07-31T05:31:08.112453Z"
    }
   },
   "outputs": [],
   "source": [
    "#Credibility table preparation\n",
    "Credibility0 = []\n",
    "Credibility1 = []\n",
    "for interval in amountIntervals:\n",
    "    subData = credit_df[credit_df.CreditAmount >= interval[0]]\n",
    "    subData = subData[subData.CreditAmount <= interval[1]]\n",
    "    Credibility0.append(sum(subData.Creditability == 0))\n",
    "    Credibility1.append(sum(subData.Creditability == 1))"
   ]
  },
  {
   "cell_type": "markdown",
   "metadata": {},
   "source": [
    "# 3. Create creditability dataframe"
   ]
  },
  {
   "cell_type": "code",
   "execution_count": 17,
   "metadata": {
    "execution": {
     "iopub.execute_input": "2022-07-31T05:31:08.740430Z",
     "iopub.status.busy": "2022-07-31T05:31:08.739769Z",
     "iopub.status.idle": "2022-07-31T05:31:08.755722Z",
     "shell.execute_reply": "2022-07-31T05:31:08.755131Z",
     "shell.execute_reply.started": "2022-07-31T05:31:08.740390Z"
    }
   },
   "outputs": [
    {
     "data": {
      "text/html": [
       "<div>\n",
       "<style scoped>\n",
       "    .dataframe tbody tr th:only-of-type {\n",
       "        vertical-align: middle;\n",
       "    }\n",
       "\n",
       "    .dataframe tbody tr th {\n",
       "        vertical-align: top;\n",
       "    }\n",
       "\n",
       "    .dataframe thead th {\n",
       "        text-align: right;\n",
       "    }\n",
       "</style>\n",
       "<table border=\"1\" class=\"dataframe\">\n",
       "  <thead>\n",
       "    <tr style=\"text-align: right;\">\n",
       "      <th></th>\n",
       "      <th>Credibiliity0</th>\n",
       "      <th>Credibiliity1</th>\n",
       "    </tr>\n",
       "  </thead>\n",
       "  <tbody>\n",
       "    <tr>\n",
       "      <th>0</th>\n",
       "      <td>3</td>\n",
       "      <td>15</td>\n",
       "    </tr>\n",
       "    <tr>\n",
       "      <th>1</th>\n",
       "      <td>34</td>\n",
       "      <td>64</td>\n",
       "    </tr>\n",
       "    <tr>\n",
       "      <th>2</th>\n",
       "      <td>51</td>\n",
       "      <td>139</td>\n",
       "    </tr>\n",
       "    <tr>\n",
       "      <th>3</th>\n",
       "      <td>33</td>\n",
       "      <td>93</td>\n",
       "    </tr>\n",
       "    <tr>\n",
       "      <th>4</th>\n",
       "      <td>26</td>\n",
       "      <td>79</td>\n",
       "    </tr>\n",
       "    <tr>\n",
       "      <th>5</th>\n",
       "      <td>75</td>\n",
       "      <td>200</td>\n",
       "    </tr>\n",
       "    <tr>\n",
       "      <th>6</th>\n",
       "      <td>34</td>\n",
       "      <td>68</td>\n",
       "    </tr>\n",
       "    <tr>\n",
       "      <th>7</th>\n",
       "      <td>20</td>\n",
       "      <td>26</td>\n",
       "    </tr>\n",
       "    <tr>\n",
       "      <th>8</th>\n",
       "      <td>21</td>\n",
       "      <td>14</td>\n",
       "    </tr>\n",
       "    <tr>\n",
       "      <th>9</th>\n",
       "      <td>3</td>\n",
       "      <td>2</td>\n",
       "    </tr>\n",
       "  </tbody>\n",
       "</table>\n",
       "</div>"
      ],
      "text/plain": [
       "   Credibiliity0  Credibiliity1\n",
       "0              3             15\n",
       "1             34             64\n",
       "2             51            139\n",
       "3             33             93\n",
       "4             26             79\n",
       "5             75            200\n",
       "6             34             68\n",
       "7             20             26\n",
       "8             21             14\n",
       "9              3              2"
      ]
     },
     "execution_count": 17,
     "metadata": {},
     "output_type": "execute_result"
    }
   ],
   "source": [
    "tempDf = pd.DataFrame(np.column_stack([Credibility0, Credibility1]), columns = ['Credibiliity0', 'Credibiliity1'])\n",
    "tempDf"
   ]
  },
  {
   "cell_type": "markdown",
   "metadata": {},
   "source": [
    "# 4. Concatenate the above 2 dataframes and give the total of Credibiliity0 and Credibiliity1"
   ]
  },
  {
   "cell_type": "code",
   "execution_count": 18,
   "metadata": {
    "execution": {
     "iopub.execute_input": "2022-07-31T05:31:09.456949Z",
     "iopub.status.busy": "2022-07-31T05:31:09.456214Z",
     "iopub.status.idle": "2022-07-31T05:31:09.480410Z",
     "shell.execute_reply": "2022-07-31T05:31:09.479936Z",
     "shell.execute_reply.started": "2022-07-31T05:31:09.456850Z"
    }
   },
   "outputs": [
    {
     "data": {
      "text/html": [
       "<div>\n",
       "<style scoped>\n",
       "    .dataframe tbody tr th:only-of-type {\n",
       "        vertical-align: middle;\n",
       "    }\n",
       "\n",
       "    .dataframe tbody tr th {\n",
       "        vertical-align: top;\n",
       "    }\n",
       "\n",
       "    .dataframe thead th {\n",
       "        text-align: right;\n",
       "    }\n",
       "</style>\n",
       "<table border=\"1\" class=\"dataframe\">\n",
       "  <thead>\n",
       "    <tr style=\"text-align: right;\">\n",
       "      <th></th>\n",
       "      <th>intervalLeftSide</th>\n",
       "      <th>intervalRightSide</th>\n",
       "      <th>Credibiliity0</th>\n",
       "      <th>Credibiliity1</th>\n",
       "      <th>total</th>\n",
       "    </tr>\n",
       "  </thead>\n",
       "  <tbody>\n",
       "    <tr>\n",
       "      <th>0</th>\n",
       "      <td>0</td>\n",
       "      <td>500</td>\n",
       "      <td>3</td>\n",
       "      <td>15</td>\n",
       "      <td>18</td>\n",
       "    </tr>\n",
       "    <tr>\n",
       "      <th>1</th>\n",
       "      <td>501</td>\n",
       "      <td>1000</td>\n",
       "      <td>34</td>\n",
       "      <td>64</td>\n",
       "      <td>98</td>\n",
       "    </tr>\n",
       "    <tr>\n",
       "      <th>2</th>\n",
       "      <td>1001</td>\n",
       "      <td>1500</td>\n",
       "      <td>51</td>\n",
       "      <td>139</td>\n",
       "      <td>190</td>\n",
       "    </tr>\n",
       "    <tr>\n",
       "      <th>3</th>\n",
       "      <td>1501</td>\n",
       "      <td>2000</td>\n",
       "      <td>33</td>\n",
       "      <td>93</td>\n",
       "      <td>126</td>\n",
       "    </tr>\n",
       "    <tr>\n",
       "      <th>4</th>\n",
       "      <td>2001</td>\n",
       "      <td>2500</td>\n",
       "      <td>26</td>\n",
       "      <td>79</td>\n",
       "      <td>105</td>\n",
       "    </tr>\n",
       "    <tr>\n",
       "      <th>5</th>\n",
       "      <td>2501</td>\n",
       "      <td>5000</td>\n",
       "      <td>75</td>\n",
       "      <td>200</td>\n",
       "      <td>275</td>\n",
       "    </tr>\n",
       "    <tr>\n",
       "      <th>6</th>\n",
       "      <td>5001</td>\n",
       "      <td>7500</td>\n",
       "      <td>34</td>\n",
       "      <td>68</td>\n",
       "      <td>102</td>\n",
       "    </tr>\n",
       "    <tr>\n",
       "      <th>7</th>\n",
       "      <td>7501</td>\n",
       "      <td>10000</td>\n",
       "      <td>20</td>\n",
       "      <td>26</td>\n",
       "      <td>46</td>\n",
       "    </tr>\n",
       "    <tr>\n",
       "      <th>8</th>\n",
       "      <td>10001</td>\n",
       "      <td>15000</td>\n",
       "      <td>21</td>\n",
       "      <td>14</td>\n",
       "      <td>35</td>\n",
       "    </tr>\n",
       "    <tr>\n",
       "      <th>9</th>\n",
       "      <td>15001</td>\n",
       "      <td>20000</td>\n",
       "      <td>3</td>\n",
       "      <td>2</td>\n",
       "      <td>5</td>\n",
       "    </tr>\n",
       "  </tbody>\n",
       "</table>\n",
       "</div>"
      ],
      "text/plain": [
       "   intervalLeftSide  intervalRightSide  Credibiliity0  Credibiliity1  total\n",
       "0                 0                500              3             15     18\n",
       "1               501               1000             34             64     98\n",
       "2              1001               1500             51            139    190\n",
       "3              1501               2000             33             93    126\n",
       "4              2001               2500             26             79    105\n",
       "5              2501               5000             75            200    275\n",
       "6              5001               7500             34             68    102\n",
       "7              7501              10000             20             26     46\n",
       "8             10001              15000             21             14     35\n",
       "9             15001              20000              3              2      5"
      ]
     },
     "execution_count": 18,
     "metadata": {},
     "output_type": "execute_result"
    }
   ],
   "source": [
    "compareCreditWorthinessDf = pd.concat([amountIntervalsDf.reset_index(drop=True), tempDf], axis=1)\n",
    "compareCreditWorthinessDf\n",
    "compareCreditWorthinessDf['total'] = compareCreditWorthinessDf.Credibiliity0 + compareCreditWorthinessDf.Credibiliity1\n",
    "compareCreditWorthinessDf"
   ]
  },
  {
   "cell_type": "markdown",
   "metadata": {},
   "source": [
    "# 5. Plot Creditworthiness plot for Credibility == 0 and also ==1"
   ]
  },
  {
   "cell_type": "code",
   "execution_count": 19,
   "metadata": {
    "execution": {
     "iopub.execute_input": "2022-07-31T05:31:10.215541Z",
     "iopub.status.busy": "2022-07-31T05:31:10.214885Z",
     "iopub.status.idle": "2022-07-31T05:31:10.293523Z",
     "shell.execute_reply": "2022-07-31T05:31:10.293142Z",
     "shell.execute_reply.started": "2022-07-31T05:31:10.215511Z"
    }
   },
   "outputs": [
    {
     "data": {
      "text/plain": [
       "Text(0.5, 1.0, 'Creditworthiness plot for Credibility == 0')"
      ]
     },
     "execution_count": 19,
     "metadata": {},
     "output_type": "execute_result"
    },
    {
     "data": {
      "image/png": "[encoded data removed]",
      "text/plain": [
       "<Figure size 432x288 with 1 Axes>"
      ]
     },
     "metadata": {
      "needs_background": "light"
     },
     "output_type": "display_data"
    }
   ],
   "source": [
    "plt.plot(compareCreditWorthinessDf.Credibiliity0)\n",
    "plt.xlabel('credit amount interval number')\n",
    "plt.ylabel('probability')\n",
    "plt.title(\"Creditworthiness plot for Credibility == 0\")"
   ]
  },
  {
   "cell_type": "code",
   "execution_count": 20,
   "metadata": {
    "execution": {
     "iopub.execute_input": "2022-07-31T05:31:10.636956Z",
     "iopub.status.busy": "2022-07-31T05:31:10.636650Z",
     "iopub.status.idle": "2022-07-31T05:31:10.700360Z",
     "shell.execute_reply": "2022-07-31T05:31:10.699955Z",
     "shell.execute_reply.started": "2022-07-31T05:31:10.636932Z"
    }
   },
   "outputs": [
    {
     "data": {
      "text/plain": [
       "Text(0.5, 1.0, 'Creditworthiness plot for Credibility == 1')"
      ]
     },
     "execution_count": 20,
     "metadata": {},
     "output_type": "execute_result"
    },
    {
     "data": {
      "image/png": "[encoded data removed]",
      "text/plain": [
       "<Figure size 432x288 with 1 Axes>"
      ]
     },
     "metadata": {
      "needs_background": "light"
     },
     "output_type": "display_data"
    }
   ],
   "source": [
    "plt.plot(compareCreditWorthinessDf.Credibiliity1)\n",
    "plt.xlabel('credit amount interval number')\n",
    "plt.ylabel('probability')\n",
    "plt.title(\"Creditworthiness plot for Credibility == 1\")"
   ]
  },
  {
   "cell_type": "markdown",
   "metadata": {},
   "source": [
    "# 6. Prepare input data for the model"
   ]
  },
  {
   "cell_type": "code",
   "execution_count": 21,
   "metadata": {
    "execution": {
     "iopub.execute_input": "2022-07-31T05:31:11.388702Z",
     "iopub.status.busy": "2022-07-31T05:31:11.388209Z",
     "iopub.status.idle": "2022-07-31T05:31:11.404297Z",
     "shell.execute_reply": "2022-07-31T05:31:11.403266Z",
     "shell.execute_reply.started": "2022-07-31T05:31:11.388671Z"
    }
   },
   "outputs": [],
   "source": [
    "X = np.array(credit_df.CreditAmount)\n",
    "Y = credit_df.Creditability.astype('category')"
   ]
  },
  {
   "cell_type": "markdown",
   "metadata": {},
   "source": [
    "# 7. Fit logistic regression model"
   ]
  },
  {
   "cell_type": "code",
   "execution_count": 22,
   "metadata": {
    "execution": {
     "iopub.execute_input": "2022-07-31T05:31:12.149204Z",
     "iopub.status.busy": "2022-07-31T05:31:12.148561Z",
     "iopub.status.idle": "2022-07-31T05:31:12.240053Z",
     "shell.execute_reply": "2022-07-31T05:31:12.239727Z",
     "shell.execute_reply.started": "2022-07-31T05:31:12.149165Z"
    }
   },
   "outputs": [
    {
     "name": "stdout",
     "output_type": "stream",
     "text": [
      "Optimization terminated successfully.\n",
      "         Current function value: 0.598243\n",
      "         Iterations 5\n"
     ]
    },
    {
     "data": {
      "text/html": [
       "<table class=\"simpletable\">\n",
       "<tr>\n",
       "        <td>Model:</td>              <td>Logit</td>      <td>Pseudo R-squared:</td>    <td>0.017</td>  \n",
       "</tr>\n",
       "<tr>\n",
       "  <td>Dependent Variable:</td>   <td>Creditability</td>        <td>AIC:</td>         <td>841.5402</td> \n",
       "</tr>\n",
       "<tr>\n",
       "         <td>Date:</td>        <td>2022-07-31 09:31</td>       <td>BIC:</td>         <td>850.6424</td> \n",
       "</tr>\n",
       "<tr>\n",
       "   <td>No. Observations:</td>         <td>700</td>        <td>Log-Likelihood:</td>    <td>-418.77</td> \n",
       "</tr>\n",
       "<tr>\n",
       "       <td>Df Model:</td>              <td>1</td>            <td>LL-Null:</td>        <td>-425.90</td> \n",
       "</tr>\n",
       "<tr>\n",
       "     <td>Df Residuals:</td>           <td>698</td>         <td>LLR p-value:</td>    <td>0.00015977</td>\n",
       "</tr>\n",
       "<tr>\n",
       "      <td>Converged:</td>           <td>1.0000</td>           <td>Scale:</td>         <td>1.0000</td>  \n",
       "</tr>\n",
       "<tr>\n",
       "    <td>No. Iterations:</td>        <td>5.0000</td>              <td></td>               <td></td>     \n",
       "</tr>\n",
       "</table>\n",
       "<table class=\"simpletable\">\n",
       "<tr>\n",
       "    <td></td>     <th>Coef.</th>  <th>Std.Err.</th>    <th>z</th>     <th>P>|z|</th> <th>[0.025</th>  <th>0.975]</th> \n",
       "</tr>\n",
       "<tr>\n",
       "  <th>const</th> <td>1.2287</td>   <td>0.1307</td>  <td>9.4037</td>  <td>0.0000</td> <td>0.9726</td>  <td>1.4848</td> \n",
       "</tr>\n",
       "<tr>\n",
       "  <th>x1</th>    <td>-0.0001</td>  <td>0.0000</td>  <td>-3.7764</td> <td>0.0002</td> <td>-0.0002</td> <td>-0.0001</td>\n",
       "</tr>\n",
       "</table>"
      ],
      "text/plain": [
       "<class 'statsmodels.iolib.summary2.Summary'>\n",
       "\"\"\"\n",
       "                         Results: Logit\n",
       "=================================================================\n",
       "Model:              Logit            Pseudo R-squared: 0.017     \n",
       "Dependent Variable: Creditability    AIC:              841.5402  \n",
       "Date:               2022-07-31 09:31 BIC:              850.6424  \n",
       "No. Observations:   700              Log-Likelihood:   -418.77   \n",
       "Df Model:           1                LL-Null:          -425.90   \n",
       "Df Residuals:       698              LLR p-value:      0.00015977\n",
       "Converged:          1.0000           Scale:            1.0000    \n",
       "No. Iterations:     5.0000                                       \n",
       "-------------------------------------------------------------------\n",
       "           Coef.    Std.Err.      z      P>|z|     [0.025    0.975]\n",
       "-------------------------------------------------------------------\n",
       "const      1.2287     0.1307    9.4037   0.0000    0.9726    1.4848\n",
       "x1        -0.0001     0.0000   -3.7764   0.0002   -0.0002   -0.0001\n",
       "=================================================================\n",
       "\n",
       "\"\"\""
      ]
     },
     "execution_count": 22,
     "metadata": {},
     "output_type": "execute_result"
    }
   ],
   "source": [
    "X_train, X_test, y_train, y_test = train_test_split( X, Y, test_size = 0.3, random_state = 42 )\n",
    "logit = sm.Logit( y_train, sm.add_constant( X_train ) )\n",
    "lg = logit.fit()\n",
    "lg.summary2()"
   ]
  },
  {
   "cell_type": "markdown",
   "metadata": {},
   "source": [
    "# 8. Test accuracy calculation"
   ]
  },
  {
   "cell_type": "code",
   "execution_count": 23,
   "metadata": {
    "execution": {
     "iopub.execute_input": "2022-07-31T05:31:13.025979Z",
     "iopub.status.busy": "2022-07-31T05:31:13.025444Z",
     "iopub.status.idle": "2022-07-31T05:31:13.038514Z",
     "shell.execute_reply": "2022-07-31T05:31:13.037754Z",
     "shell.execute_reply.started": "2022-07-31T05:31:13.025941Z"
    }
   },
   "outputs": [
    {
     "data": {
      "text/plain": [
       "array([10974,  1149,  1736,  1414,  2978])"
      ]
     },
     "execution_count": 23,
     "metadata": {},
     "output_type": "execute_result"
    }
   ],
   "source": [
    "def get_predictions( y_test, model ):\n",
    "    y_pred_df = pd.DataFrame( { 'actual': y_test,\n",
    "                               \"predicted_prob\": lg.predict( sm.add_constant( X_test ) ) } )\n",
    "    return y_pred_df\n",
    "\n",
    "X_test[0:5]"
   ]
  },
  {
   "cell_type": "code",
   "execution_count": 24,
   "metadata": {
    "execution": {
     "iopub.execute_input": "2022-07-31T05:31:13.465863Z",
     "iopub.status.busy": "2022-07-31T05:31:13.464287Z",
     "iopub.status.idle": "2022-07-31T05:31:13.483060Z",
     "shell.execute_reply": "2022-07-31T05:31:13.482526Z",
     "shell.execute_reply.started": "2022-07-31T05:31:13.465498Z"
    }
   },
   "outputs": [
    {
     "data": {
      "text/html": [
       "<div>\n",
       "<style scoped>\n",
       "    .dataframe tbody tr th:only-of-type {\n",
       "        vertical-align: middle;\n",
       "    }\n",
       "\n",
       "    .dataframe tbody tr th {\n",
       "        vertical-align: top;\n",
       "    }\n",
       "\n",
       "    .dataframe thead th {\n",
       "        text-align: right;\n",
       "    }\n",
       "</style>\n",
       "<table border=\"1\" class=\"dataframe\">\n",
       "  <thead>\n",
       "    <tr style=\"text-align: right;\">\n",
       "      <th></th>\n",
       "      <th>actual</th>\n",
       "      <th>predicted_prob</th>\n",
       "      <th>originalCredibility</th>\n",
       "    </tr>\n",
       "  </thead>\n",
       "  <tbody>\n",
       "    <tr>\n",
       "      <th>0</th>\n",
       "      <td>10974</td>\n",
       "      <td>0.515795</td>\n",
       "      <td>0</td>\n",
       "    </tr>\n",
       "    <tr>\n",
       "      <th>1</th>\n",
       "      <td>1149</td>\n",
       "      <td>0.751504</td>\n",
       "      <td>1</td>\n",
       "    </tr>\n",
       "    <tr>\n",
       "      <th>2</th>\n",
       "      <td>1736</td>\n",
       "      <td>0.739680</td>\n",
       "      <td>1</td>\n",
       "    </tr>\n",
       "    <tr>\n",
       "      <th>3</th>\n",
       "      <td>1414</td>\n",
       "      <td>0.746211</td>\n",
       "      <td>1</td>\n",
       "    </tr>\n",
       "    <tr>\n",
       "      <th>4</th>\n",
       "      <td>2978</td>\n",
       "      <td>0.713492</td>\n",
       "      <td>1</td>\n",
       "    </tr>\n",
       "  </tbody>\n",
       "</table>\n",
       "</div>"
      ],
      "text/plain": [
       "   actual  predicted_prob  originalCredibility\n",
       "0   10974        0.515795                    0\n",
       "1    1149        0.751504                    1\n",
       "2    1736        0.739680                    1\n",
       "3    1414        0.746211                    1\n",
       "4    2978        0.713492                    1"
      ]
     },
     "execution_count": 24,
     "metadata": {},
     "output_type": "execute_result"
    }
   ],
   "source": [
    "y_pred_df = get_predictions(X_test, lg )\n",
    "y_pred_df['originalCredibility'] = np.array(y_test)\n",
    "y_pred_df[0:5]"
   ]
  },
  {
   "cell_type": "code",
   "execution_count": 25,
   "metadata": {
    "execution": {
     "iopub.execute_input": "2022-07-31T05:31:13.906340Z",
     "iopub.status.busy": "2022-07-31T05:31:13.905676Z",
     "iopub.status.idle": "2022-07-31T05:31:13.936320Z",
     "shell.execute_reply": "2022-07-31T05:31:13.935875Z",
     "shell.execute_reply.started": "2022-07-31T05:31:13.906290Z"
    }
   },
   "outputs": [
    {
     "data": {
      "text/html": [
       "<div>\n",
       "<style scoped>\n",
       "    .dataframe tbody tr th:only-of-type {\n",
       "        vertical-align: middle;\n",
       "    }\n",
       "\n",
       "    .dataframe tbody tr th {\n",
       "        vertical-align: top;\n",
       "    }\n",
       "\n",
       "    .dataframe thead th {\n",
       "        text-align: right;\n",
       "    }\n",
       "</style>\n",
       "<table border=\"1\" class=\"dataframe\">\n",
       "  <thead>\n",
       "    <tr style=\"text-align: right;\">\n",
       "      <th></th>\n",
       "      <th>actual</th>\n",
       "      <th>predicted_prob</th>\n",
       "      <th>originalCredibility</th>\n",
       "      <th>predicted</th>\n",
       "    </tr>\n",
       "  </thead>\n",
       "  <tbody>\n",
       "    <tr>\n",
       "      <th>0</th>\n",
       "      <td>10974</td>\n",
       "      <td>0.515795</td>\n",
       "      <td>0</td>\n",
       "      <td>0</td>\n",
       "    </tr>\n",
       "    <tr>\n",
       "      <th>1</th>\n",
       "      <td>1149</td>\n",
       "      <td>0.751504</td>\n",
       "      <td>1</td>\n",
       "      <td>1</td>\n",
       "    </tr>\n",
       "    <tr>\n",
       "      <th>2</th>\n",
       "      <td>1736</td>\n",
       "      <td>0.739680</td>\n",
       "      <td>1</td>\n",
       "      <td>1</td>\n",
       "    </tr>\n",
       "    <tr>\n",
       "      <th>3</th>\n",
       "      <td>1414</td>\n",
       "      <td>0.746211</td>\n",
       "      <td>1</td>\n",
       "      <td>1</td>\n",
       "    </tr>\n",
       "    <tr>\n",
       "      <th>4</th>\n",
       "      <td>2978</td>\n",
       "      <td>0.713492</td>\n",
       "      <td>1</td>\n",
       "      <td>1</td>\n",
       "    </tr>\n",
       "    <tr>\n",
       "      <th>5</th>\n",
       "      <td>2728</td>\n",
       "      <td>0.718888</td>\n",
       "      <td>1</td>\n",
       "      <td>1</td>\n",
       "    </tr>\n",
       "    <tr>\n",
       "      <th>6</th>\n",
       "      <td>2859</td>\n",
       "      <td>0.716068</td>\n",
       "      <td>1</td>\n",
       "      <td>1</td>\n",
       "    </tr>\n",
       "    <tr>\n",
       "      <th>7</th>\n",
       "      <td>3832</td>\n",
       "      <td>0.694598</td>\n",
       "      <td>1</td>\n",
       "      <td>1</td>\n",
       "    </tr>\n",
       "    <tr>\n",
       "      <th>8</th>\n",
       "      <td>727</td>\n",
       "      <td>0.759779</td>\n",
       "      <td>0</td>\n",
       "      <td>1</td>\n",
       "    </tr>\n",
       "    <tr>\n",
       "      <th>9</th>\n",
       "      <td>1318</td>\n",
       "      <td>0.748137</td>\n",
       "      <td>1</td>\n",
       "      <td>1</td>\n",
       "    </tr>\n",
       "  </tbody>\n",
       "</table>\n",
       "</div>"
      ],
      "text/plain": [
       "   actual  predicted_prob  originalCredibility  predicted\n",
       "0   10974        0.515795                    0          0\n",
       "1    1149        0.751504                    1          1\n",
       "2    1736        0.739680                    1          1\n",
       "3    1414        0.746211                    1          1\n",
       "4    2978        0.713492                    1          1\n",
       "5    2728        0.718888                    1          1\n",
       "6    2859        0.716068                    1          1\n",
       "7    3832        0.694598                    1          1\n",
       "8     727        0.759779                    0          1\n",
       "9    1318        0.748137                    1          1"
      ]
     },
     "execution_count": 25,
     "metadata": {},
     "output_type": "execute_result"
    }
   ],
   "source": [
    "y_pred_df['predicted'] = y_pred_df.predicted_prob.map( lambda x: 1 if x > 0.6 else 0)\n",
    "y_pred_df[0:10]"
   ]
  },
  {
   "cell_type": "markdown",
   "metadata": {},
   "source": [
    "# 9. Build a confusion matrix"
   ]
  },
  {
   "cell_type": "code",
   "execution_count": 35,
   "metadata": {
    "execution": {
     "iopub.execute_input": "2022-07-31T05:32:28.697643Z",
     "iopub.status.busy": "2022-07-31T05:32:28.696899Z",
     "iopub.status.idle": "2022-07-31T05:32:28.707648Z",
     "shell.execute_reply": "2022-07-31T05:32:28.706128Z",
     "shell.execute_reply.started": "2022-07-31T05:32:28.697584Z"
    },
    "tags": []
   },
   "outputs": [],
   "source": [
    "def draw_cm( actual, predicted ):\n",
    "    # cm = metrics.confusion_matrix( actual, predicted, [1,0] )\n",
    "    cm = metrics.confusion_matrix( actual, predicted )\n",
    "    sn.heatmap(cm, annot=True,  fmt='.2f', xticklabels = [\"Default\", \"No Default\"] , yticklabels = [\"Default\", \"No Default\"] )\n",
    "    plt.ylabel('True label')\n",
    "    plt.xlabel('Predicted label')\n",
    "    plt.show()"
   ]
  },
  {
   "cell_type": "code",
   "execution_count": 36,
   "metadata": {
    "execution": {
     "iopub.execute_input": "2022-07-31T05:32:31.199692Z",
     "iopub.status.busy": "2022-07-31T05:32:31.199051Z",
     "iopub.status.idle": "2022-07-31T05:32:31.282755Z",
     "shell.execute_reply": "2022-07-31T05:32:31.282397Z",
     "shell.execute_reply.started": "2022-07-31T05:32:31.199651Z"
    },
    "tags": []
   },
   "outputs": [
    {
     "data": {
      "image/png": "[encoded data removed]",
      "text/plain": [
       "<Figure size 432x288 with 2 Axes>"
      ]
     },
     "metadata": {
      "needs_background": "light"
     },
     "output_type": "display_data"
    }
   ],
   "source": [
    "draw_cm(y_pred_df.originalCredibility, y_pred_df.predicted )"
   ]
  },
  {
   "cell_type": "code",
   "execution_count": 37,
   "metadata": {
    "execution": {
     "iopub.execute_input": "2022-07-31T05:32:39.694411Z",
     "iopub.status.busy": "2022-07-31T05:32:39.693694Z",
     "iopub.status.idle": "2022-07-31T05:32:39.707739Z",
     "shell.execute_reply": "2022-07-31T05:32:39.706794Z",
     "shell.execute_reply.started": "2022-07-31T05:32:39.694358Z"
    },
    "tags": []
   },
   "outputs": [
    {
     "name": "stdout",
     "output_type": "stream",
     "text": [
      "Total Accuracy :  0.7\n"
     ]
    }
   ],
   "source": [
    "print('Total Accuracy : ',np.round( metrics.accuracy_score( y_test, y_pred_df.predicted ), 2 ) )"
   ]
  },
  {
   "cell_type": "markdown",
   "metadata": {},
   "source": [
    "# 10.  Predicted Probability distribution Plots for Defaults and Non Defaults"
   ]
  },
  {
   "cell_type": "code",
   "execution_count": 38,
   "metadata": {
    "execution": {
     "iopub.execute_input": "2022-07-31T05:32:41.584014Z",
     "iopub.status.busy": "2022-07-31T05:32:41.583256Z",
     "iopub.status.idle": "2022-07-31T05:32:41.682916Z",
     "shell.execute_reply": "2022-07-31T05:32:41.682599Z",
     "shell.execute_reply.started": "2022-07-31T05:32:41.583982Z"
    },
    "tags": []
   },
   "outputs": [
    {
     "name": "stderr",
     "output_type": "stream",
     "text": [
      "/Users/josephdavy/lib/python3.10/site-packages/seaborn/distributions.py:2619: FutureWarning: `distplot` is a deprecated function and will be removed in a future version. Please adapt your code to use either `displot` (a figure-level function with similar flexibility) or `histplot` (an axes-level function for histograms).\n",
      "  warnings.warn(msg, FutureWarning)\n"
     ]
    },
    {
     "data": {
      "text/plain": [
       "<AxesSubplot:xlabel='predicted_prob'>"
      ]
     },
     "execution_count": 38,
     "metadata": {},
     "output_type": "execute_result"
    },
    {
     "data": {
      "image/png": "[encoded data removed]",
      "text/plain": [
       "<Figure size 432x288 with 1 Axes>"
      ]
     },
     "metadata": {
      "needs_background": "light"
     },
     "output_type": "display_data"
    }
   ],
   "source": [
    "sn.distplot( y_pred_df[y_pred_df.originalCredibility == 1][\"predicted_prob\"], kde=False, color = 'b' )\n",
    "sn.distplot( y_pred_df[y_pred_df.originalCredibility == 0][\"predicted_prob\"], kde=False, color = 'g' )"
   ]
  },
  {
   "cell_type": "code",
   "execution_count": null,
   "metadata": {},
   "outputs": [],
   "source": []
  }
 ],
 "metadata": {
  "kernelspec": {
   "display_name": "Python 3 (ipykernel)",
   "language": "python",
   "name": "python3"
  },
  "language_info": {
   "codemirror_mode": {
    "name": "ipython",
    "version": 3
   },
   "file_extension": ".py",
   "mimetype": "text/x-python",
   "name": "python",
   "nbconvert_exporter": "python",
   "pygments_lexer": "ipython3",
   "version": "3.10.3"
  }
 },
 "nbformat": 4,
 "nbformat_minor": 4
}
