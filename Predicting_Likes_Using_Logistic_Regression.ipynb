{
 "cells": [
  {
   "cell_type": "markdown",
   "metadata": {},
   "source": [
    "<h1 class=\"list-group-item list-group-item-action active\" data-toggle=\"list\"  role=\"tab\" aria-controls=\"home\">SUPERVISED LEARNING REGRESSION MINI PROJECT </h1>\n",
    "     \n"
   ]
  },
  {
   "cell_type": "code",
   "execution_count": 1,
   "metadata": {
    "ExecuteTime": {
     "end_time": "2022-03-14T06:55:13.216171Z",
     "start_time": "2022-03-14T06:55:11.818039Z"
    },
    "execution": {
     "iopub.execute_input": "2022-07-31T05:34:22.631912Z",
     "iopub.status.busy": "2022-07-31T05:34:22.631493Z",
     "iopub.status.idle": "2022-07-31T05:34:23.443290Z",
     "shell.execute_reply": "2022-07-31T05:34:23.443008Z",
     "shell.execute_reply.started": "2022-07-31T05:34:22.631823Z"
    }
   },
   "outputs": [],
   "source": [
    "import numpy as np\n",
    "import pandas as pd\n",
    "import matplotlib.pyplot as plt\n",
    "%matplotlib inline\n",
    "import seaborn as sns\n",
    "import warnings\n",
    "\n",
    "warnings.simplefilter(action='ignore', category=FutureWarning)\n",
    "warnings.filterwarnings(\"ignore\", category=RuntimeWarning)"
   ]
  },
  {
   "cell_type": "markdown",
   "metadata": {},
   "source": [
    "<h2 class=\"list-group-item list-group-item-action active\" >1. Read the dataset likes.csv </h2>"
   ]
  },
  {
   "cell_type": "code",
   "execution_count": 2,
   "metadata": {
    "ExecuteTime": {
     "end_time": "2022-03-14T06:55:13.251362Z",
     "start_time": "2022-03-14T06:55:13.216171Z"
    },
    "execution": {
     "iopub.execute_input": "2022-07-31T05:34:24.309270Z",
     "iopub.status.busy": "2022-07-31T05:34:24.308771Z",
     "iopub.status.idle": "2022-07-31T05:34:24.333126Z",
     "shell.execute_reply": "2022-07-31T05:34:24.332840Z",
     "shell.execute_reply.started": "2022-07-31T05:34:24.309219Z"
    },
    "scrolled": true
   },
   "outputs": [
    {
     "data": {
      "text/html": [
       "<div>\n",
       "<style scoped>\n",
       "    .dataframe tbody tr th:only-of-type {\n",
       "        vertical-align: middle;\n",
       "    }\n",
       "\n",
       "    .dataframe tbody tr th {\n",
       "        vertical-align: top;\n",
       "    }\n",
       "\n",
       "    .dataframe thead th {\n",
       "        text-align: right;\n",
       "    }\n",
       "</style>\n",
       "<table border=\"1\" class=\"dataframe\">\n",
       "  <thead>\n",
       "    <tr style=\"text-align: right;\">\n",
       "      <th></th>\n",
       "      <th>userid</th>\n",
       "      <th>age</th>\n",
       "      <th>dob_day</th>\n",
       "      <th>dob_year</th>\n",
       "      <th>dob_month</th>\n",
       "      <th>gender</th>\n",
       "      <th>tenure</th>\n",
       "      <th>friend_count</th>\n",
       "      <th>friendships_initiated</th>\n",
       "      <th>likes</th>\n",
       "      <th>likes_received</th>\n",
       "      <th>mobile_likes</th>\n",
       "      <th>mobile_likes_received</th>\n",
       "      <th>www_likes</th>\n",
       "      <th>www_likes_received</th>\n",
       "    </tr>\n",
       "  </thead>\n",
       "  <tbody>\n",
       "    <tr>\n",
       "      <th>0</th>\n",
       "      <td>1098638</td>\n",
       "      <td>13</td>\n",
       "      <td>2</td>\n",
       "      <td>2000</td>\n",
       "      <td>2</td>\n",
       "      <td>male</td>\n",
       "      <td>0</td>\n",
       "      <td>0</td>\n",
       "      <td>0</td>\n",
       "      <td>1</td>\n",
       "      <td>0</td>\n",
       "      <td>0</td>\n",
       "      <td>0</td>\n",
       "      <td>1</td>\n",
       "      <td>0</td>\n",
       "    </tr>\n",
       "    <tr>\n",
       "      <th>1</th>\n",
       "      <td>2063204</td>\n",
       "      <td>14</td>\n",
       "      <td>22</td>\n",
       "      <td>1999</td>\n",
       "      <td>1</td>\n",
       "      <td>male</td>\n",
       "      <td>104</td>\n",
       "      <td>0</td>\n",
       "      <td>0</td>\n",
       "      <td>1</td>\n",
       "      <td>0</td>\n",
       "      <td>0</td>\n",
       "      <td>0</td>\n",
       "      <td>1</td>\n",
       "      <td>0</td>\n",
       "    </tr>\n",
       "    <tr>\n",
       "      <th>2</th>\n",
       "      <td>1579594</td>\n",
       "      <td>19</td>\n",
       "      <td>18</td>\n",
       "      <td>1994</td>\n",
       "      <td>10</td>\n",
       "      <td>female</td>\n",
       "      <td>212</td>\n",
       "      <td>0</td>\n",
       "      <td>0</td>\n",
       "      <td>1</td>\n",
       "      <td>0</td>\n",
       "      <td>0</td>\n",
       "      <td>0</td>\n",
       "      <td>1</td>\n",
       "      <td>0</td>\n",
       "    </tr>\n",
       "    <tr>\n",
       "      <th>3</th>\n",
       "      <td>1979672</td>\n",
       "      <td>21</td>\n",
       "      <td>1</td>\n",
       "      <td>1992</td>\n",
       "      <td>1</td>\n",
       "      <td>male</td>\n",
       "      <td>328</td>\n",
       "      <td>0</td>\n",
       "      <td>0</td>\n",
       "      <td>1</td>\n",
       "      <td>0</td>\n",
       "      <td>0</td>\n",
       "      <td>0</td>\n",
       "      <td>1</td>\n",
       "      <td>0</td>\n",
       "    </tr>\n",
       "    <tr>\n",
       "      <th>4</th>\n",
       "      <td>1344831</td>\n",
       "      <td>23</td>\n",
       "      <td>10</td>\n",
       "      <td>1990</td>\n",
       "      <td>2</td>\n",
       "      <td>male</td>\n",
       "      <td>580</td>\n",
       "      <td>0</td>\n",
       "      <td>0</td>\n",
       "      <td>1</td>\n",
       "      <td>0</td>\n",
       "      <td>0</td>\n",
       "      <td>0</td>\n",
       "      <td>1</td>\n",
       "      <td>0</td>\n",
       "    </tr>\n",
       "  </tbody>\n",
       "</table>\n",
       "</div>"
      ],
      "text/plain": [
       "    userid  age  dob_day  dob_year  dob_month  gender  tenure  friend_count  \\\n",
       "0  1098638   13        2      2000          2    male       0             0   \n",
       "1  2063204   14       22      1999          1    male     104             0   \n",
       "2  1579594   19       18      1994         10  female     212             0   \n",
       "3  1979672   21        1      1992          1    male     328             0   \n",
       "4  1344831   23       10      1990          2    male     580             0   \n",
       "\n",
       "   friendships_initiated  likes  likes_received  mobile_likes  \\\n",
       "0                      0      1               0             0   \n",
       "1                      0      1               0             0   \n",
       "2                      0      1               0             0   \n",
       "3                      0      1               0             0   \n",
       "4                      0      1               0             0   \n",
       "\n",
       "   mobile_likes_received  www_likes  www_likes_received  \n",
       "0                      0          1                   0  \n",
       "1                      0          1                   0  \n",
       "2                      0          1                   0  \n",
       "3                      0          1                   0  \n",
       "4                      0          1                   0  "
      ]
     },
     "execution_count": 2,
     "metadata": {},
     "output_type": "execute_result"
    }
   ],
   "source": [
    "df = pd.read_csv(\"likes.csv\")\n",
    "df.head()"
   ]
  },
  {
   "cell_type": "code",
   "execution_count": 3,
   "metadata": {
    "ExecuteTime": {
     "end_time": "2022-03-14T06:55:13.286429Z",
     "start_time": "2022-03-14T06:55:13.251362Z"
    },
    "execution": {
     "iopub.execute_input": "2022-07-31T05:34:24.765839Z",
     "iopub.status.busy": "2022-07-31T05:34:24.765493Z",
     "iopub.status.idle": "2022-07-31T05:34:24.786452Z",
     "shell.execute_reply": "2022-07-31T05:34:24.785896Z",
     "shell.execute_reply.started": "2022-07-31T05:34:24.765816Z"
    }
   },
   "outputs": [
    {
     "name": "stdout",
     "output_type": "stream",
     "text": [
      "<class 'pandas.core.frame.DataFrame'>\n",
      "RangeIndex: 2104 entries, 0 to 2103\n",
      "Data columns (total 15 columns):\n",
      " #   Column                 Non-Null Count  Dtype \n",
      "---  ------                 --------------  ----- \n",
      " 0   userid                 2104 non-null   int64 \n",
      " 1   age                    2104 non-null   int64 \n",
      " 2   dob_day                2104 non-null   int64 \n",
      " 3   dob_year               2104 non-null   int64 \n",
      " 4   dob_month              2104 non-null   int64 \n",
      " 5   gender                 2102 non-null   object\n",
      " 6   tenure                 2104 non-null   int64 \n",
      " 7   friend_count           2104 non-null   int64 \n",
      " 8   friendships_initiated  2104 non-null   int64 \n",
      " 9   likes                  2104 non-null   int64 \n",
      " 10  likes_received         2104 non-null   int64 \n",
      " 11  mobile_likes           2104 non-null   int64 \n",
      " 12  mobile_likes_received  2104 non-null   int64 \n",
      " 13  www_likes              2104 non-null   int64 \n",
      " 14  www_likes_received     2104 non-null   int64 \n",
      "dtypes: int64(14), object(1)\n",
      "memory usage: 246.7+ KB\n"
     ]
    }
   ],
   "source": [
    "df.info()"
   ]
  },
  {
   "cell_type": "markdown",
   "metadata": {},
   "source": [
    "<h2 class=\"list-group-item list-group-item-action active\" >2. Basic EDA to understand dataset </h2>\n",
    "\n",
    ">### 1.  Select more than five columns for EDA\n",
    "\n",
    " Step1: Each plot must Use the subplots \n",
    " \n",
    "             Plot 1: Histogram or bar, line and use suitable plots\n",
    "             \n",
    "             Plot2: Box plot \n",
    "             \n",
    " Step2: Write the inference is it data skewed or not\n",
    "\n",
    " Step3: Write the inference is it data having  outliers  or not\n",
    "\n",
    "\n",
    "\n",
    ">### 2.  Plot the heat map \n",
    "             \n",
    "  Step1: Write the inference on the dependent variable and independent variable having the most (Positive and Negative) correlation columns \n",
    "\n",
    "\n",
    "  Step2: Write the inference on the correlation among independent variables"
   ]
  },
  {
   "cell_type": "markdown",
   "metadata": {},
   "source": [
    "##### 1.2.1 1. A. likes"
   ]
  },
  {
   "cell_type": "code",
   "execution_count": 4,
   "metadata": {
    "ExecuteTime": {
     "end_time": "2022-03-14T06:55:13.646608Z",
     "start_time": "2022-03-14T06:55:13.288614Z"
    },
    "execution": {
     "iopub.execute_input": "2022-07-31T05:34:25.823494Z",
     "iopub.status.busy": "2022-07-31T05:34:25.823177Z",
     "iopub.status.idle": "2022-07-31T05:34:26.037626Z",
     "shell.execute_reply": "2022-07-31T05:34:26.037320Z",
     "shell.execute_reply.started": "2022-07-31T05:34:25.823470Z"
    }
   },
   "outputs": [
    {
     "data": {
      "image/png": "[encoded data removed]",
      "text/plain": [
       "<Figure size 1440x576 with 2 Axes>"
      ]
     },
     "metadata": {
      "needs_background": "light"
     },
     "output_type": "display_data"
    }
   ],
   "source": [
    "plt.figure(figsize=(20, 8))\n",
    "plt.subplot(1, 2, 1)\n",
    "plt.title('Face book likes distribution plot')\n",
    "sns.distplot(df.likes)\n",
    "plt.subplot(1, 2, 2)\n",
    "plt.title('Face book like Spread')\n",
    "sns.boxplot(y=df.likes)\n",
    "plt.show()"
   ]
  },
  {
   "cell_type": "raw",
   "metadata": {},
   "source": [
    "Inference :\n",
    "\n",
    "1. Histogram seems to be highly skewed\n",
    "2. Box plot have  outliers"
   ]
  },
  {
   "cell_type": "markdown",
   "metadata": {},
   "source": [
    "##### 1.2.1 1. B. age"
   ]
  },
  {
   "cell_type": "code",
   "execution_count": 5,
   "metadata": {
    "ExecuteTime": {
     "end_time": "2022-03-14T06:55:13.926370Z",
     "start_time": "2022-03-14T06:55:13.646608Z"
    },
    "execution": {
     "iopub.execute_input": "2022-07-31T05:34:27.308631Z",
     "iopub.status.busy": "2022-07-31T05:34:27.307732Z",
     "iopub.status.idle": "2022-07-31T05:34:27.446118Z",
     "shell.execute_reply": "2022-07-31T05:34:27.445766Z",
     "shell.execute_reply.started": "2022-07-31T05:34:27.308576Z"
    }
   },
   "outputs": [
    {
     "data": {
      "image/png": "[encoded data removed]",
      "text/plain": [
       "<Figure size 1440x576 with 2 Axes>"
      ]
     },
     "metadata": {
      "needs_background": "light"
     },
     "output_type": "display_data"
    }
   ],
   "source": [
    "plt.figure(figsize=(20, 8))\n",
    "plt.subplot(1, 2, 1)\n",
    "plt.title('Age distribution plot')\n",
    "sns.distplot(df.age)\n",
    "plt.subplot(1, 2, 2)\n",
    "plt.title('Age Spread')\n",
    "sns.boxplot(y=df.age)\n",
    "plt.show()"
   ]
  },
  {
   "cell_type": "raw",
   "metadata": {},
   "source": [
    "Inference :\n",
    "\n",
    "1. Histogram seems to be highly skewed.\n",
    "2. Box plot have  outliers"
   ]
  },
  {
   "cell_type": "markdown",
   "metadata": {},
   "source": [
    "##### 1.2.1 1. C. dob_day"
   ]
  },
  {
   "cell_type": "code",
   "execution_count": 6,
   "metadata": {
    "ExecuteTime": {
     "end_time": "2022-03-14T06:55:14.254730Z",
     "start_time": "2022-03-14T06:55:13.927878Z"
    },
    "execution": {
     "iopub.execute_input": "2022-07-31T05:34:27.547424Z",
     "iopub.status.busy": "2022-07-31T05:34:27.547294Z",
     "iopub.status.idle": "2022-07-31T05:34:27.656466Z",
     "shell.execute_reply": "2022-07-31T05:34:27.656075Z",
     "shell.execute_reply.started": "2022-07-31T05:34:27.547412Z"
    }
   },
   "outputs": [
    {
     "data": {
      "image/png": "[encoded data removed]",
      "text/plain": [
       "<Figure size 1440x576 with 2 Axes>"
      ]
     },
     "metadata": {
      "needs_background": "light"
     },
     "output_type": "display_data"
    }
   ],
   "source": [
    "plt.figure(figsize=(20, 8))\n",
    "plt.subplot(1, 2, 1)\n",
    "plt.title('dob_day distribution plot')\n",
    "sns.distplot(df.dob_day)\n",
    "plt.subplot(1, 2, 2)\n",
    "plt.title('dob_day Spread')\n",
    "sns.boxplot(y=df.dob_day)\n",
    "plt.show()"
   ]
  },
  {
   "cell_type": "raw",
   "metadata": {},
   "source": [
    "Inference :\n",
    "\n",
    "1. Histogram seems to be skewed.\n",
    "2. We dont have outliers"
   ]
  },
  {
   "cell_type": "markdown",
   "metadata": {},
   "source": [
    "##### 1.2.1 1. D. dob_year"
   ]
  },
  {
   "cell_type": "code",
   "execution_count": 7,
   "metadata": {
    "ExecuteTime": {
     "end_time": "2022-03-14T06:55:14.534577Z",
     "start_time": "2022-03-14T06:55:14.256241Z"
    },
    "execution": {
     "iopub.execute_input": "2022-07-31T05:34:28.534840Z",
     "iopub.status.busy": "2022-07-31T05:34:28.534322Z",
     "iopub.status.idle": "2022-07-31T05:34:28.677974Z",
     "shell.execute_reply": "2022-07-31T05:34:28.677575Z",
     "shell.execute_reply.started": "2022-07-31T05:34:28.534796Z"
    }
   },
   "outputs": [
    {
     "data": {
      "image/png": "[encoded data removed]",
      "text/plain": [
       "<Figure size 1440x576 with 2 Axes>"
      ]
     },
     "metadata": {
      "needs_background": "light"
     },
     "output_type": "display_data"
    }
   ],
   "source": [
    "plt.figure(figsize=(20, 8))\n",
    "plt.subplot(1, 2, 1)\n",
    "plt.title('dob_year distribution plot')\n",
    "sns.distplot(df.dob_year)\n",
    "plt.subplot(1, 2, 2)\n",
    "plt.title('dob_year Spread')\n",
    "sns.boxplot(y=df.dob_year)\n",
    "plt.show()"
   ]
  },
  {
   "cell_type": "raw",
   "metadata": {},
   "source": [
    "Inference :\n",
    "\n",
    "1. Histogram seems to be left skewed.\n",
    "2. Yes we have outliers"
   ]
  },
  {
   "cell_type": "markdown",
   "metadata": {},
   "source": [
    "##### 1.2.1 1. E. dob_month"
   ]
  },
  {
   "cell_type": "code",
   "execution_count": 8,
   "metadata": {
    "ExecuteTime": {
     "end_time": "2022-03-14T06:55:14.823954Z",
     "start_time": "2022-03-14T06:55:14.536293Z"
    },
    "execution": {
     "iopub.execute_input": "2022-07-31T05:34:28.778620Z",
     "iopub.status.busy": "2022-07-31T05:34:28.778376Z",
     "iopub.status.idle": "2022-07-31T05:34:28.896271Z",
     "shell.execute_reply": "2022-07-31T05:34:28.895874Z",
     "shell.execute_reply.started": "2022-07-31T05:34:28.778606Z"
    }
   },
   "outputs": [
    {
     "data": {
      "image/png": "[encoded data removed]",
      "text/plain": [
       "<Figure size 1440x576 with 2 Axes>"
      ]
     },
     "metadata": {
      "needs_background": "light"
     },
     "output_type": "display_data"
    }
   ],
   "source": [
    "plt.figure(figsize=(20, 8))\n",
    "plt.subplot(1, 2, 1)\n",
    "plt.title('dob_month distribution plot')\n",
    "sns.distplot(df.dob_month)\n",
    "plt.subplot(1, 2, 2)\n",
    "plt.title('dob_month Spread')\n",
    "sns.boxplot(y=df.dob_month)\n",
    "plt.show()"
   ]
  },
  {
   "cell_type": "raw",
   "metadata": {},
   "source": [
    "Inference :\n",
    "\n",
    "1. Histogram seems to be skewed.\n",
    "2. We dont have outliers"
   ]
  },
  {
   "cell_type": "markdown",
   "metadata": {},
   "source": [
    "##### 1.2.1 1. F. likes_received "
   ]
  },
  {
   "cell_type": "code",
   "execution_count": 9,
   "metadata": {
    "ExecuteTime": {
     "end_time": "2022-03-14T06:55:15.147078Z",
     "start_time": "2022-03-14T06:55:14.826462Z"
    },
    "execution": {
     "iopub.execute_input": "2022-07-31T05:34:29.546277Z",
     "iopub.status.busy": "2022-07-31T05:34:29.545958Z",
     "iopub.status.idle": "2022-07-31T05:34:29.732191Z",
     "shell.execute_reply": "2022-07-31T05:34:29.731968Z",
     "shell.execute_reply.started": "2022-07-31T05:34:29.546252Z"
    }
   },
   "outputs": [
    {
     "data": {
      "image/png": "[encoded data removed]",
      "text/plain": [
       "<Figure size 1440x576 with 2 Axes>"
      ]
     },
     "metadata": {
      "needs_background": "light"
     },
     "output_type": "display_data"
    }
   ],
   "source": [
    "plt.figure(figsize=(20, 8))\n",
    "plt.subplot(1, 2, 1)\n",
    "plt.title('likes_received  distribution plot')\n",
    "sns.distplot(df.likes_received)\n",
    "plt.subplot(1, 2, 2)\n",
    "plt.title('likes_received  Spread')\n",
    "sns.boxplot(y=df.likes_received)\n",
    "plt.show()"
   ]
  },
  {
   "cell_type": "raw",
   "metadata": {},
   "source": [
    "Inference :\n",
    "\n",
    "1. Histogram seems to be skewed.\n",
    "2. We have outliers"
   ]
  },
  {
   "cell_type": "markdown",
   "metadata": {},
   "source": [
    "##### 1.2.2  2. Plot the heat map \n",
    "             \n",
    "  Step1: Write the inference on the dependent variable and independent variable having the most (Positive and Negative) correlation columns \n",
    "\n",
    "\n",
    "  Step2: Write the inference on the correlation among independent variables"
   ]
  },
  {
   "cell_type": "code",
   "execution_count": 10,
   "metadata": {
    "ExecuteTime": {
     "end_time": "2022-03-14T06:55:16.845470Z",
     "start_time": "2022-03-14T06:55:15.147078Z"
    },
    "execution": {
     "iopub.execute_input": "2022-07-31T05:34:30.811001Z",
     "iopub.status.busy": "2022-07-31T05:34:30.810463Z",
     "iopub.status.idle": "2022-07-31T05:34:31.118457Z",
     "shell.execute_reply": "2022-07-31T05:34:31.118223Z",
     "shell.execute_reply.started": "2022-07-31T05:34:30.810956Z"
    }
   },
   "outputs": [
    {
     "data": {
      "text/plain": [
       "<AxesSubplot:>"
      ]
     },
     "execution_count": 10,
     "metadata": {},
     "output_type": "execute_result"
    },
    {
     "data": {
      "image/png": "[encoded data removed]",
      "text/plain": [
       "<Figure size 1080x576 with 2 Axes>"
      ]
     },
     "metadata": {
      "needs_background": "light"
     },
     "output_type": "display_data"
    }
   ],
   "source": [
    "corr = df.corr()\n",
    "\n",
    "plt.figure(figsize=(15, 8))\n",
    "sns.heatmap(corr, annot=True, cmap=\"YlGnBu\")"
   ]
  },
  {
   "cell_type": "raw",
   "metadata": {},
   "source": [
    "Inference :\n",
    "\n",
    "1.Dependent var and indep. var's\n",
    "Positive corr: Likes highly correlated with mobile_likes and www_likes\n",
    "Negative corr: Likes negatively corr with friend_count and age\n",
    "\n",
    "2. Correlation among independent variables:\n",
    "Many independent variables are highly correlated; www_likes_received, likes_received, mobile_likes_received are positively correlated \n",
    "Since indep. var's are highly correlated (more than 80% corr among many of them ) we'll have to pay attention to multicollinearity, which we will check in assumptions validation section using VIF score."
   ]
  },
  {
   "cell_type": "markdown",
   "metadata": {},
   "source": [
    "<h2 class=\"list-group-item list-group-item-action active\" >3.Split dataset into train and test,Scaling    </h2>\n",
    "\n",
    ">### 1. Split the dataset in dependent variable is [`likes`] and independent\n",
    "\n",
    ">### 2. Convert categorical variables to numeric variables\n",
    "\n",
    ">### 3. Scale the features \n",
    "\n",
    ">### 4. Split dataset into train(70%) and test(30%).How would you ascertain this statistically? \n",
    " "
   ]
  },
  {
   "cell_type": "markdown",
   "metadata": {},
   "source": [
    "#### 1. Split the dataset in dependent variables and independent"
   ]
  },
  {
   "cell_type": "code",
   "execution_count": 11,
   "metadata": {
    "ExecuteTime": {
     "end_time": "2022-03-14T06:55:16.860630Z",
     "start_time": "2022-03-14T06:55:16.848886Z"
    },
    "execution": {
     "iopub.execute_input": "2022-07-31T05:34:31.639228Z",
     "iopub.status.busy": "2022-07-31T05:34:31.638938Z",
     "iopub.status.idle": "2022-07-31T05:34:31.646590Z",
     "shell.execute_reply": "2022-07-31T05:34:31.645682Z",
     "shell.execute_reply.started": "2022-07-31T05:34:31.639206Z"
    }
   },
   "outputs": [],
   "source": [
    "X = df.drop(columns=['likes'])\n",
    "y = df['likes']"
   ]
  },
  {
   "cell_type": "markdown",
   "metadata": {},
   "source": [
    "#### 2. Convert categorical variables to numeric variables"
   ]
  },
  {
   "cell_type": "code",
   "execution_count": 12,
   "metadata": {
    "ExecuteTime": {
     "end_time": "2022-03-14T06:55:16.886350Z",
     "start_time": "2022-03-14T06:55:16.862872Z"
    },
    "execution": {
     "iopub.execute_input": "2022-07-31T05:34:32.281144Z",
     "iopub.status.busy": "2022-07-31T05:34:32.280857Z",
     "iopub.status.idle": "2022-07-31T05:34:32.306735Z",
     "shell.execute_reply": "2022-07-31T05:34:32.306427Z",
     "shell.execute_reply.started": "2022-07-31T05:34:32.281122Z"
    }
   },
   "outputs": [
    {
     "data": {
      "text/html": [
       "<div>\n",
       "<style scoped>\n",
       "    .dataframe tbody tr th:only-of-type {\n",
       "        vertical-align: middle;\n",
       "    }\n",
       "\n",
       "    .dataframe tbody tr th {\n",
       "        vertical-align: top;\n",
       "    }\n",
       "\n",
       "    .dataframe thead th {\n",
       "        text-align: right;\n",
       "    }\n",
       "</style>\n",
       "<table border=\"1\" class=\"dataframe\">\n",
       "  <thead>\n",
       "    <tr style=\"text-align: right;\">\n",
       "      <th></th>\n",
       "      <th>userid</th>\n",
       "      <th>age</th>\n",
       "      <th>dob_day</th>\n",
       "      <th>dob_year</th>\n",
       "      <th>dob_month</th>\n",
       "      <th>tenure</th>\n",
       "      <th>friend_count</th>\n",
       "      <th>friendships_initiated</th>\n",
       "      <th>likes</th>\n",
       "      <th>likes_received</th>\n",
       "      <th>mobile_likes</th>\n",
       "      <th>mobile_likes_received</th>\n",
       "      <th>www_likes</th>\n",
       "      <th>www_likes_received</th>\n",
       "      <th>gender_female</th>\n",
       "      <th>gender_male</th>\n",
       "    </tr>\n",
       "  </thead>\n",
       "  <tbody>\n",
       "    <tr>\n",
       "      <th>0</th>\n",
       "      <td>1098638</td>\n",
       "      <td>13</td>\n",
       "      <td>2</td>\n",
       "      <td>2000</td>\n",
       "      <td>2</td>\n",
       "      <td>0</td>\n",
       "      <td>0</td>\n",
       "      <td>0</td>\n",
       "      <td>1</td>\n",
       "      <td>0</td>\n",
       "      <td>0</td>\n",
       "      <td>0</td>\n",
       "      <td>1</td>\n",
       "      <td>0</td>\n",
       "      <td>0</td>\n",
       "      <td>1</td>\n",
       "    </tr>\n",
       "    <tr>\n",
       "      <th>1</th>\n",
       "      <td>2063204</td>\n",
       "      <td>14</td>\n",
       "      <td>22</td>\n",
       "      <td>1999</td>\n",
       "      <td>1</td>\n",
       "      <td>104</td>\n",
       "      <td>0</td>\n",
       "      <td>0</td>\n",
       "      <td>1</td>\n",
       "      <td>0</td>\n",
       "      <td>0</td>\n",
       "      <td>0</td>\n",
       "      <td>1</td>\n",
       "      <td>0</td>\n",
       "      <td>0</td>\n",
       "      <td>1</td>\n",
       "    </tr>\n",
       "    <tr>\n",
       "      <th>2</th>\n",
       "      <td>1579594</td>\n",
       "      <td>19</td>\n",
       "      <td>18</td>\n",
       "      <td>1994</td>\n",
       "      <td>10</td>\n",
       "      <td>212</td>\n",
       "      <td>0</td>\n",
       "      <td>0</td>\n",
       "      <td>1</td>\n",
       "      <td>0</td>\n",
       "      <td>0</td>\n",
       "      <td>0</td>\n",
       "      <td>1</td>\n",
       "      <td>0</td>\n",
       "      <td>1</td>\n",
       "      <td>0</td>\n",
       "    </tr>\n",
       "    <tr>\n",
       "      <th>3</th>\n",
       "      <td>1979672</td>\n",
       "      <td>21</td>\n",
       "      <td>1</td>\n",
       "      <td>1992</td>\n",
       "      <td>1</td>\n",
       "      <td>328</td>\n",
       "      <td>0</td>\n",
       "      <td>0</td>\n",
       "      <td>1</td>\n",
       "      <td>0</td>\n",
       "      <td>0</td>\n",
       "      <td>0</td>\n",
       "      <td>1</td>\n",
       "      <td>0</td>\n",
       "      <td>0</td>\n",
       "      <td>1</td>\n",
       "    </tr>\n",
       "    <tr>\n",
       "      <th>4</th>\n",
       "      <td>1344831</td>\n",
       "      <td>23</td>\n",
       "      <td>10</td>\n",
       "      <td>1990</td>\n",
       "      <td>2</td>\n",
       "      <td>580</td>\n",
       "      <td>0</td>\n",
       "      <td>0</td>\n",
       "      <td>1</td>\n",
       "      <td>0</td>\n",
       "      <td>0</td>\n",
       "      <td>0</td>\n",
       "      <td>1</td>\n",
       "      <td>0</td>\n",
       "      <td>0</td>\n",
       "      <td>1</td>\n",
       "    </tr>\n",
       "  </tbody>\n",
       "</table>\n",
       "</div>"
      ],
      "text/plain": [
       "    userid  age  dob_day  dob_year  dob_month  tenure  friend_count  \\\n",
       "0  1098638   13        2      2000          2       0             0   \n",
       "1  2063204   14       22      1999          1     104             0   \n",
       "2  1579594   19       18      1994         10     212             0   \n",
       "3  1979672   21        1      1992          1     328             0   \n",
       "4  1344831   23       10      1990          2     580             0   \n",
       "\n",
       "   friendships_initiated  likes  likes_received  mobile_likes  \\\n",
       "0                      0      1               0             0   \n",
       "1                      0      1               0             0   \n",
       "2                      0      1               0             0   \n",
       "3                      0      1               0             0   \n",
       "4                      0      1               0             0   \n",
       "\n",
       "   mobile_likes_received  www_likes  www_likes_received  gender_female  \\\n",
       "0                      0          1                   0              0   \n",
       "1                      0          1                   0              0   \n",
       "2                      0          1                   0              1   \n",
       "3                      0          1                   0              0   \n",
       "4                      0          1                   0              0   \n",
       "\n",
       "   gender_male  \n",
       "0            1  \n",
       "1            1  \n",
       "2            0  \n",
       "3            1  \n",
       "4            1  "
      ]
     },
     "execution_count": 12,
     "metadata": {},
     "output_type": "execute_result"
    }
   ],
   "source": [
    "dfX = pd.get_dummies(df, columns=['gender'])\n",
    "dfX.head()"
   ]
  },
  {
   "cell_type": "markdown",
   "metadata": {},
   "source": [
    "#### 3. Scale the features"
   ]
  },
  {
   "cell_type": "code",
   "execution_count": 13,
   "metadata": {
    "ExecuteTime": {
     "end_time": "2022-03-14T06:55:17.116212Z",
     "start_time": "2022-03-14T06:55:16.891416Z"
    },
    "execution": {
     "iopub.execute_input": "2022-07-31T05:34:32.950653Z",
     "iopub.status.busy": "2022-07-31T05:34:32.950371Z",
     "iopub.status.idle": "2022-07-31T05:34:33.013899Z",
     "shell.execute_reply": "2022-07-31T05:34:33.013601Z",
     "shell.execute_reply.started": "2022-07-31T05:34:32.950631Z"
    }
   },
   "outputs": [
    {
     "data": {
      "text/plain": [
       "Index(['userid', 'age', 'dob_day', 'dob_year', 'dob_month', 'tenure',\n",
       "       'friend_count', 'friendships_initiated', 'likes', 'likes_received',\n",
       "       'mobile_likes', 'mobile_likes_received', 'www_likes',\n",
       "       'www_likes_received', 'gender_female', 'gender_male'],\n",
       "      dtype='object')"
      ]
     },
     "execution_count": 13,
     "metadata": {},
     "output_type": "execute_result"
    }
   ],
   "source": [
    "from sklearn.preprocessing import scale\n",
    "\n",
    "cols = dfX.columns\n",
    "dfX_scaled = pd.DataFrame(scale(dfX))\n",
    "dfX_scaled.columns = cols\n",
    "dfX_scaled.columns"
   ]
  },
  {
   "cell_type": "markdown",
   "metadata": {},
   "source": [
    "##### 4. Split dataset into train(70%) and test(30%).How would you ascertain this statistically?"
   ]
  },
  {
   "cell_type": "code",
   "execution_count": 14,
   "metadata": {
    "ExecuteTime": {
     "end_time": "2022-03-14T06:55:17.179743Z",
     "start_time": "2022-03-14T06:55:17.116329Z"
    },
    "execution": {
     "iopub.execute_input": "2022-07-31T05:34:33.766008Z",
     "iopub.status.busy": "2022-07-31T05:34:33.765688Z",
     "iopub.status.idle": "2022-07-31T05:34:33.803929Z",
     "shell.execute_reply": "2022-07-31T05:34:33.803700Z",
     "shell.execute_reply.started": "2022-07-31T05:34:33.765984Z"
    }
   },
   "outputs": [
    {
     "data": {
      "text/html": [
       "<div>\n",
       "<style scoped>\n",
       "    .dataframe tbody tr th:only-of-type {\n",
       "        vertical-align: middle;\n",
       "    }\n",
       "\n",
       "    .dataframe tbody tr th {\n",
       "        vertical-align: top;\n",
       "    }\n",
       "\n",
       "    .dataframe thead th {\n",
       "        text-align: right;\n",
       "    }\n",
       "</style>\n",
       "<table border=\"1\" class=\"dataframe\">\n",
       "  <thead>\n",
       "    <tr style=\"text-align: right;\">\n",
       "      <th></th>\n",
       "      <th>userid</th>\n",
       "      <th>age</th>\n",
       "      <th>dob_day</th>\n",
       "      <th>dob_year</th>\n",
       "      <th>dob_month</th>\n",
       "      <th>tenure</th>\n",
       "      <th>friend_count</th>\n",
       "      <th>friendships_initiated</th>\n",
       "      <th>likes</th>\n",
       "      <th>likes_received</th>\n",
       "      <th>mobile_likes</th>\n",
       "      <th>mobile_likes_received</th>\n",
       "      <th>www_likes</th>\n",
       "      <th>www_likes_received</th>\n",
       "      <th>gender_female</th>\n",
       "      <th>gender_male</th>\n",
       "    </tr>\n",
       "  </thead>\n",
       "  <tbody>\n",
       "    <tr>\n",
       "      <th>count</th>\n",
       "      <td>2.104000e+03</td>\n",
       "      <td>2.104000e+03</td>\n",
       "      <td>2.104000e+03</td>\n",
       "      <td>2.104000e+03</td>\n",
       "      <td>2.104000e+03</td>\n",
       "      <td>2.104000e+03</td>\n",
       "      <td>2.104000e+03</td>\n",
       "      <td>2104.000000</td>\n",
       "      <td>2.104000e+03</td>\n",
       "      <td>2.104000e+03</td>\n",
       "      <td>2.104000e+03</td>\n",
       "      <td>2.104000e+03</td>\n",
       "      <td>2.104000e+03</td>\n",
       "      <td>2.104000e+03</td>\n",
       "      <td>2.104000e+03</td>\n",
       "      <td>2.104000e+03</td>\n",
       "    </tr>\n",
       "    <tr>\n",
       "      <th>mean</th>\n",
       "      <td>2.684798e-16</td>\n",
       "      <td>1.249529e-16</td>\n",
       "      <td>-7.936195e-17</td>\n",
       "      <td>-3.211626e-15</td>\n",
       "      <td>-1.165101e-16</td>\n",
       "      <td>5.741077e-17</td>\n",
       "      <td>-5.403367e-17</td>\n",
       "      <td>0.000000</td>\n",
       "      <td>3.377104e-18</td>\n",
       "      <td>1.688552e-18</td>\n",
       "      <td>-1.013131e-17</td>\n",
       "      <td>-3.377104e-18</td>\n",
       "      <td>1.181986e-17</td>\n",
       "      <td>-1.097559e-17</td>\n",
       "      <td>-3.714815e-17</td>\n",
       "      <td>-7.091919e-17</td>\n",
       "    </tr>\n",
       "    <tr>\n",
       "      <th>std</th>\n",
       "      <td>1.000238e+00</td>\n",
       "      <td>1.000238e+00</td>\n",
       "      <td>1.000238e+00</td>\n",
       "      <td>1.000238e+00</td>\n",
       "      <td>1.000238e+00</td>\n",
       "      <td>1.000238e+00</td>\n",
       "      <td>1.000238e+00</td>\n",
       "      <td>1.000238</td>\n",
       "      <td>1.000238e+00</td>\n",
       "      <td>1.000238e+00</td>\n",
       "      <td>1.000238e+00</td>\n",
       "      <td>1.000238e+00</td>\n",
       "      <td>1.000238e+00</td>\n",
       "      <td>1.000238e+00</td>\n",
       "      <td>1.000238e+00</td>\n",
       "      <td>1.000238e+00</td>\n",
       "    </tr>\n",
       "    <tr>\n",
       "      <th>min</th>\n",
       "      <td>-1.716836e+00</td>\n",
       "      <td>-1.264734e+00</td>\n",
       "      <td>-1.314345e+00</td>\n",
       "      <td>-4.617092e+00</td>\n",
       "      <td>-1.320351e+00</td>\n",
       "      <td>-9.235578e-01</td>\n",
       "      <td>-1.460491e+00</td>\n",
       "      <td>-1.170249</td>\n",
       "      <td>-1.573334e-01</td>\n",
       "      <td>-1.772198e-01</td>\n",
       "      <td>-1.138846e-01</td>\n",
       "      <td>-1.584397e-01</td>\n",
       "      <td>-1.856960e-01</td>\n",
       "      <td>-1.737465e-01</td>\n",
       "      <td>-7.076110e-01</td>\n",
       "      <td>-1.410190e+00</td>\n",
       "    </tr>\n",
       "    <tr>\n",
       "      <th>25%</th>\n",
       "      <td>-8.614077e-01</td>\n",
       "      <td>-7.075082e-01</td>\n",
       "      <td>-9.085145e-01</td>\n",
       "      <td>-4.843355e-01</td>\n",
       "      <td>-1.049932e+00</td>\n",
       "      <td>-7.420073e-01</td>\n",
       "      <td>-7.445375e-01</td>\n",
       "      <td>-0.365081</td>\n",
       "      <td>-1.573334e-01</td>\n",
       "      <td>-1.772198e-01</td>\n",
       "      <td>-1.138846e-01</td>\n",
       "      <td>-1.584397e-01</td>\n",
       "      <td>-1.856960e-01</td>\n",
       "      <td>-1.737465e-01</td>\n",
       "      <td>-7.076110e-01</td>\n",
       "      <td>-1.410190e+00</td>\n",
       "    </tr>\n",
       "    <tr>\n",
       "      <th>50%</th>\n",
       "      <td>-2.183791e-02</td>\n",
       "      <td>-3.360245e-01</td>\n",
       "      <td>-6.979869e-02</td>\n",
       "      <td>3.360245e-01</td>\n",
       "      <td>3.174600e-02</td>\n",
       "      <td>-2.814068e-01</td>\n",
       "      <td>-2.858371e-02</td>\n",
       "      <td>-0.365081</td>\n",
       "      <td>-1.396253e-01</td>\n",
       "      <td>-1.548855e-01</td>\n",
       "      <td>-1.074418e-01</td>\n",
       "      <td>-1.584397e-01</td>\n",
       "      <td>-1.856960e-01</td>\n",
       "      <td>-1.737465e-01</td>\n",
       "      <td>-7.076110e-01</td>\n",
       "      <td>7.091242e-01</td>\n",
       "    </tr>\n",
       "    <tr>\n",
       "      <th>75%</th>\n",
       "      <td>8.459441e-01</td>\n",
       "      <td>4.843355e-01</td>\n",
       "      <td>8.500832e-01</td>\n",
       "      <td>7.075082e-01</td>\n",
       "      <td>8.430041e-01</td>\n",
       "      <td>3.775543e-01</td>\n",
       "      <td>6.873701e-01</td>\n",
       "      <td>0.440087</td>\n",
       "      <td>-8.059825e-02</td>\n",
       "      <td>-1.102170e-01</td>\n",
       "      <td>-7.522795e-02</td>\n",
       "      <td>-8.098685e-02</td>\n",
       "      <td>-1.298652e-01</td>\n",
       "      <td>-1.285428e-01</td>\n",
       "      <td>1.413206e+00</td>\n",
       "      <td>7.091242e-01</td>\n",
       "    </tr>\n",
       "    <tr>\n",
       "      <th>max</th>\n",
       "      <td>1.746402e+00</td>\n",
       "      <td>4.617092e+00</td>\n",
       "      <td>1.932297e+00</td>\n",
       "      <td>1.264734e+00</td>\n",
       "      <td>1.654262e+00</td>\n",
       "      <td>6.819236e+00</td>\n",
       "      <td>2.119278e+00</td>\n",
       "      <td>2.855590</td>\n",
       "      <td>3.488111e+01</td>\n",
       "      <td>2.943801e+01</td>\n",
       "      <td>3.663569e+01</td>\n",
       "      <td>2.613681e+01</td>\n",
       "      <td>2.921857e+01</td>\n",
       "      <td>2.907307e+01</td>\n",
       "      <td>1.413206e+00</td>\n",
       "      <td>7.091242e-01</td>\n",
       "    </tr>\n",
       "  </tbody>\n",
       "</table>\n",
       "</div>"
      ],
      "text/plain": [
       "             userid           age       dob_day      dob_year     dob_month  \\\n",
       "count  2.104000e+03  2.104000e+03  2.104000e+03  2.104000e+03  2.104000e+03   \n",
       "mean   2.684798e-16  1.249529e-16 -7.936195e-17 -3.211626e-15 -1.165101e-16   \n",
       "std    1.000238e+00  1.000238e+00  1.000238e+00  1.000238e+00  1.000238e+00   \n",
       "min   -1.716836e+00 -1.264734e+00 -1.314345e+00 -4.617092e+00 -1.320351e+00   \n",
       "25%   -8.614077e-01 -7.075082e-01 -9.085145e-01 -4.843355e-01 -1.049932e+00   \n",
       "50%   -2.183791e-02 -3.360245e-01 -6.979869e-02  3.360245e-01  3.174600e-02   \n",
       "75%    8.459441e-01  4.843355e-01  8.500832e-01  7.075082e-01  8.430041e-01   \n",
       "max    1.746402e+00  4.617092e+00  1.932297e+00  1.264734e+00  1.654262e+00   \n",
       "\n",
       "             tenure  friend_count  friendships_initiated         likes  \\\n",
       "count  2.104000e+03  2.104000e+03            2104.000000  2.104000e+03   \n",
       "mean   5.741077e-17 -5.403367e-17               0.000000  3.377104e-18   \n",
       "std    1.000238e+00  1.000238e+00               1.000238  1.000238e+00   \n",
       "min   -9.235578e-01 -1.460491e+00              -1.170249 -1.573334e-01   \n",
       "25%   -7.420073e-01 -7.445375e-01              -0.365081 -1.573334e-01   \n",
       "50%   -2.814068e-01 -2.858371e-02              -0.365081 -1.396253e-01   \n",
       "75%    3.775543e-01  6.873701e-01               0.440087 -8.059825e-02   \n",
       "max    6.819236e+00  2.119278e+00               2.855590  3.488111e+01   \n",
       "\n",
       "       likes_received  mobile_likes  mobile_likes_received     www_likes  \\\n",
       "count    2.104000e+03  2.104000e+03           2.104000e+03  2.104000e+03   \n",
       "mean     1.688552e-18 -1.013131e-17          -3.377104e-18  1.181986e-17   \n",
       "std      1.000238e+00  1.000238e+00           1.000238e+00  1.000238e+00   \n",
       "min     -1.772198e-01 -1.138846e-01          -1.584397e-01 -1.856960e-01   \n",
       "25%     -1.772198e-01 -1.138846e-01          -1.584397e-01 -1.856960e-01   \n",
       "50%     -1.548855e-01 -1.074418e-01          -1.584397e-01 -1.856960e-01   \n",
       "75%     -1.102170e-01 -7.522795e-02          -8.098685e-02 -1.298652e-01   \n",
       "max      2.943801e+01  3.663569e+01           2.613681e+01  2.921857e+01   \n",
       "\n",
       "       www_likes_received  gender_female   gender_male  \n",
       "count        2.104000e+03   2.104000e+03  2.104000e+03  \n",
       "mean        -1.097559e-17  -3.714815e-17 -7.091919e-17  \n",
       "std          1.000238e+00   1.000238e+00  1.000238e+00  \n",
       "min         -1.737465e-01  -7.076110e-01 -1.410190e+00  \n",
       "25%         -1.737465e-01  -7.076110e-01 -1.410190e+00  \n",
       "50%         -1.737465e-01  -7.076110e-01  7.091242e-01  \n",
       "75%         -1.285428e-01   1.413206e+00  7.091242e-01  \n",
       "max          2.907307e+01   1.413206e+00  7.091242e-01  "
      ]
     },
     "execution_count": 14,
     "metadata": {},
     "output_type": "execute_result"
    }
   ],
   "source": [
    "dfX_scaled.describe()\n",
    "\n",
    "# all numeric cols has means = 0 or as good as zero and std=1"
   ]
  },
  {
   "cell_type": "code",
   "execution_count": 15,
   "metadata": {
    "ExecuteTime": {
     "end_time": "2022-03-14T06:55:17.266632Z",
     "start_time": "2022-03-14T06:55:17.179743Z"
    },
    "execution": {
     "iopub.execute_input": "2022-07-31T05:34:33.844103Z",
     "iopub.status.busy": "2022-07-31T05:34:33.843778Z",
     "iopub.status.idle": "2022-07-31T05:34:33.864470Z",
     "shell.execute_reply": "2022-07-31T05:34:33.863665Z",
     "shell.execute_reply.started": "2022-07-31T05:34:33.844077Z"
    }
   },
   "outputs": [],
   "source": [
    "# split into train and test\n",
    "from sklearn.model_selection import train_test_split\n",
    "\n",
    "X_train, X_test, y_train, y_test = train_test_split(dfX_scaled,\n",
    "                                                    y,\n",
    "                                                    train_size=0.7,\n",
    "                                                    test_size=0.3,\n",
    "                                                    random_state=100)"
   ]
  },
  {
   "cell_type": "code",
   "execution_count": 16,
   "metadata": {
    "ExecuteTime": {
     "end_time": "2022-03-14T06:55:17.331379Z",
     "start_time": "2022-03-14T06:55:17.268145Z"
    },
    "execution": {
     "iopub.execute_input": "2022-07-31T05:34:33.931323Z",
     "iopub.status.busy": "2022-07-31T05:34:33.931004Z",
     "iopub.status.idle": "2022-07-31T05:34:33.960444Z",
     "shell.execute_reply": "2022-07-31T05:34:33.960062Z",
     "shell.execute_reply.started": "2022-07-31T05:34:33.931300Z"
    }
   },
   "outputs": [
    {
     "data": {
      "text/html": [
       "<div>\n",
       "<style scoped>\n",
       "    .dataframe tbody tr th:only-of-type {\n",
       "        vertical-align: middle;\n",
       "    }\n",
       "\n",
       "    .dataframe tbody tr th {\n",
       "        vertical-align: top;\n",
       "    }\n",
       "\n",
       "    .dataframe thead th {\n",
       "        text-align: right;\n",
       "    }\n",
       "</style>\n",
       "<table border=\"1\" class=\"dataframe\">\n",
       "  <thead>\n",
       "    <tr style=\"text-align: right;\">\n",
       "      <th></th>\n",
       "      <th>userid</th>\n",
       "      <th>age</th>\n",
       "      <th>dob_day</th>\n",
       "      <th>dob_year</th>\n",
       "      <th>dob_month</th>\n",
       "      <th>tenure</th>\n",
       "      <th>friend_count</th>\n",
       "      <th>friendships_initiated</th>\n",
       "      <th>likes</th>\n",
       "      <th>likes_received</th>\n",
       "      <th>mobile_likes</th>\n",
       "      <th>mobile_likes_received</th>\n",
       "      <th>www_likes</th>\n",
       "      <th>www_likes_received</th>\n",
       "      <th>gender_female</th>\n",
       "      <th>gender_male</th>\n",
       "    </tr>\n",
       "  </thead>\n",
       "  <tbody>\n",
       "    <tr>\n",
       "      <th>count</th>\n",
       "      <td>1472.000000</td>\n",
       "      <td>1472.000000</td>\n",
       "      <td>1472.000000</td>\n",
       "      <td>1472.000000</td>\n",
       "      <td>1472.000000</td>\n",
       "      <td>1472.000000</td>\n",
       "      <td>1472.000000</td>\n",
       "      <td>1472.000000</td>\n",
       "      <td>1472.000000</td>\n",
       "      <td>1472.000000</td>\n",
       "      <td>1472.000000</td>\n",
       "      <td>1472.000000</td>\n",
       "      <td>1472.000000</td>\n",
       "      <td>1472.000000</td>\n",
       "      <td>1472.000000</td>\n",
       "      <td>1472.000000</td>\n",
       "    </tr>\n",
       "    <tr>\n",
       "      <th>mean</th>\n",
       "      <td>-0.028346</td>\n",
       "      <td>-0.014551</td>\n",
       "      <td>-0.004513</td>\n",
       "      <td>0.014551</td>\n",
       "      <td>0.014661</td>\n",
       "      <td>0.021680</td>\n",
       "      <td>0.018595</td>\n",
       "      <td>0.011795</td>\n",
       "      <td>-0.011739</td>\n",
       "      <td>0.000984</td>\n",
       "      <td>-0.010074</td>\n",
       "      <td>0.005569</td>\n",
       "      <td>-0.007912</td>\n",
       "      <td>-0.004509</td>\n",
       "      <td>0.004131</td>\n",
       "      <td>-0.003553</td>\n",
       "    </tr>\n",
       "    <tr>\n",
       "      <th>std</th>\n",
       "      <td>1.011331</td>\n",
       "      <td>0.989837</td>\n",
       "      <td>1.001834</td>\n",
       "      <td>0.989837</td>\n",
       "      <td>1.008892</td>\n",
       "      <td>1.045908</td>\n",
       "      <td>0.997010</td>\n",
       "      <td>0.993250</td>\n",
       "      <td>1.018938</td>\n",
       "      <td>1.084080</td>\n",
       "      <td>1.007214</td>\n",
       "      <td>1.083394</td>\n",
       "      <td>1.053851</td>\n",
       "      <td>1.043676</td>\n",
       "      <td>1.001788</td>\n",
       "      <td>1.001579</td>\n",
       "    </tr>\n",
       "    <tr>\n",
       "      <th>min</th>\n",
       "      <td>-1.716836</td>\n",
       "      <td>-1.264734</td>\n",
       "      <td>-1.314345</td>\n",
       "      <td>-4.617092</td>\n",
       "      <td>-1.320351</td>\n",
       "      <td>-0.923558</td>\n",
       "      <td>-1.460491</td>\n",
       "      <td>-1.170249</td>\n",
       "      <td>-0.157333</td>\n",
       "      <td>-0.177220</td>\n",
       "      <td>-0.113885</td>\n",
       "      <td>-0.158440</td>\n",
       "      <td>-0.185696</td>\n",
       "      <td>-0.173746</td>\n",
       "      <td>-0.707611</td>\n",
       "      <td>-1.410190</td>\n",
       "    </tr>\n",
       "    <tr>\n",
       "      <th>25%</th>\n",
       "      <td>-0.909130</td>\n",
       "      <td>-0.707508</td>\n",
       "      <td>-0.881459</td>\n",
       "      <td>-0.468857</td>\n",
       "      <td>-1.049932</td>\n",
       "      <td>-0.745369</td>\n",
       "      <td>-0.744537</td>\n",
       "      <td>-0.365081</td>\n",
       "      <td>-0.157333</td>\n",
       "      <td>-0.177220</td>\n",
       "      <td>-0.113885</td>\n",
       "      <td>-0.158440</td>\n",
       "      <td>-0.185696</td>\n",
       "      <td>-0.173746</td>\n",
       "      <td>-0.707611</td>\n",
       "      <td>-1.410190</td>\n",
       "    </tr>\n",
       "    <tr>\n",
       "      <th>50%</th>\n",
       "      <td>-0.081547</td>\n",
       "      <td>-0.336024</td>\n",
       "      <td>-0.123909</td>\n",
       "      <td>0.336024</td>\n",
       "      <td>0.031746</td>\n",
       "      <td>-0.274683</td>\n",
       "      <td>-0.028584</td>\n",
       "      <td>-0.365081</td>\n",
       "      <td>-0.145528</td>\n",
       "      <td>-0.154886</td>\n",
       "      <td>-0.107442</td>\n",
       "      <td>-0.158440</td>\n",
       "      <td>-0.185696</td>\n",
       "      <td>-0.173746</td>\n",
       "      <td>-0.707611</td>\n",
       "      <td>0.709124</td>\n",
       "    </tr>\n",
       "    <tr>\n",
       "      <th>75%</th>\n",
       "      <td>0.835410</td>\n",
       "      <td>0.468857</td>\n",
       "      <td>0.768917</td>\n",
       "      <td>0.707508</td>\n",
       "      <td>0.843004</td>\n",
       "      <td>0.408653</td>\n",
       "      <td>0.687370</td>\n",
       "      <td>0.440087</td>\n",
       "      <td>-0.086501</td>\n",
       "      <td>-0.110217</td>\n",
       "      <td>-0.075228</td>\n",
       "      <td>-0.080987</td>\n",
       "      <td>-0.129865</td>\n",
       "      <td>-0.128543</td>\n",
       "      <td>1.413206</td>\n",
       "      <td>0.709124</td>\n",
       "    </tr>\n",
       "    <tr>\n",
       "      <th>max</th>\n",
       "      <td>1.745882</td>\n",
       "      <td>4.617092</td>\n",
       "      <td>1.932297</td>\n",
       "      <td>1.264734</td>\n",
       "      <td>1.654262</td>\n",
       "      <td>6.819236</td>\n",
       "      <td>2.119278</td>\n",
       "      <td>2.855590</td>\n",
       "      <td>34.881106</td>\n",
       "      <td>29.438007</td>\n",
       "      <td>36.635694</td>\n",
       "      <td>26.136813</td>\n",
       "      <td>29.218566</td>\n",
       "      <td>29.073072</td>\n",
       "      <td>1.413206</td>\n",
       "      <td>0.709124</td>\n",
       "    </tr>\n",
       "  </tbody>\n",
       "</table>\n",
       "</div>"
      ],
      "text/plain": [
       "            userid          age      dob_day     dob_year    dob_month  \\\n",
       "count  1472.000000  1472.000000  1472.000000  1472.000000  1472.000000   \n",
       "mean     -0.028346    -0.014551    -0.004513     0.014551     0.014661   \n",
       "std       1.011331     0.989837     1.001834     0.989837     1.008892   \n",
       "min      -1.716836    -1.264734    -1.314345    -4.617092    -1.320351   \n",
       "25%      -0.909130    -0.707508    -0.881459    -0.468857    -1.049932   \n",
       "50%      -0.081547    -0.336024    -0.123909     0.336024     0.031746   \n",
       "75%       0.835410     0.468857     0.768917     0.707508     0.843004   \n",
       "max       1.745882     4.617092     1.932297     1.264734     1.654262   \n",
       "\n",
       "            tenure  friend_count  friendships_initiated        likes  \\\n",
       "count  1472.000000   1472.000000            1472.000000  1472.000000   \n",
       "mean      0.021680      0.018595               0.011795    -0.011739   \n",
       "std       1.045908      0.997010               0.993250     1.018938   \n",
       "min      -0.923558     -1.460491              -1.170249    -0.157333   \n",
       "25%      -0.745369     -0.744537              -0.365081    -0.157333   \n",
       "50%      -0.274683     -0.028584              -0.365081    -0.145528   \n",
       "75%       0.408653      0.687370               0.440087    -0.086501   \n",
       "max       6.819236      2.119278               2.855590    34.881106   \n",
       "\n",
       "       likes_received  mobile_likes  mobile_likes_received    www_likes  \\\n",
       "count     1472.000000   1472.000000            1472.000000  1472.000000   \n",
       "mean         0.000984     -0.010074               0.005569    -0.007912   \n",
       "std          1.084080      1.007214               1.083394     1.053851   \n",
       "min         -0.177220     -0.113885              -0.158440    -0.185696   \n",
       "25%         -0.177220     -0.113885              -0.158440    -0.185696   \n",
       "50%         -0.154886     -0.107442              -0.158440    -0.185696   \n",
       "75%         -0.110217     -0.075228              -0.080987    -0.129865   \n",
       "max         29.438007     36.635694              26.136813    29.218566   \n",
       "\n",
       "       www_likes_received  gender_female  gender_male  \n",
       "count         1472.000000    1472.000000  1472.000000  \n",
       "mean            -0.004509       0.004131    -0.003553  \n",
       "std              1.043676       1.001788     1.001579  \n",
       "min             -0.173746      -0.707611    -1.410190  \n",
       "25%             -0.173746      -0.707611    -1.410190  \n",
       "50%             -0.173746      -0.707611     0.709124  \n",
       "75%             -0.128543       1.413206     0.709124  \n",
       "max             29.073072       1.413206     0.709124  "
      ]
     },
     "execution_count": 16,
     "metadata": {},
     "output_type": "execute_result"
    }
   ],
   "source": [
    "X_train.describe()"
   ]
  },
  {
   "cell_type": "code",
   "execution_count": 17,
   "metadata": {
    "ExecuteTime": {
     "end_time": "2022-03-14T06:55:17.381151Z",
     "start_time": "2022-03-14T06:55:17.331379Z"
    },
    "execution": {
     "iopub.execute_input": "2022-07-31T05:34:34.014961Z",
     "iopub.status.busy": "2022-07-31T05:34:34.014559Z",
     "iopub.status.idle": "2022-07-31T05:34:34.039326Z",
     "shell.execute_reply": "2022-07-31T05:34:34.039007Z",
     "shell.execute_reply.started": "2022-07-31T05:34:34.014939Z"
    }
   },
   "outputs": [
    {
     "data": {
      "text/html": [
       "<div>\n",
       "<style scoped>\n",
       "    .dataframe tbody tr th:only-of-type {\n",
       "        vertical-align: middle;\n",
       "    }\n",
       "\n",
       "    .dataframe tbody tr th {\n",
       "        vertical-align: top;\n",
       "    }\n",
       "\n",
       "    .dataframe thead th {\n",
       "        text-align: right;\n",
       "    }\n",
       "</style>\n",
       "<table border=\"1\" class=\"dataframe\">\n",
       "  <thead>\n",
       "    <tr style=\"text-align: right;\">\n",
       "      <th></th>\n",
       "      <th>userid</th>\n",
       "      <th>age</th>\n",
       "      <th>dob_day</th>\n",
       "      <th>dob_year</th>\n",
       "      <th>dob_month</th>\n",
       "      <th>tenure</th>\n",
       "      <th>friend_count</th>\n",
       "      <th>friendships_initiated</th>\n",
       "      <th>likes</th>\n",
       "      <th>likes_received</th>\n",
       "      <th>mobile_likes</th>\n",
       "      <th>mobile_likes_received</th>\n",
       "      <th>www_likes</th>\n",
       "      <th>www_likes_received</th>\n",
       "      <th>gender_female</th>\n",
       "      <th>gender_male</th>\n",
       "    </tr>\n",
       "  </thead>\n",
       "  <tbody>\n",
       "    <tr>\n",
       "      <th>count</th>\n",
       "      <td>632.000000</td>\n",
       "      <td>632.000000</td>\n",
       "      <td>632.000000</td>\n",
       "      <td>632.000000</td>\n",
       "      <td>632.000000</td>\n",
       "      <td>632.000000</td>\n",
       "      <td>632.000000</td>\n",
       "      <td>632.000000</td>\n",
       "      <td>632.000000</td>\n",
       "      <td>632.000000</td>\n",
       "      <td>632.000000</td>\n",
       "      <td>632.000000</td>\n",
       "      <td>632.000000</td>\n",
       "      <td>632.000000</td>\n",
       "      <td>632.000000</td>\n",
       "      <td>632.000000</td>\n",
       "    </tr>\n",
       "    <tr>\n",
       "      <th>mean</th>\n",
       "      <td>0.066022</td>\n",
       "      <td>0.033892</td>\n",
       "      <td>0.010511</td>\n",
       "      <td>-0.033892</td>\n",
       "      <td>-0.034147</td>\n",
       "      <td>-0.050495</td>\n",
       "      <td>-0.043311</td>\n",
       "      <td>-0.027471</td>\n",
       "      <td>0.027341</td>\n",
       "      <td>-0.002292</td>\n",
       "      <td>0.023463</td>\n",
       "      <td>-0.012970</td>\n",
       "      <td>0.018428</td>\n",
       "      <td>0.010502</td>\n",
       "      <td>-0.009621</td>\n",
       "      <td>0.008275</td>\n",
       "    </tr>\n",
       "    <tr>\n",
       "      <th>std</th>\n",
       "      <td>0.971495</td>\n",
       "      <td>1.024045</td>\n",
       "      <td>0.997221</td>\n",
       "      <td>1.024045</td>\n",
       "      <td>0.979723</td>\n",
       "      <td>0.883495</td>\n",
       "      <td>1.007175</td>\n",
       "      <td>1.016590</td>\n",
       "      <td>0.955492</td>\n",
       "      <td>0.771144</td>\n",
       "      <td>0.984189</td>\n",
       "      <td>0.773237</td>\n",
       "      <td>0.863045</td>\n",
       "      <td>0.891589</td>\n",
       "      <td>0.997343</td>\n",
       "      <td>0.997851</td>\n",
       "    </tr>\n",
       "    <tr>\n",
       "      <th>min</th>\n",
       "      <td>-1.693882</td>\n",
       "      <td>-1.264734</td>\n",
       "      <td>-1.314345</td>\n",
       "      <td>-4.617092</td>\n",
       "      <td>-1.320351</td>\n",
       "      <td>-0.923558</td>\n",
       "      <td>-1.460491</td>\n",
       "      <td>-1.170249</td>\n",
       "      <td>-0.157333</td>\n",
       "      <td>-0.177220</td>\n",
       "      <td>-0.113885</td>\n",
       "      <td>-0.158440</td>\n",
       "      <td>-0.185696</td>\n",
       "      <td>-0.173746</td>\n",
       "      <td>-0.707611</td>\n",
       "      <td>-1.410190</td>\n",
       "    </tr>\n",
       "    <tr>\n",
       "      <th>25%</th>\n",
       "      <td>-0.707359</td>\n",
       "      <td>-0.645594</td>\n",
       "      <td>-0.989681</td>\n",
       "      <td>-0.592685</td>\n",
       "      <td>-1.049932</td>\n",
       "      <td>-0.732762</td>\n",
       "      <td>-0.744537</td>\n",
       "      <td>-1.170249</td>\n",
       "      <td>-0.157333</td>\n",
       "      <td>-0.177220</td>\n",
       "      <td>-0.113885</td>\n",
       "      <td>-0.158440</td>\n",
       "      <td>-0.185696</td>\n",
       "      <td>-0.173746</td>\n",
       "      <td>-0.707611</td>\n",
       "      <td>-1.410190</td>\n",
       "    </tr>\n",
       "    <tr>\n",
       "      <th>50%</th>\n",
       "      <td>0.104431</td>\n",
       "      <td>-0.274111</td>\n",
       "      <td>-0.015688</td>\n",
       "      <td>0.274111</td>\n",
       "      <td>-0.238673</td>\n",
       "      <td>-0.296536</td>\n",
       "      <td>-0.028584</td>\n",
       "      <td>-0.365081</td>\n",
       "      <td>-0.139625</td>\n",
       "      <td>-0.154886</td>\n",
       "      <td>-0.107442</td>\n",
       "      <td>-0.158440</td>\n",
       "      <td>-0.185696</td>\n",
       "      <td>-0.173746</td>\n",
       "      <td>-0.707611</td>\n",
       "      <td>0.709124</td>\n",
       "    </tr>\n",
       "    <tr>\n",
       "      <th>75%</th>\n",
       "      <td>0.860672</td>\n",
       "      <td>0.592685</td>\n",
       "      <td>0.850083</td>\n",
       "      <td>0.645594</td>\n",
       "      <td>0.843004</td>\n",
       "      <td>0.295184</td>\n",
       "      <td>0.687370</td>\n",
       "      <td>0.440087</td>\n",
       "      <td>-0.073220</td>\n",
       "      <td>-0.087883</td>\n",
       "      <td>-0.075228</td>\n",
       "      <td>-0.080987</td>\n",
       "      <td>-0.129865</td>\n",
       "      <td>-0.128543</td>\n",
       "      <td>1.413206</td>\n",
       "      <td>0.709124</td>\n",
       "    </tr>\n",
       "    <tr>\n",
       "      <th>max</th>\n",
       "      <td>1.746402</td>\n",
       "      <td>4.617092</td>\n",
       "      <td>1.932297</td>\n",
       "      <td>1.264734</td>\n",
       "      <td>1.654262</td>\n",
       "      <td>4.869249</td>\n",
       "      <td>2.119278</td>\n",
       "      <td>2.855590</td>\n",
       "      <td>19.539983</td>\n",
       "      <td>10.141207</td>\n",
       "      <td>20.966870</td>\n",
       "      <td>15.215957</td>\n",
       "      <td>13.288156</td>\n",
       "      <td>16.235211</td>\n",
       "      <td>1.413206</td>\n",
       "      <td>0.709124</td>\n",
       "    </tr>\n",
       "  </tbody>\n",
       "</table>\n",
       "</div>"
      ],
      "text/plain": [
       "           userid         age     dob_day    dob_year   dob_month      tenure  \\\n",
       "count  632.000000  632.000000  632.000000  632.000000  632.000000  632.000000   \n",
       "mean     0.066022    0.033892    0.010511   -0.033892   -0.034147   -0.050495   \n",
       "std      0.971495    1.024045    0.997221    1.024045    0.979723    0.883495   \n",
       "min     -1.693882   -1.264734   -1.314345   -4.617092   -1.320351   -0.923558   \n",
       "25%     -0.707359   -0.645594   -0.989681   -0.592685   -1.049932   -0.732762   \n",
       "50%      0.104431   -0.274111   -0.015688    0.274111   -0.238673   -0.296536   \n",
       "75%      0.860672    0.592685    0.850083    0.645594    0.843004    0.295184   \n",
       "max      1.746402    4.617092    1.932297    1.264734    1.654262    4.869249   \n",
       "\n",
       "       friend_count  friendships_initiated       likes  likes_received  \\\n",
       "count    632.000000             632.000000  632.000000      632.000000   \n",
       "mean      -0.043311              -0.027471    0.027341       -0.002292   \n",
       "std        1.007175               1.016590    0.955492        0.771144   \n",
       "min       -1.460491              -1.170249   -0.157333       -0.177220   \n",
       "25%       -0.744537              -1.170249   -0.157333       -0.177220   \n",
       "50%       -0.028584              -0.365081   -0.139625       -0.154886   \n",
       "75%        0.687370               0.440087   -0.073220       -0.087883   \n",
       "max        2.119278               2.855590   19.539983       10.141207   \n",
       "\n",
       "       mobile_likes  mobile_likes_received   www_likes  www_likes_received  \\\n",
       "count    632.000000             632.000000  632.000000          632.000000   \n",
       "mean       0.023463              -0.012970    0.018428            0.010502   \n",
       "std        0.984189               0.773237    0.863045            0.891589   \n",
       "min       -0.113885              -0.158440   -0.185696           -0.173746   \n",
       "25%       -0.113885              -0.158440   -0.185696           -0.173746   \n",
       "50%       -0.107442              -0.158440   -0.185696           -0.173746   \n",
       "75%       -0.075228              -0.080987   -0.129865           -0.128543   \n",
       "max       20.966870              15.215957   13.288156           16.235211   \n",
       "\n",
       "       gender_female  gender_male  \n",
       "count     632.000000   632.000000  \n",
       "mean       -0.009621     0.008275  \n",
       "std         0.997343     0.997851  \n",
       "min        -0.707611    -1.410190  \n",
       "25%        -0.707611    -1.410190  \n",
       "50%        -0.707611     0.709124  \n",
       "75%         1.413206     0.709124  \n",
       "max         1.413206     0.709124  "
      ]
     },
     "execution_count": 17,
     "metadata": {},
     "output_type": "execute_result"
    }
   ],
   "source": [
    "X_test.describe()"
   ]
  },
  {
   "cell_type": "code",
   "execution_count": 18,
   "metadata": {
    "ExecuteTime": {
     "end_time": "2022-03-14T06:55:17.408448Z",
     "start_time": "2022-03-14T06:55:17.386734Z"
    },
    "execution": {
     "iopub.execute_input": "2022-07-31T05:34:34.098189Z",
     "iopub.status.busy": "2022-07-31T05:34:34.097707Z",
     "iopub.status.idle": "2022-07-31T05:34:34.111840Z",
     "shell.execute_reply": "2022-07-31T05:34:34.111511Z",
     "shell.execute_reply.started": "2022-07-31T05:34:34.098163Z"
    }
   },
   "outputs": [
    {
     "data": {
      "text/plain": [
       "count    1472.000000\n",
       "mean       25.665761\n",
       "std       172.622353\n",
       "min         1.000000\n",
       "25%         1.000000\n",
       "50%         3.000000\n",
       "75%        13.000000\n",
       "max      5937.000000\n",
       "Name: likes, dtype: float64"
      ]
     },
     "execution_count": 18,
     "metadata": {},
     "output_type": "execute_result"
    }
   ],
   "source": [
    "y_train.describe()"
   ]
  },
  {
   "cell_type": "code",
   "execution_count": 19,
   "metadata": {
    "ExecuteTime": {
     "end_time": "2022-03-14T06:55:17.424065Z",
     "start_time": "2022-03-14T06:55:17.409510Z"
    },
    "execution": {
     "iopub.execute_input": "2022-07-31T05:34:34.181838Z",
     "iopub.status.busy": "2022-07-31T05:34:34.181530Z",
     "iopub.status.idle": "2022-07-31T05:34:34.196573Z",
     "shell.execute_reply": "2022-07-31T05:34:34.195798Z",
     "shell.execute_reply.started": "2022-07-31T05:34:34.181812Z"
    }
   },
   "outputs": [
    {
     "data": {
      "text/plain": [
       "count     632.000000\n",
       "mean       32.286392\n",
       "std       161.873624\n",
       "min         1.000000\n",
       "25%         1.000000\n",
       "50%         4.000000\n",
       "75%        15.250000\n",
       "max      3338.000000\n",
       "Name: likes, dtype: float64"
      ]
     },
     "execution_count": 19,
     "metadata": {},
     "output_type": "execute_result"
    }
   ],
   "source": [
    "y_test.describe()"
   ]
  },
  {
   "cell_type": "markdown",
   "metadata": {},
   "source": [
    "<h2 class=\"list-group-item list-group-item-action active\" >4.Model Building and Feature Selection using RFE(Recursive feature elimination)   </h2>\n",
    "\n",
    ">### 1. Use Linear Regression\n",
    "\n",
    ">### 2. Evaluation metrics like Rsqaure,Standard error/RMSE. Write the inference.\n",
    "\n",
    ">### 3. Feature selection using RFE\n",
    "\n",
    "Step1: Check the optimal number of features between 4 to 30\n",
    "\n",
    "Step2: RFE with n features(LinearRegression) \n",
    "\n",
    "Step3: Specify the number of features\n",
    "\n",
    "Step4: Fit with n features\n",
    "\n",
    "Step5: Select features selected by rfe_n      \n",
    "\n",
    "Step6:Training & test data for n selected columns        \n",
    "\n",
    "Step7: Add a constant to the model       \n",
    "\n",
    "Step8:Fit the ols model with n features\n",
    "\n",
    "Step9: Calculate evaluation metrics\n",
    "\n",
    "Step 10: Plot r2 and RMSE against n_features  \n",
    "\n",
    "Step11: Write your final inference.    \n",
    "\n",
    "\n",
    "\n",
    "\n",
    ">### 4. Model Bulding with optimal features count\n",
    "\n"
   ]
  },
  {
   "cell_type": "code",
   "execution_count": 20,
   "metadata": {
    "ExecuteTime": {
     "end_time": "2022-03-14T06:55:17.634212Z",
     "start_time": "2022-03-14T06:55:17.426175Z"
    },
    "execution": {
     "iopub.execute_input": "2022-07-31T05:34:34.348269Z",
     "iopub.status.busy": "2022-07-31T05:34:34.347783Z",
     "iopub.status.idle": "2022-07-31T05:34:34.387938Z",
     "shell.execute_reply": "2022-07-31T05:34:34.387318Z",
     "shell.execute_reply.started": "2022-07-31T05:34:34.348226Z"
    }
   },
   "outputs": [],
   "source": [
    "# Model with all features\n",
    "\n",
    "from sklearn import linear_model\n",
    "from sklearn.linear_model import LinearRegression\n",
    "\n",
    "lm = LinearRegression()\n",
    "lm.fit(X_train, y_train)\n",
    "\n",
    "y_pred_test = lm.predict(X_test)\n",
    "y_pred_train = lm.predict(X_train)"
   ]
  },
  {
   "cell_type": "code",
   "execution_count": 21,
   "metadata": {
    "ExecuteTime": {
     "end_time": "2022-03-14T06:55:17.650528Z",
     "start_time": "2022-03-14T06:55:17.636274Z"
    },
    "execution": {
     "iopub.execute_input": "2022-07-31T05:34:34.446148Z",
     "iopub.status.busy": "2022-07-31T05:34:34.444064Z",
     "iopub.status.idle": "2022-07-31T05:34:34.483778Z",
     "shell.execute_reply": "2022-07-31T05:34:34.482926Z",
     "shell.execute_reply.started": "2022-07-31T05:34:34.446104Z"
    }
   },
   "outputs": [
    {
     "name": "stdout",
     "output_type": "stream",
     "text": [
      "R-sqaure on train data: 1.0\n",
      "R-sqaure on test data: 1.0\n",
      "RMSE on train data: 1.5980932466208889e-13\n",
      "RMSE on test data: 1.4361098255858672e-13\n"
     ]
    }
   ],
   "source": [
    "from sklearn.metrics import r2_score\n",
    "\n",
    "print('R-sqaure on train data: {}'.format(\n",
    "    r2_score(y_true=y_train, y_pred=y_pred_train)))\n",
    "print('R-sqaure on test data: {}'.format(\n",
    "    r2_score(y_true=y_test, y_pred=y_pred_test)))\n",
    "\n",
    "#Standard error/RMSE\n",
    "error_train = y_pred_train - y_train\n",
    "error_test = y_pred_test - y_test\n",
    "\n",
    "print('RMSE on train data: {}'.format(((error_train**2).mean())**0.5))\n",
    "print('RMSE on test data: {}'.format(((error_test**2).mean())**0.5))"
   ]
  },
  {
   "cell_type": "raw",
   "metadata": {},
   "source": [
    "Massive overfitting: All features in model is never a good idea unless features are too less and all of them are important, \n",
    "so using Recursive feature elimination to reduce dimensionality"
   ]
  },
  {
   "cell_type": "markdown",
   "metadata": {},
   "source": [
    "##### Feature selection using RFE"
   ]
  },
  {
   "cell_type": "code",
   "execution_count": 22,
   "metadata": {
    "ExecuteTime": {
     "end_time": "2022-03-14T06:55:18.431078Z",
     "start_time": "2022-03-14T06:55:17.654502Z"
    },
    "execution": {
     "iopub.execute_input": "2022-07-31T05:34:34.681306Z",
     "iopub.status.busy": "2022-07-31T05:34:34.681147Z",
     "iopub.status.idle": "2022-07-31T05:34:35.025885Z",
     "shell.execute_reply": "2022-07-31T05:34:35.025013Z",
     "shell.execute_reply.started": "2022-07-31T05:34:34.681284Z"
    }
   },
   "outputs": [],
   "source": [
    "from sklearn.feature_selection import RFE\n",
    "import statsmodels.api as sm\n",
    "\n",
    "n_features_list = list(range(\n",
    "    1, 7))  #checking for optimal number of features between 4 to 30\n",
    "train_adjusted_r2 = []\n",
    "train_r2 = []\n",
    "test_r2 = []\n",
    "train_RMSE = []\n",
    "test_RMSE = []\n",
    "\n",
    "for n_features in range(1, 7):\n",
    "\n",
    "    # RFE with n features\n",
    "    lm = LinearRegression()\n",
    "\n",
    "    # specifying number of features\n",
    "    rfe_n = RFE(estimator=lm, n_features_to_select=n_features)\n",
    "\n",
    "    # fit with n features\n",
    "    rfe_n.fit(X_train, y_train)\n",
    "\n",
    "    # selecting features selected by rfe_n\n",
    "    col_n = X_train.columns[\n",
    "        rfe_n.\n",
    "        support_]  #rfe_n.support_: returns an array with boolean values to indicate whether\n",
    "    #an attribute was selected using RFE\n",
    "\n",
    "    # training & test data for n selected columns\n",
    "    X_train_rfe_n = X_train[col_n]\n",
    "    X_test_rfe_n = X_test[col_n]\n",
    "\n",
    "    # add a constant to the model\n",
    "    X_train_rfe_n = sm.add_constant(X_train_rfe_n)\n",
    "\n",
    "    X_test_rfe_n = sm.add_constant(X_test_rfe_n, has_constant='add')\n",
    "\n",
    "    # fitting the model with n featues\n",
    "    lm_n = sm.OLS(y_train, X_train_rfe_n).fit()\n",
    "\n",
    "    # # Making predictions\n",
    "    y_pred_test = lm_n.predict(X_test_rfe_n)\n",
    "    y_pred_train = lm_n.predict(X_train_rfe_n)\n",
    "\n",
    "    #Calculating evaluation metrics\n",
    "\n",
    "    #R-square\n",
    "    train_adjusted_r2.append(lm_n.rsquared_adj)\n",
    "    train_r2.append(lm_n.rsquared)\n",
    "    test_r2.append(r2_score(y_test, y_pred_test))\n",
    "\n",
    "    #RMSE/stan. error\n",
    "    error_test = y_pred_test - y_test\n",
    "    error_train = y_pred_train - y_train\n",
    "\n",
    "    test_RMSE.append(((error_test**2).mean())**0.5)\n",
    "    train_RMSE.append(((error_train**2).mean())**0.5)"
   ]
  },
  {
   "cell_type": "code",
   "execution_count": 23,
   "metadata": {
    "ExecuteTime": {
     "end_time": "2022-03-14T06:55:18.762649Z",
     "start_time": "2022-03-14T06:55:18.431078Z"
    },
    "execution": {
     "iopub.execute_input": "2022-07-31T05:34:35.033737Z",
     "iopub.status.busy": "2022-07-31T05:34:35.033384Z",
     "iopub.status.idle": "2022-07-31T05:34:35.173234Z",
     "shell.execute_reply": "2022-07-31T05:34:35.172691Z",
     "shell.execute_reply.started": "2022-07-31T05:34:35.033725Z"
    }
   },
   "outputs": [
    {
     "data": {
      "image/png": "[encoded data removed]",
      "text/plain": [
       "<Figure size 936x648 with 2 Axes>"
      ]
     },
     "metadata": {
      "needs_background": "light"
     },
     "output_type": "display_data"
    }
   ],
   "source": [
    "# plotting r2 and RMSE against n_features\n",
    "\n",
    "import matplotlib.ticker as plticker\n",
    "\n",
    "fig, ax = plt.subplots(2, 1, figsize=(13, 9))\n",
    "ax[0].plot(n_features_list, train_r2, 'b', label=\"r2_train data\")\n",
    "ax[0].plot(n_features_list, test_r2, 'g', label=\"r2_test data\")\n",
    "ax[0].set_xlabel('Features Count')\n",
    "\n",
    "ax[0].legend(loc='upper left')\n",
    "loc = plticker.MultipleLocator(base=1)\n",
    "ax[0].xaxis.set_major_locator(loc)  #method 1 of ticks\n",
    "\n",
    "ax[1].plot(n_features_list, train_RMSE, 'b', label=\"RMSE_train data\")\n",
    "ax[1].plot(n_features_list, test_RMSE, 'g', label=\"RMSE_test data\")\n",
    "ax[1].set_xlabel('Features Count')\n",
    "\n",
    "ax[1].legend(loc='upper left')\n",
    "plt.xticks(np.arange(0, 15, step=1))  #method 2 of ticks\n",
    "\n",
    "plt.show()"
   ]
  },
  {
   "cell_type": "raw",
   "metadata": {},
   "source": [
    "From the above graphs we find: \n",
    "\n",
    "1. R sqaure for test data peaks at 7 features and at this point model generalises well  as train R2 is v close to test. Train R2 keep on increasing beyond 7 features but R2 keeps increasing as you add more features to train data. We have select number of features where model accuracy and generalization both are at satisfactory level.\n",
    "    \n",
    "2. RMSE for test data is lowest at 7 features and beyond that it increases. Train RMSE at 7 also looks good, adding more features to train decreases RMSE but again there is always a trade off between removing features (aka reducing complexity) and model performance. So we will go with 13 features. "
   ]
  },
  {
   "cell_type": "markdown",
   "metadata": {},
   "source": [
    "##### Model Bulding with optimal features count"
   ]
  },
  {
   "cell_type": "code",
   "execution_count": 24,
   "metadata": {
    "ExecuteTime": {
     "end_time": "2022-03-14T06:55:18.816228Z",
     "start_time": "2022-03-14T06:55:18.762649Z"
    },
    "execution": {
     "iopub.execute_input": "2022-07-31T05:34:35.765264Z",
     "iopub.status.busy": "2022-07-31T05:34:35.764914Z",
     "iopub.status.idle": "2022-07-31T05:34:35.827896Z",
     "shell.execute_reply": "2022-07-31T05:34:35.811649Z",
     "shell.execute_reply.started": "2022-07-31T05:34:35.765220Z"
    }
   },
   "outputs": [
    {
     "name": "stdout",
     "output_type": "stream",
     "text": [
      "------------------------------------R-sqaure--------------------------------- \n",
      "\n",
      "R-sq for test data is 1.0\n",
      "R-sq for train data is 1.0 \n",
      "\n",
      "\n",
      "-------------------------------STNDARD ERROR/RMSE---------------------------- \n",
      "\n",
      "RMSE for test data is 5.948529631045619e-14\n",
      "RMSE for train data is 6.061592857906933e-14 \n",
      "\n",
      "                            OLS Regression Results                            \n",
      "==============================================================================\n",
      "Dep. Variable:                  likes   R-squared:                       1.000\n",
      "Model:                            OLS   Adj. R-squared:                  1.000\n",
      "Method:                 Least Squares   F-statistic:                 1.979e+33\n",
      "Date:                Sun, 31 Jul 2022   Prob (F-statistic):               0.00\n",
      "Time:                        09:34:35   Log-Likelihood:                 42710.\n",
      "No. Observations:                1472   AIC:                        -8.541e+04\n",
      "Df Residuals:                    1465   BIC:                        -8.537e+04\n",
      "Df Model:                           6                                         \n",
      "Covariance Type:            nonrobust                                         \n",
      "=========================================================================================\n",
      "                            coef    std err          t      P>|t|      [0.025      0.975]\n",
      "-----------------------------------------------------------------------------------------\n",
      "const                    27.6545   1.58e-15   1.75e+16      0.000      27.654      27.654\n",
      "dob_day                 1.31e-14   1.59e-15      8.246      0.000    9.98e-15    1.62e-14\n",
      "dob_year                1.31e-14    1.6e-15      8.170      0.000    9.96e-15    1.62e-14\n",
      "likes                    82.0860   8.54e-16   9.62e+16      0.000      82.086      82.086\n",
      "likes_received        -5.107e-15      7e-16     -7.293      0.000   -6.48e-15   -3.73e-15\n",
      "mobile_likes             80.0076   9.56e-16   8.37e+16      0.000      80.008      80.008\n",
      "mobile_likes_received -7.994e-15   2.35e-15     -3.404      0.001   -1.26e-14   -3.39e-15\n",
      "www_likes                27.6982   1.89e-15   1.46e+16      0.000      27.698      27.698\n",
      "www_likes_received    -5.729e-14   2.77e-15    -20.665      0.000   -6.27e-14   -5.18e-14\n",
      "==============================================================================\n",
      "Omnibus:                     2737.487   Durbin-Watson:                   2.024\n",
      "Prob(Omnibus):                  0.000   Jarque-Bera (JB):          3920231.116\n",
      "Skew:                          13.352   Prob(JB):                         0.00\n",
      "Kurtosis:                     254.403   Cond. No.                     3.62e+15\n",
      "==============================================================================\n",
      "\n",
      "Notes:\n",
      "[1] Standard Errors assume that the covariance matrix of the errors is correctly specified.\n",
      "[2] The smallest eigenvalue is 4.67e-28. This might indicate that there are\n",
      "strong multicollinearity problems or that the design matrix is singular.\n"
     ]
    }
   ],
   "source": [
    "lm = LinearRegression()\n",
    "rfe = RFE(lm)\n",
    "rfe.fit(X_train, y_train)\n",
    "\n",
    "col = X_train.columns[rfe.support_]  #obtaining fetaure names \n",
    "\n",
    "#making new Df's with imp features as per RFE algorithm\n",
    "X_train_new = X_train[col]\n",
    "X_test_new = X_test[col]\n",
    "\n",
    "# add a constant to the model\n",
    "X_train_new = sm.add_constant(X_train_new, has_constant='add')\n",
    "X_test_new = sm.add_constant(X_test_new, has_constant='add')\n",
    "\n",
    "#fit OLS model\n",
    "lm_sm = sm.OLS(y_train, X_train_new).fit()\n",
    "\n",
    "#making predictions\n",
    "y_pred_train = lm_sm.predict(X_train_new)\n",
    "y_pred_test = lm_sm.predict(X_test_new)\n",
    "\n",
    "#evlaution metrics\n",
    "\n",
    "#R-sqaure\n",
    "train_r2 = lm_sm.rsquared\n",
    "test_r2 = r2_score(y_pred_test, y_test)\n",
    "\n",
    "#RMSE/stan. error\n",
    "error_test = y_pred_test - y_test\n",
    "error_train = y_pred_train - y_train\n",
    "\n",
    "test_RMSE = (((error_test**2).mean())**0.5)\n",
    "train_RMSE = (((error_train**2).mean())**0.5)\n",
    "\n",
    "print(\n",
    "    '------------------------------------R-sqaure--------------------------------- \\n'\n",
    ")\n",
    "print(\"R-sq for test data is {}\".format(test_r2))\n",
    "print(\"R-sq for train data is {}\".format(train_r2), '\\n\\n')\n",
    "\n",
    "print(\n",
    "    '-------------------------------STNDARD ERROR/RMSE---------------------------- \\n'\n",
    ")\n",
    "print(\"RMSE for test data is {}\".format(test_RMSE))\n",
    "print(\"RMSE for train data is {}\".format(train_RMSE), '\\n')\n",
    "\n",
    "print(lm_sm.summary())"
   ]
  },
  {
   "cell_type": "raw",
   "metadata": {},
   "source": [
    "Observations from above numbers:\n",
    "1. R-sqaure for both test & train looks good\n",
    "2. RMSE for both is closer (test is little < train which is fine and shows that model generalizes well)\n",
    "                                                      \n",
    "Below Graph also shows predictions are mostly close to Actual values<b>"
   ]
  },
  {
   "cell_type": "code",
   "execution_count": 25,
   "metadata": {
    "ExecuteTime": {
     "end_time": "2022-03-14T06:55:19.071424Z",
     "start_time": "2022-03-14T06:55:18.816228Z"
    },
    "execution": {
     "iopub.execute_input": "2022-07-31T05:34:35.932821Z",
     "iopub.status.busy": "2022-07-31T05:34:35.932666Z",
     "iopub.status.idle": "2022-07-31T05:34:36.086739Z",
     "shell.execute_reply": "2022-07-31T05:34:36.086342Z",
     "shell.execute_reply.started": "2022-07-31T05:34:35.932807Z"
    }
   },
   "outputs": [
    {
     "data": {
      "text/plain": [
       "Text(0.5, 0, 'Index')"
      ]
     },
     "execution_count": 25,
     "metadata": {},
     "output_type": "execute_result"
    },
    {
     "data": {
      "image/png": "[encoded data removed]",
      "text/plain": [
       "<Figure size 1080x432 with 1 Axes>"
      ]
     },
     "metadata": {},
     "output_type": "display_data"
    }
   ],
   "source": [
    "plt.style.use('ggplot')\n",
    "fig, ax = plt.subplots(figsize=(15, 6))\n",
    "sns.lineplot(x=y_test.index, y=y_test, label='Actuals', color='blue', ax=ax)\n",
    "sns.lineplot(x=y_test.index,\n",
    "             y=y_pred_test,\n",
    "             label='Predictions',\n",
    "             color='red',\n",
    "             ax=ax)\n",
    "ax.set_title('Price: Actuals vs Predictions')\n",
    "ax.set_ylabel('Price')\n",
    "ax.set_xlabel('Index')"
   ]
  },
  {
   "cell_type": "code",
   "execution_count": 26,
   "metadata": {
    "ExecuteTime": {
     "end_time": "2022-03-14T06:55:19.086977Z",
     "start_time": "2022-03-14T06:55:19.071424Z"
    },
    "execution": {
     "iopub.execute_input": "2022-07-31T05:34:36.087740Z",
     "iopub.status.busy": "2022-07-31T05:34:36.087414Z",
     "iopub.status.idle": "2022-07-31T05:34:36.090627Z",
     "shell.execute_reply": "2022-07-31T05:34:36.090364Z",
     "shell.execute_reply.started": "2022-07-31T05:34:36.087725Z"
    },
    "scrolled": true
   },
   "outputs": [
    {
     "data": {
      "text/plain": [
       "Index(['dob_day', 'dob_year', 'likes', 'likes_received', 'mobile_likes',\n",
       "       'mobile_likes_received', 'www_likes', 'www_likes_received'],\n",
       "      dtype='object')"
      ]
     },
     "execution_count": 26,
     "metadata": {},
     "output_type": "execute_result"
    }
   ],
   "source": [
    "#grabbing important features\n",
    "\n",
    "features_13 = lm_sm.params.index\n",
    "features_13 = features_13[\n",
    "    1:]  #we don't want constant (const) in our imp features list so removing it\n",
    "features_13"
   ]
  },
  {
   "cell_type": "code",
   "execution_count": 27,
   "metadata": {
    "ExecuteTime": {
     "end_time": "2022-03-14T06:55:19.116432Z",
     "start_time": "2022-03-14T06:55:19.096023Z"
    },
    "execution": {
     "iopub.execute_input": "2022-07-31T05:34:36.549843Z",
     "iopub.status.busy": "2022-07-31T05:34:36.549330Z",
     "iopub.status.idle": "2022-07-31T05:34:36.567833Z",
     "shell.execute_reply": "2022-07-31T05:34:36.567419Z",
     "shell.execute_reply.started": "2022-07-31T05:34:36.549800Z"
    }
   },
   "outputs": [
    {
     "data": {
      "text/html": [
       "<div>\n",
       "<style scoped>\n",
       "    .dataframe tbody tr th:only-of-type {\n",
       "        vertical-align: middle;\n",
       "    }\n",
       "\n",
       "    .dataframe tbody tr th {\n",
       "        vertical-align: top;\n",
       "    }\n",
       "\n",
       "    .dataframe thead th {\n",
       "        text-align: right;\n",
       "    }\n",
       "</style>\n",
       "<table border=\"1\" class=\"dataframe\">\n",
       "  <thead>\n",
       "    <tr style=\"text-align: right;\">\n",
       "      <th></th>\n",
       "      <th>dob_day</th>\n",
       "      <th>dob_year</th>\n",
       "      <th>likes</th>\n",
       "      <th>likes_received</th>\n",
       "      <th>mobile_likes</th>\n",
       "      <th>mobile_likes_received</th>\n",
       "      <th>www_likes</th>\n",
       "      <th>www_likes_received</th>\n",
       "    </tr>\n",
       "  </thead>\n",
       "  <tbody>\n",
       "    <tr>\n",
       "      <th>265</th>\n",
       "      <td>-1.314345</td>\n",
       "      <td>1.017078</td>\n",
       "      <td>-0.157333</td>\n",
       "      <td>-0.17722</td>\n",
       "      <td>-0.113885</td>\n",
       "      <td>-0.15844</td>\n",
       "      <td>-0.167086</td>\n",
       "      <td>-0.173746</td>\n",
       "    </tr>\n",
       "    <tr>\n",
       "      <th>349</th>\n",
       "      <td>1.174747</td>\n",
       "      <td>0.707508</td>\n",
       "      <td>-0.157333</td>\n",
       "      <td>-0.17722</td>\n",
       "      <td>-0.107442</td>\n",
       "      <td>-0.15844</td>\n",
       "      <td>-0.185696</td>\n",
       "      <td>-0.173746</td>\n",
       "    </tr>\n",
       "  </tbody>\n",
       "</table>\n",
       "</div>"
      ],
      "text/plain": [
       "      dob_day  dob_year     likes  likes_received  mobile_likes  \\\n",
       "265 -1.314345  1.017078 -0.157333        -0.17722     -0.113885   \n",
       "349  1.174747  0.707508 -0.157333        -0.17722     -0.107442   \n",
       "\n",
       "     mobile_likes_received  www_likes  www_likes_received  \n",
       "265               -0.15844  -0.167086           -0.173746  \n",
       "349               -0.15844  -0.185696           -0.173746  "
      ]
     },
     "execution_count": 27,
     "metadata": {},
     "output_type": "execute_result"
    }
   ],
   "source": [
    "X_train[features_13].head(2)"
   ]
  },
  {
   "cell_type": "markdown",
   "metadata": {},
   "source": [
    "<h2 class=\"list-group-item list-group-item-action active\" >5.Linear Regression Assumptions Validation</h2>\n",
    "\n",
    "\n",
    ">### 1. Linearity of the model\n",
    ">### 2. Homoscedasticity (equal variance) of residuals\n",
    ">### 3. Normality of residuals \n",
    ">### 4. Identifying Outliers/influential Cases"
   ]
  },
  {
   "cell_type": "markdown",
   "metadata": {},
   "source": [
    "##### 1.5.1 1. Linearity of the model"
   ]
  },
  {
   "cell_type": "code",
   "execution_count": 28,
   "metadata": {
    "ExecuteTime": {
     "end_time": "2022-03-14T06:55:19.910544Z",
     "start_time": "2022-03-14T06:55:19.120941Z"
    },
    "execution": {
     "iopub.execute_input": "2022-07-31T05:34:37.740516Z",
     "iopub.status.busy": "2022-07-31T05:34:37.740198Z",
     "iopub.status.idle": "2022-07-31T05:34:38.080255Z",
     "shell.execute_reply": "2022-07-31T05:34:38.079874Z",
     "shell.execute_reply.started": "2022-07-31T05:34:37.740493Z"
    }
   },
   "outputs": [
    {
     "data": {
      "image/png": "[encoded data removed]",
      "text/plain": [
       "<Figure size 1080x288 with 2 Axes>"
      ]
     },
     "metadata": {},
     "output_type": "display_data"
    }
   ],
   "source": [
    "#To detect linearity lets inspect plots of observed vs. predicted values or residuals vs. predicted values.\n",
    "#The desired outcome is that points are symmetrically distributed around a diagonal line in the former plot &\n",
    "#around horizontal line in the latter one\n",
    "\n",
    "def linearity_test(model, y):\n",
    "\n",
    "    fitted_vals = model.predict()\n",
    "    residuals = model.resid\n",
    "\n",
    "    sns.set_style('darkgrid')\n",
    "    fig, ax = plt.subplots(1, 2, figsize=(15, 4))\n",
    "\n",
    "    sns.regplot(x=fitted_vals,\n",
    "                y=y,\n",
    "                lowess=True,\n",
    "                ax=ax[0],\n",
    "                line_kws={'color': 'red'})\n",
    "    ax[0].set_title('Observed vs. Predicted Values', fontsize=16)\n",
    "    ax[0].set_xlabel('Predicted', fontsize=13)\n",
    "    ax[0].set_ylabel('Observed', fontsize=13)\n",
    "\n",
    "    sns.regplot(x=fitted_vals,\n",
    "                y=residuals,\n",
    "                lowess=True,\n",
    "                ax=ax[1],\n",
    "                line_kws={'color': 'red'})\n",
    "    ax[1].set_title('Residuals vs. Predicted Values', fontsize=16)\n",
    "    ax[1].set_xlabel('Predicted', fontsize=13)\n",
    "    ax[1].set_ylabel('Residuals', fontsize=13)\n",
    "\n",
    "linearity_test(lm_sm, y_train)"
   ]
  },
  {
   "cell_type": "raw",
   "metadata": {},
   "source": [
    "From above graphs:\n",
    "    \n",
    "1. Obs vs predicted  shows that most of the values are closer to the daigonal line, however some are not which is a problem.\n",
    "       \n",
    "2. Resi vs pred graph does not give a conclusive eviudence that residuals are evenly scattered around the zero line as Resi. values increase with increase in predicted values, SO ASSUMPTION OF LINEARITY CAN'T BE CONFIRMED. \n",
    "    \n",
    "3. There seems to be presence of outliers, which might be giving a non-conclusive enough Resi vs Predicted graph. Some points have very high residual values; a point (~ -3000,~ 8000) shows one value is predicted negatively by the model. There are many other prominent high residual points which could be influential outliers."
   ]
  },
  {
   "cell_type": "markdown",
   "metadata": {},
   "source": [
    "##### 1.5.2 2. Homoscedasticity (equal variance) of residuals"
   ]
  },
  {
   "cell_type": "code",
   "execution_count": 29,
   "metadata": {
    "ExecuteTime": {
     "end_time": "2022-03-14T06:55:20.676488Z",
     "start_time": "2022-03-14T06:55:19.910544Z"
    },
    "execution": {
     "iopub.execute_input": "2022-07-31T05:34:38.081003Z",
     "iopub.status.busy": "2022-07-31T05:34:38.080932Z",
     "iopub.status.idle": "2022-07-31T05:34:38.366010Z",
     "shell.execute_reply": "2022-07-31T05:34:38.365642Z",
     "shell.execute_reply.started": "2022-07-31T05:34:38.080995Z"
    }
   },
   "outputs": [
    {
     "data": {
      "image/png": "[encoded data removed]",
      "text/plain": [
       "<Figure size 1080x288 with 2 Axes>"
      ]
     },
     "metadata": {},
     "output_type": "display_data"
    }
   ],
   "source": [
    "import statsmodels.stats.api as sms\n",
    "\n",
    "def homoscedasticity_test(model):\n",
    "\n",
    "    fitted_vals = model.predict()\n",
    "    residuals = model.resid\n",
    "    resids_standardized = model.get_influence().resid_studentized_internal\n",
    "\n",
    "    sns.set_style('darkgrid')\n",
    "\n",
    "    fig, ax = plt.subplots(1, 2, figsize=(15, 4))\n",
    "\n",
    "    sns.regplot(x=fitted_vals,\n",
    "                y=residuals,\n",
    "                lowess=True,\n",
    "                ax=ax[0],\n",
    "                line_kws={'color': 'red'})\n",
    "    ax[0].set_title('Residuals vs Fitted', fontsize=16)\n",
    "    ax[0].set_xlabel('Predicted', fontsize=13)\n",
    "    ax[0].set_ylabel('Residuals', fontsize=13)\n",
    "\n",
    "    sns.regplot(x=fitted_vals,\n",
    "                y=np.sqrt(np.abs(resids_standardized)),\n",
    "                lowess=True,\n",
    "                ax=ax[1],\n",
    "                line_kws={'color': 'red'})\n",
    "    ax[1].set_title('Scale-Location', fontsize=16)\n",
    "    ax[1].set_xlabel('Predicted', fontsize=13)\n",
    "    ax[1].set_ylabel('Square Root(Standardized Residuals)', fontsize=13)\n",
    "\n",
    "homoscedasticity_test(lm_sm)"
   ]
  },
  {
   "cell_type": "raw",
   "metadata": {},
   "source": [
    "The residuals seem to increase with increase in predicted/fitted values so homoscedasticity could not be confirmed, but we will make this graph after removing outliers and check again later in this notebook."
   ]
  },
  {
   "cell_type": "markdown",
   "metadata": {},
   "source": [
    "##### 1.5.3 3. Normality of residuals"
   ]
  },
  {
   "cell_type": "code",
   "execution_count": 30,
   "metadata": {
    "ExecuteTime": {
     "end_time": "2022-03-14T06:55:20.865341Z",
     "start_time": "2022-03-14T06:55:20.677493Z"
    },
    "execution": {
     "iopub.execute_input": "2022-07-31T05:34:39.368516Z",
     "iopub.status.busy": "2022-07-31T05:34:39.368038Z",
     "iopub.status.idle": "2022-07-31T05:34:39.454947Z",
     "shell.execute_reply": "2022-07-31T05:34:39.454693Z",
     "shell.execute_reply.started": "2022-07-31T05:34:39.368486Z"
    }
   },
   "outputs": [
    {
     "name": "stdout",
     "output_type": "stream",
     "text": [
      "Jarque-Bera test ---- statistic: 3920231.1158, p-value: 0.0\n",
      "Shapiro-Wilk test ---- statistic: 0.3345, p-value: 0.0000\n",
      "Kolmogorov-Smirnov test ---- statistic: 0.5000, p-value: 0.0000\n",
      "Anderson-Darling test ---- statistic: 209.9826, 5% critical value: 0.7850\n",
      "If the returned Anderson Draling statistic is larger than the critical value, then for the 5% significance level, the null hypothesis that the data come from the Normal distribution should be rejected. \n"
     ]
    },
    {
     "data": {
      "image/png": "[encoded data removed]",
      "text/plain": [
       "<Figure size 432x288 with 1 Axes>"
      ]
     },
     "metadata": {},
     "output_type": "display_data"
    }
   ],
   "source": [
    "from scipy import stats\n",
    "\n",
    "def normality_of_residuals_test(model):\n",
    "    sm.ProbPlot(model.resid).qqplot(line='s')\n",
    "    plt.title('Q-Q plot')\n",
    "\n",
    "    jb = stats.jarque_bera(model.resid)\n",
    "    sw = stats.shapiro(model.resid)\n",
    "    ad = stats.anderson(model.resid, dist='norm')\n",
    "    ks = stats.kstest(model.resid, 'norm')\n",
    "\n",
    "    print(f'Jarque-Bera test ---- statistic: {jb[0]:.4f}, p-value: {jb[1]}')\n",
    "    print(\n",
    "        f'Shapiro-Wilk test ---- statistic: {sw[0]:.4f}, p-value: {sw[1]:.4f}')\n",
    "    print(\n",
    "        f'Kolmogorov-Smirnov test ---- statistic: {ks.statistic:.4f}, p-value: {ks.pvalue:.4f}'\n",
    "    )\n",
    "    print(\n",
    "        f'Anderson-Darling test ---- statistic: {ad.statistic:.4f}, 5% critical value: {ad.critical_values[2]:.4f}'\n",
    "    )\n",
    "    print(\n",
    "        'If the returned Anderson Draling statistic is larger than the critical value, then for the 5% significance level, the null hypothesis that the data come from the Normal distribution should be rejected. '\n",
    "    )\n",
    "\n",
    "normality_of_residuals_test(lm_sm)"
   ]
  },
  {
   "cell_type": "raw",
   "metadata": {},
   "source": [
    "Normality of errors not satisifed as:\n",
    "\n",
    "1. Q-Q Plot shows deviation from normal distirbution esp at tails\n",
    "2. P-value in first 3 normality tests<0.05 and Anderson-Darling statistic>AD critical value, thus null hypothesis that errors have normal distribution is rejected\n",
    "\n",
    "The reason could be outliers as we have seen above in Residuals vs Predicted graph that our data has outliers"
   ]
  },
  {
   "cell_type": "markdown",
   "metadata": {},
   "source": [
    "##### 1.5.4 4. Identifying Outliers/influential Cases"
   ]
  },
  {
   "cell_type": "code",
   "execution_count": 31,
   "metadata": {
    "ExecuteTime": {
     "end_time": "2022-03-14T06:55:20.880884Z",
     "start_time": "2022-03-14T06:55:20.866347Z"
    },
    "execution": {
     "iopub.execute_input": "2022-07-31T05:34:39.605754Z",
     "iopub.status.busy": "2022-07-31T05:34:39.605553Z",
     "iopub.status.idle": "2022-07-31T05:34:39.610186Z",
     "shell.execute_reply": "2022-07-31T05:34:39.609882Z",
     "shell.execute_reply.started": "2022-07-31T05:34:39.605744Z"
    }
   },
   "outputs": [],
   "source": [
    "#Function to plot standardized residuals vs Leverage and cook's distance for outlier detection\n",
    "\n",
    "def influential_outlier_test(model, top_influencing_obs_count):\n",
    "\n",
    "    influence = model.get_influence()\n",
    "\n",
    "    #leverage (hat values)\n",
    "    leverage = influence.hat_matrix_diag\n",
    "\n",
    "    #When cases are outside of the Cook’s distance (meaning they have high Cook’s distance scores),\n",
    "    #the cases are influential to the regression results. The regression results will be altered if we exclude those cases.\n",
    "    cooks_d = influence.cooks_distance\n",
    "\n",
    "    #standardized residuals= (Residual/STD of Residuals)\n",
    "    standardized_residuals = influence.resid_studentized_internal\n",
    "\n",
    "    #studentized residuals\n",
    "    studentized_residuals = influence.resid_studentized_external\n",
    "\n",
    "    plot_lm = plt.figure(figsize=(20, 5))\n",
    "    plt.scatter(leverage, standardized_residuals, alpha=0.5)\n",
    "    sns.regplot(leverage,\n",
    "                standardized_residuals,\n",
    "                scatter=False,\n",
    "                ci=False,\n",
    "                lowess=True,\n",
    "                line_kws={\n",
    "                    'color': 'red',\n",
    "                    'lw': 1,\n",
    "                    'alpha': 0.8\n",
    "                })\n",
    "    plot_lm.axes[0].set_xlim(0, max(leverage) + 0.01)\n",
    "    plot_lm.axes[0].set_ylim(-6, 6)\n",
    "    plot_lm.axes[0].set_title('Standardized Residuals vs Leverage',\n",
    "                              fontsize=16)\n",
    "    plot_lm.axes[0].set_xlabel('Leverage', fontsize=13)\n",
    "    plot_lm.axes[0].set_ylabel('Standardized Residuals', fontsize=13)\n",
    "\n",
    "    # annotations- #annotating index position of the top n cook's D points\n",
    "\n",
    "    leverage_top_n_obs = np.flip(np.argsort(cooks_d[0]),\n",
    "                                 0)[:top_influencing_obs_count]\n",
    "\n",
    "    for i in leverage_top_n_obs:\n",
    "        plot_lm.axes[0].annotate(i, xy=(leverage[i], studentized_residuals[i]))\n",
    "\n",
    "# shenanigans for cook's distance contours\n",
    "\n",
    "    def graph(formula, x_range, label=None):\n",
    "        x = x_range\n",
    "        y = formula(x)\n",
    "        plt.plot(x, y, label=label, lw=1, ls='--', color='red')\n",
    "\n",
    "    p = len(lm_sm.params)  # number of model parameters\n",
    "\n",
    "    graph(lambda x: np.sqrt((0.5 * p * (1 - x)) / x),\n",
    "          np.linspace(0.001, max(leverage), 50),\n",
    "          'Cook\\'s distance')  #cookd= 0.5 line\n",
    "    plt.legend(loc='upper right')"
   ]
  },
  {
   "cell_type": "markdown",
   "metadata": {},
   "source": [
    "##### Outlier removal"
   ]
  },
  {
   "cell_type": "code",
   "execution_count": 32,
   "metadata": {
    "ExecuteTime": {
     "end_time": "2022-03-14T06:55:20.905368Z",
     "start_time": "2022-03-14T06:55:20.886396Z"
    },
    "execution": {
     "iopub.execute_input": "2022-07-31T05:34:40.251762Z",
     "iopub.status.busy": "2022-07-31T05:34:40.251490Z",
     "iopub.status.idle": "2022-07-31T05:34:40.258913Z",
     "shell.execute_reply": "2022-07-31T05:34:40.257885Z",
     "shell.execute_reply.started": "2022-07-31T05:34:40.251740Z"
    }
   },
   "outputs": [],
   "source": [
    "X_train_no_outliers = X_train.drop(index=[206])\n",
    "y_train_no_outliers = y_train.drop(index=[206])"
   ]
  },
  {
   "cell_type": "raw",
   "metadata": {},
   "source": [
    "We will be using these for our further analysis:\n",
    "X_train_no_outliers  \n",
    "y_train_no_outliers"
   ]
  },
  {
   "cell_type": "markdown",
   "metadata": {},
   "source": [
    "<h2 class=\"list-group-item list-group-item-action active\" >6.Rebuilding the Model: Feature Selection using RFE & K-Fold Cross Validation</h2>\n",
    "\n",
    "\n",
    ">### A. Finding optimal feature count using RFE and plot the r2 and RMSE against n_features.\n",
    "\n",
    ">### B. K-Fold Cross Validation"
   ]
  },
  {
   "cell_type": "markdown",
   "metadata": {},
   "source": [
    "##### 1.6.1 A. Finding optimal feature count using RFE"
   ]
  },
  {
   "cell_type": "code",
   "execution_count": 33,
   "metadata": {
    "ExecuteTime": {
     "end_time": "2022-03-14T06:55:21.246289Z",
     "start_time": "2022-03-14T06:55:20.908219Z"
    },
    "execution": {
     "iopub.execute_input": "2022-07-31T05:34:41.005932Z",
     "iopub.status.busy": "2022-07-31T05:34:41.005650Z",
     "iopub.status.idle": "2022-07-31T05:34:41.492992Z",
     "shell.execute_reply": "2022-07-31T05:34:41.492173Z",
     "shell.execute_reply.started": "2022-07-31T05:34:41.005903Z"
    }
   },
   "outputs": [],
   "source": [
    "from sklearn.feature_selection import RFE\n",
    "import statsmodels.api as sm\n",
    "\n",
    "n_features_list = list(range(\n",
    "    4, 31))  #checking for optimal number of features between 4 to 30\n",
    "train_adjusted_r2 = []\n",
    "train_r2 = []\n",
    "test_r2 = []\n",
    "train_RMSE = []\n",
    "test_RMSE = []\n",
    "\n",
    "for n_features in range(4, 31):\n",
    "\n",
    "    # RFE with n features\n",
    "    lm = LinearRegression()\n",
    "\n",
    "    rfe_n = RFE(\n",
    "        estimator=lm,\n",
    "        n_features_to_select=n_features)  # specifying number of features\n",
    "\n",
    "    # fit with n features\n",
    "    rfe_n.fit(X_train_no_outliers, y_train_no_outliers)\n",
    "\n",
    "    # selecting the features provided by rfe_n\n",
    "    col_n = X_train_no_outliers.columns[\n",
    "        rfe_n.\n",
    "        support_]  #rfe_n.support_: returns an array with boolean values to indicate whether\n",
    "    #an attribute was selected using RFE\n",
    "\n",
    "    # subsetting training & test data for n selected columns\n",
    "    X_train_rfe_n = X_train_no_outliers[col_n]\n",
    "    X_test_rfe_n = X_test[col_n]\n",
    "\n",
    "    # add a constant to the model\n",
    "    X_train_rfe_n = sm.add_constant(X_train_rfe_n, has_constant='add')\n",
    "\n",
    "    X_test_rfe_n = sm.add_constant(X_test_rfe_n, has_constant='add')\n",
    "\n",
    "    # fitting the model with n featues\n",
    "    lm_n = sm.OLS(y_train_no_outliers, X_train_rfe_n).fit()\n",
    "\n",
    "    # # Making predictions\n",
    "    y_pred_test = lm_n.predict(X_test_rfe_n)\n",
    "    y_pred_train = lm_n.predict(X_train_rfe_n)\n",
    "\n",
    "    #Calculating evaluation metrics\n",
    "\n",
    "    #R-square\n",
    "    train_adjusted_r2.append(lm_n.rsquared_adj)\n",
    "    train_r2.append(lm_n.rsquared)\n",
    "    test_r2.append(r2_score(y_test, y_pred_test))\n",
    "\n",
    "    #RMSE/stan. error\n",
    "    error_test = y_pred_test - y_test\n",
    "    error_train = y_pred_train - y_train_no_outliers\n",
    "\n",
    "    test_RMSE.append(((error_test**2).mean())**0.5)\n",
    "    train_RMSE.append(((error_train**2).mean())**0.5)"
   ]
  },
  {
   "cell_type": "code",
   "execution_count": 34,
   "metadata": {
    "ExecuteTime": {
     "end_time": "2022-03-14T06:55:21.883855Z",
     "start_time": "2022-03-14T06:55:21.248806Z"
    },
    "execution": {
     "iopub.execute_input": "2022-07-31T05:34:41.499203Z",
     "iopub.status.busy": "2022-07-31T05:34:41.499072Z",
     "iopub.status.idle": "2022-07-31T05:34:41.717703Z",
     "shell.execute_reply": "2022-07-31T05:34:41.712740Z",
     "shell.execute_reply.started": "2022-07-31T05:34:41.499194Z"
    }
   },
   "outputs": [
    {
     "data": {
      "image/png": "[encoded data removed]",
      "text/plain": [
       "<Figure size 936x648 with 2 Axes>"
      ]
     },
     "metadata": {},
     "output_type": "display_data"
    }
   ],
   "source": [
    "# plotting r2 and RMSE against n_features\n",
    "fig, ax = plt.subplots(2, 1, figsize=(13, 9))\n",
    "plt.subplots_adjust(hspace=0.3)\n",
    "ax[0].plot(n_features_list, train_r2, 'b', label=\"r2_train data\")\n",
    "ax[0].plot(n_features_list, test_r2, 'g', label=\"r2_test data\")\n",
    "ax[0].set_xlabel('Features Count', fontsize=13)\n",
    "ax[0].set_ylabel('R-Squared', fontsize=13)\n",
    "ax[0].set_title('R-Squared by number of features in the model', fontsize=16)\n",
    "\n",
    "ax[1].plot(n_features_list, train_RMSE, 'b', label=\"RMSE_train data\")\n",
    "ax[1].plot(n_features_list, test_RMSE, 'g', label=\"RMSE_test data\")\n",
    "ax[1].set_xlabel('Features Count', fontsize=13)\n",
    "ax[1].set_ylabel('RMSE', fontsize=13)\n",
    "ax[1].set_title('RMSE by number of features in the model', fontsize=16)\n",
    "\n",
    "ax[0].legend(loc='upper left')\n",
    "ax[1].legend(loc='upper right')\n",
    "plt.xticks(np.arange(0, 31, 1))\n",
    "\n",
    "plt.show()"
   ]
  },
  {
   "cell_type": "raw",
   "metadata": {},
   "source": [
    "From the above graphs we can't select optimal features for our model because:There appears to be high overfitting as diff between train & test Rsquare and RMSE is very high, our model wont generalize well and lead to bad predictions on test/unseen data."
   ]
  },
  {
   "cell_type": "code",
   "execution_count": 35,
   "metadata": {
    "ExecuteTime": {
     "end_time": "2022-03-14T06:55:21.899470Z",
     "start_time": "2022-03-14T06:55:21.886103Z"
    },
    "execution": {
     "iopub.execute_input": "2022-07-31T05:34:41.733898Z",
     "iopub.status.busy": "2022-07-31T05:34:41.730060Z",
     "iopub.status.idle": "2022-07-31T05:34:41.760727Z",
     "shell.execute_reply": "2022-07-31T05:34:41.760372Z",
     "shell.execute_reply.started": "2022-07-31T05:34:41.733872Z"
    }
   },
   "outputs": [
    {
     "data": {
      "text/plain": [
       "[0.8167969639671108,\n",
       " 0.9511468580130847,\n",
       " 0.8762742290526668,\n",
       " 0.9868250440775682,\n",
       " 0.9566689602921852,\n",
       " 0.6982362537582605,\n",
       " 0.9846508908995525,\n",
       " 0.8712739298408568,\n",
       " 1.0611403136612534,\n",
       " 0.8751643365415481,\n",
       " 0.8198969477738779,\n",
       " 0.9940238707328666,\n",
       " 0.978746481048764,\n",
       " 0.978746481048764,\n",
       " 0.978746481048764,\n",
       " 0.978746481048764,\n",
       " 0.978746481048764,\n",
       " 0.978746481048764,\n",
       " 0.978746481048764,\n",
       " 0.978746481048764,\n",
       " 0.978746481048764,\n",
       " 0.978746481048764,\n",
       " 0.978746481048764,\n",
       " 0.978746481048764,\n",
       " 0.978746481048764,\n",
       " 0.978746481048764,\n",
       " 0.978746481048764]"
      ]
     },
     "execution_count": 35,
     "metadata": {},
     "output_type": "execute_result"
    }
   ],
   "source": [
    "RMSE_test_dividedby_train = [i / j for i, j in zip(test_RMSE, train_RMSE)]\n",
    "RMSE_test_dividedby_train"
   ]
  },
  {
   "cell_type": "markdown",
   "metadata": {},
   "source": [
    "To remedy overfitting/high performance difference between train & test data, we will do K-Fold Cross Validation and try to determine optimal feature count"
   ]
  },
  {
   "cell_type": "markdown",
   "metadata": {},
   "source": [
    "##### K-Fold Cross Validation"
   ]
  },
  {
   "cell_type": "code",
   "execution_count": 36,
   "metadata": {
    "ExecuteTime": {
     "end_time": "2022-03-14T06:55:21.916374Z",
     "start_time": "2022-03-14T06:55:21.902890Z"
    },
    "execution": {
     "iopub.execute_input": "2022-07-31T05:34:42.149834Z",
     "iopub.status.busy": "2022-07-31T05:34:42.149332Z",
     "iopub.status.idle": "2022-07-31T05:34:42.160854Z",
     "shell.execute_reply": "2022-07-31T05:34:42.159997Z",
     "shell.execute_reply.started": "2022-07-31T05:34:42.149781Z"
    }
   },
   "outputs": [],
   "source": [
    "#Before implementing K-Fold I am removing the outliers from our X & Y Df's and creating new ones for CV purpose\n",
    "\n",
    "X_new_cv = dfX_scaled.drop(index=[206])  # DF for K fold cross validation (cv)\n",
    "y_new_cv = y.drop(index=[206])"
   ]
  },
  {
   "cell_type": "code",
   "execution_count": 37,
   "metadata": {
    "ExecuteTime": {
     "end_time": "2022-03-14T06:55:21.966582Z",
     "start_time": "2022-03-14T06:55:21.916374Z"
    },
    "execution": {
     "iopub.execute_input": "2022-07-31T05:34:42.233112Z",
     "iopub.status.busy": "2022-07-31T05:34:42.232330Z",
     "iopub.status.idle": "2022-07-31T05:34:42.262475Z",
     "shell.execute_reply": "2022-07-31T05:34:42.262177Z",
     "shell.execute_reply.started": "2022-07-31T05:34:42.233048Z"
    },
    "scrolled": true
   },
   "outputs": [
    {
     "data": {
      "text/html": [
       "<div>\n",
       "<style scoped>\n",
       "    .dataframe tbody tr th:only-of-type {\n",
       "        vertical-align: middle;\n",
       "    }\n",
       "\n",
       "    .dataframe tbody tr th {\n",
       "        vertical-align: top;\n",
       "    }\n",
       "\n",
       "    .dataframe thead th {\n",
       "        text-align: right;\n",
       "    }\n",
       "</style>\n",
       "<table border=\"1\" class=\"dataframe\">\n",
       "  <thead>\n",
       "    <tr style=\"text-align: right;\">\n",
       "      <th></th>\n",
       "      <th>userid</th>\n",
       "      <th>age</th>\n",
       "      <th>dob_day</th>\n",
       "      <th>dob_year</th>\n",
       "      <th>dob_month</th>\n",
       "      <th>tenure</th>\n",
       "      <th>friend_count</th>\n",
       "      <th>friendships_initiated</th>\n",
       "      <th>likes</th>\n",
       "      <th>likes_received</th>\n",
       "      <th>mobile_likes</th>\n",
       "      <th>mobile_likes_received</th>\n",
       "      <th>www_likes</th>\n",
       "      <th>www_likes_received</th>\n",
       "      <th>gender_female</th>\n",
       "      <th>gender_male</th>\n",
       "    </tr>\n",
       "  </thead>\n",
       "  <tbody>\n",
       "    <tr>\n",
       "      <th>0</th>\n",
       "      <td>-1.432558</td>\n",
       "      <td>-1.264734</td>\n",
       "      <td>-1.206123</td>\n",
       "      <td>1.264734</td>\n",
       "      <td>-1.049932</td>\n",
       "      <td>-0.923558</td>\n",
       "      <td>-1.460491</td>\n",
       "      <td>-1.170249</td>\n",
       "      <td>-0.157333</td>\n",
       "      <td>-0.17722</td>\n",
       "      <td>-0.113885</td>\n",
       "      <td>-0.15844</td>\n",
       "      <td>-0.167086</td>\n",
       "      <td>-0.173746</td>\n",
       "      <td>-0.707611</td>\n",
       "      <td>0.709124</td>\n",
       "    </tr>\n",
       "    <tr>\n",
       "      <th>1</th>\n",
       "      <td>1.368312</td>\n",
       "      <td>-1.202820</td>\n",
       "      <td>0.958305</td>\n",
       "      <td>1.202820</td>\n",
       "      <td>-1.320351</td>\n",
       "      <td>-0.573905</td>\n",
       "      <td>-1.460491</td>\n",
       "      <td>-1.170249</td>\n",
       "      <td>-0.157333</td>\n",
       "      <td>-0.17722</td>\n",
       "      <td>-0.113885</td>\n",
       "      <td>-0.15844</td>\n",
       "      <td>-0.167086</td>\n",
       "      <td>-0.173746</td>\n",
       "      <td>-0.707611</td>\n",
       "      <td>0.709124</td>\n",
       "    </tr>\n",
       "    <tr>\n",
       "      <th>2</th>\n",
       "      <td>-0.035976</td>\n",
       "      <td>-0.893250</td>\n",
       "      <td>0.525419</td>\n",
       "      <td>0.893250</td>\n",
       "      <td>1.113424</td>\n",
       "      <td>-0.210804</td>\n",
       "      <td>-1.460491</td>\n",
       "      <td>-1.170249</td>\n",
       "      <td>-0.157333</td>\n",
       "      <td>-0.17722</td>\n",
       "      <td>-0.113885</td>\n",
       "      <td>-0.15844</td>\n",
       "      <td>-0.167086</td>\n",
       "      <td>-0.173746</td>\n",
       "      <td>1.413206</td>\n",
       "      <td>-1.410190</td>\n",
       "    </tr>\n",
       "    <tr>\n",
       "      <th>3</th>\n",
       "      <td>1.125755</td>\n",
       "      <td>-0.769422</td>\n",
       "      <td>-1.314345</td>\n",
       "      <td>0.769422</td>\n",
       "      <td>-1.320351</td>\n",
       "      <td>0.179194</td>\n",
       "      <td>-1.460491</td>\n",
       "      <td>-1.170249</td>\n",
       "      <td>-0.157333</td>\n",
       "      <td>-0.17722</td>\n",
       "      <td>-0.113885</td>\n",
       "      <td>-0.15844</td>\n",
       "      <td>-0.167086</td>\n",
       "      <td>-0.173746</td>\n",
       "      <td>-0.707611</td>\n",
       "      <td>0.709124</td>\n",
       "    </tr>\n",
       "    <tr>\n",
       "      <th>4</th>\n",
       "      <td>-0.717672</td>\n",
       "      <td>-0.645594</td>\n",
       "      <td>-0.340352</td>\n",
       "      <td>0.645594</td>\n",
       "      <td>-1.049932</td>\n",
       "      <td>1.026429</td>\n",
       "      <td>-1.460491</td>\n",
       "      <td>-1.170249</td>\n",
       "      <td>-0.157333</td>\n",
       "      <td>-0.17722</td>\n",
       "      <td>-0.113885</td>\n",
       "      <td>-0.15844</td>\n",
       "      <td>-0.167086</td>\n",
       "      <td>-0.173746</td>\n",
       "      <td>-0.707611</td>\n",
       "      <td>0.709124</td>\n",
       "    </tr>\n",
       "    <tr>\n",
       "      <th>5</th>\n",
       "      <td>0.600900</td>\n",
       "      <td>-0.645594</td>\n",
       "      <td>0.850083</td>\n",
       "      <td>0.645594</td>\n",
       "      <td>-0.779512</td>\n",
       "      <td>-0.923558</td>\n",
       "      <td>-1.460491</td>\n",
       "      <td>-1.170249</td>\n",
       "      <td>-0.157333</td>\n",
       "      <td>-0.17722</td>\n",
       "      <td>-0.113885</td>\n",
       "      <td>-0.15844</td>\n",
       "      <td>-0.167086</td>\n",
       "      <td>-0.173746</td>\n",
       "      <td>1.413206</td>\n",
       "      <td>-1.410190</td>\n",
       "    </tr>\n",
       "    <tr>\n",
       "      <th>6</th>\n",
       "      <td>-1.069309</td>\n",
       "      <td>-0.459852</td>\n",
       "      <td>0.092533</td>\n",
       "      <td>0.459852</td>\n",
       "      <td>-1.049932</td>\n",
       "      <td>-0.644508</td>\n",
       "      <td>-1.460491</td>\n",
       "      <td>-1.170249</td>\n",
       "      <td>-0.157333</td>\n",
       "      <td>-0.17722</td>\n",
       "      <td>-0.113885</td>\n",
       "      <td>-0.15844</td>\n",
       "      <td>-0.167086</td>\n",
       "      <td>-0.173746</td>\n",
       "      <td>-0.707611</td>\n",
       "      <td>0.709124</td>\n",
       "    </tr>\n",
       "    <tr>\n",
       "      <th>7</th>\n",
       "      <td>0.088612</td>\n",
       "      <td>-0.459852</td>\n",
       "      <td>-0.232131</td>\n",
       "      <td>0.459852</td>\n",
       "      <td>0.031746</td>\n",
       "      <td>-0.567181</td>\n",
       "      <td>-1.460491</td>\n",
       "      <td>-1.170249</td>\n",
       "      <td>-0.157333</td>\n",
       "      <td>-0.17722</td>\n",
       "      <td>-0.113885</td>\n",
       "      <td>-0.15844</td>\n",
       "      <td>-0.167086</td>\n",
       "      <td>-0.173746</td>\n",
       "      <td>-0.707611</td>\n",
       "      <td>0.709124</td>\n",
       "    </tr>\n",
       "    <tr>\n",
       "      <th>8</th>\n",
       "      <td>0.806295</td>\n",
       "      <td>-0.336024</td>\n",
       "      <td>-1.314345</td>\n",
       "      <td>0.336024</td>\n",
       "      <td>-1.049932</td>\n",
       "      <td>-0.916834</td>\n",
       "      <td>-1.460491</td>\n",
       "      <td>-1.170249</td>\n",
       "      <td>-0.157333</td>\n",
       "      <td>-0.17722</td>\n",
       "      <td>-0.113885</td>\n",
       "      <td>-0.15844</td>\n",
       "      <td>-0.167086</td>\n",
       "      <td>-0.173746</td>\n",
       "      <td>-0.707611</td>\n",
       "      <td>0.709124</td>\n",
       "    </tr>\n",
       "    <tr>\n",
       "      <th>9</th>\n",
       "      <td>1.707602</td>\n",
       "      <td>-0.336024</td>\n",
       "      <td>1.282969</td>\n",
       "      <td>0.336024</td>\n",
       "      <td>-0.779512</td>\n",
       "      <td>-0.910110</td>\n",
       "      <td>-1.460491</td>\n",
       "      <td>-1.170249</td>\n",
       "      <td>-0.157333</td>\n",
       "      <td>-0.17722</td>\n",
       "      <td>-0.113885</td>\n",
       "      <td>-0.15844</td>\n",
       "      <td>-0.167086</td>\n",
       "      <td>-0.173746</td>\n",
       "      <td>1.413206</td>\n",
       "      <td>-1.410190</td>\n",
       "    </tr>\n",
       "    <tr>\n",
       "      <th>10</th>\n",
       "      <td>1.032782</td>\n",
       "      <td>-0.336024</td>\n",
       "      <td>-1.314345</td>\n",
       "      <td>0.336024</td>\n",
       "      <td>-0.509093</td>\n",
       "      <td>-0.913472</td>\n",
       "      <td>-1.460491</td>\n",
       "      <td>-1.170249</td>\n",
       "      <td>-0.157333</td>\n",
       "      <td>-0.17722</td>\n",
       "      <td>-0.113885</td>\n",
       "      <td>-0.15844</td>\n",
       "      <td>-0.167086</td>\n",
       "      <td>-0.173746</td>\n",
       "      <td>-0.707611</td>\n",
       "      <td>0.709124</td>\n",
       "    </tr>\n",
       "    <tr>\n",
       "      <th>11</th>\n",
       "      <td>-1.515170</td>\n",
       "      <td>-0.336024</td>\n",
       "      <td>-1.097902</td>\n",
       "      <td>0.336024</td>\n",
       "      <td>0.302165</td>\n",
       "      <td>0.364106</td>\n",
       "      <td>-1.460491</td>\n",
       "      <td>-1.170249</td>\n",
       "      <td>-0.157333</td>\n",
       "      <td>-0.17722</td>\n",
       "      <td>-0.113885</td>\n",
       "      <td>-0.15844</td>\n",
       "      <td>-0.167086</td>\n",
       "      <td>-0.173746</td>\n",
       "      <td>-0.707611</td>\n",
       "      <td>0.709124</td>\n",
       "    </tr>\n",
       "    <tr>\n",
       "      <th>12</th>\n",
       "      <td>-1.645529</td>\n",
       "      <td>-0.274111</td>\n",
       "      <td>-0.123909</td>\n",
       "      <td>0.274111</td>\n",
       "      <td>0.843004</td>\n",
       "      <td>0.737293</td>\n",
       "      <td>-1.460491</td>\n",
       "      <td>-1.170249</td>\n",
       "      <td>-0.157333</td>\n",
       "      <td>-0.17722</td>\n",
       "      <td>-0.113885</td>\n",
       "      <td>-0.15844</td>\n",
       "      <td>-0.167086</td>\n",
       "      <td>-0.173746</td>\n",
       "      <td>1.413206</td>\n",
       "      <td>-1.410190</td>\n",
       "    </tr>\n",
       "    <tr>\n",
       "      <th>13</th>\n",
       "      <td>-1.265905</td>\n",
       "      <td>-0.150283</td>\n",
       "      <td>-1.206123</td>\n",
       "      <td>0.150283</td>\n",
       "      <td>1.654262</td>\n",
       "      <td>-0.826058</td>\n",
       "      <td>-1.460491</td>\n",
       "      <td>-1.170249</td>\n",
       "      <td>-0.157333</td>\n",
       "      <td>-0.17722</td>\n",
       "      <td>-0.113885</td>\n",
       "      <td>-0.15844</td>\n",
       "      <td>-0.167086</td>\n",
       "      <td>-0.173746</td>\n",
       "      <td>-0.707611</td>\n",
       "      <td>0.709124</td>\n",
       "    </tr>\n",
       "    <tr>\n",
       "      <th>14</th>\n",
       "      <td>1.668645</td>\n",
       "      <td>-0.150283</td>\n",
       "      <td>0.633640</td>\n",
       "      <td>0.150283</td>\n",
       "      <td>-1.320351</td>\n",
       "      <td>0.300227</td>\n",
       "      <td>-1.460491</td>\n",
       "      <td>-1.170249</td>\n",
       "      <td>-0.157333</td>\n",
       "      <td>-0.17722</td>\n",
       "      <td>-0.113885</td>\n",
       "      <td>-0.15844</td>\n",
       "      <td>-0.167086</td>\n",
       "      <td>-0.173746</td>\n",
       "      <td>-0.707611</td>\n",
       "      <td>0.709124</td>\n",
       "    </tr>\n",
       "    <tr>\n",
       "      <th>15</th>\n",
       "      <td>1.353909</td>\n",
       "      <td>-0.026455</td>\n",
       "      <td>-0.232131</td>\n",
       "      <td>0.026455</td>\n",
       "      <td>1.383843</td>\n",
       "      <td>-0.819334</td>\n",
       "      <td>-1.460491</td>\n",
       "      <td>-1.170249</td>\n",
       "      <td>-0.157333</td>\n",
       "      <td>-0.17722</td>\n",
       "      <td>-0.113885</td>\n",
       "      <td>-0.15844</td>\n",
       "      <td>-0.167086</td>\n",
       "      <td>-0.173746</td>\n",
       "      <td>1.413206</td>\n",
       "      <td>-1.410190</td>\n",
       "    </tr>\n",
       "    <tr>\n",
       "      <th>16</th>\n",
       "      <td>-1.155185</td>\n",
       "      <td>0.221201</td>\n",
       "      <td>-0.556795</td>\n",
       "      <td>-0.221201</td>\n",
       "      <td>-0.509093</td>\n",
       "      <td>0.858327</td>\n",
       "      <td>-1.460491</td>\n",
       "      <td>-1.170249</td>\n",
       "      <td>-0.157333</td>\n",
       "      <td>-0.17722</td>\n",
       "      <td>-0.113885</td>\n",
       "      <td>-0.15844</td>\n",
       "      <td>-0.167086</td>\n",
       "      <td>-0.173746</td>\n",
       "      <td>-0.707611</td>\n",
       "      <td>0.709124</td>\n",
       "    </tr>\n",
       "    <tr>\n",
       "      <th>17</th>\n",
       "      <td>-1.270043</td>\n",
       "      <td>0.592685</td>\n",
       "      <td>0.633640</td>\n",
       "      <td>-0.592685</td>\n",
       "      <td>1.383843</td>\n",
       "      <td>2.078750</td>\n",
       "      <td>-1.460491</td>\n",
       "      <td>-1.170249</td>\n",
       "      <td>-0.157333</td>\n",
       "      <td>-0.17722</td>\n",
       "      <td>-0.113885</td>\n",
       "      <td>-0.15844</td>\n",
       "      <td>-0.167086</td>\n",
       "      <td>-0.173746</td>\n",
       "      <td>1.413206</td>\n",
       "      <td>-1.410190</td>\n",
       "    </tr>\n",
       "    <tr>\n",
       "      <th>18</th>\n",
       "      <td>0.924434</td>\n",
       "      <td>0.716513</td>\n",
       "      <td>-0.015688</td>\n",
       "      <td>-0.716513</td>\n",
       "      <td>-1.320351</td>\n",
       "      <td>0.599449</td>\n",
       "      <td>-1.460491</td>\n",
       "      <td>-1.170249</td>\n",
       "      <td>-0.157333</td>\n",
       "      <td>-0.17722</td>\n",
       "      <td>-0.113885</td>\n",
       "      <td>-0.15844</td>\n",
       "      <td>-0.167086</td>\n",
       "      <td>-0.173746</td>\n",
       "      <td>-0.707611</td>\n",
       "      <td>0.709124</td>\n",
       "    </tr>\n",
       "    <tr>\n",
       "      <th>19</th>\n",
       "      <td>-1.130015</td>\n",
       "      <td>1.459480</td>\n",
       "      <td>0.741862</td>\n",
       "      <td>-1.459480</td>\n",
       "      <td>0.572585</td>\n",
       "      <td>-0.893299</td>\n",
       "      <td>-1.460491</td>\n",
       "      <td>-1.170249</td>\n",
       "      <td>-0.157333</td>\n",
       "      <td>-0.17722</td>\n",
       "      <td>-0.113885</td>\n",
       "      <td>-0.15844</td>\n",
       "      <td>-0.167086</td>\n",
       "      <td>-0.173746</td>\n",
       "      <td>-0.707611</td>\n",
       "      <td>0.709124</td>\n",
       "    </tr>\n",
       "  </tbody>\n",
       "</table>\n",
       "</div>"
      ],
      "text/plain": [
       "      userid       age   dob_day  dob_year  dob_month    tenure  friend_count  \\\n",
       "0  -1.432558 -1.264734 -1.206123  1.264734  -1.049932 -0.923558     -1.460491   \n",
       "1   1.368312 -1.202820  0.958305  1.202820  -1.320351 -0.573905     -1.460491   \n",
       "2  -0.035976 -0.893250  0.525419  0.893250   1.113424 -0.210804     -1.460491   \n",
       "3   1.125755 -0.769422 -1.314345  0.769422  -1.320351  0.179194     -1.460491   \n",
       "4  -0.717672 -0.645594 -0.340352  0.645594  -1.049932  1.026429     -1.460491   \n",
       "5   0.600900 -0.645594  0.850083  0.645594  -0.779512 -0.923558     -1.460491   \n",
       "6  -1.069309 -0.459852  0.092533  0.459852  -1.049932 -0.644508     -1.460491   \n",
       "7   0.088612 -0.459852 -0.232131  0.459852   0.031746 -0.567181     -1.460491   \n",
       "8   0.806295 -0.336024 -1.314345  0.336024  -1.049932 -0.916834     -1.460491   \n",
       "9   1.707602 -0.336024  1.282969  0.336024  -0.779512 -0.910110     -1.460491   \n",
       "10  1.032782 -0.336024 -1.314345  0.336024  -0.509093 -0.913472     -1.460491   \n",
       "11 -1.515170 -0.336024 -1.097902  0.336024   0.302165  0.364106     -1.460491   \n",
       "12 -1.645529 -0.274111 -0.123909  0.274111   0.843004  0.737293     -1.460491   \n",
       "13 -1.265905 -0.150283 -1.206123  0.150283   1.654262 -0.826058     -1.460491   \n",
       "14  1.668645 -0.150283  0.633640  0.150283  -1.320351  0.300227     -1.460491   \n",
       "15  1.353909 -0.026455 -0.232131  0.026455   1.383843 -0.819334     -1.460491   \n",
       "16 -1.155185  0.221201 -0.556795 -0.221201  -0.509093  0.858327     -1.460491   \n",
       "17 -1.270043  0.592685  0.633640 -0.592685   1.383843  2.078750     -1.460491   \n",
       "18  0.924434  0.716513 -0.015688 -0.716513  -1.320351  0.599449     -1.460491   \n",
       "19 -1.130015  1.459480  0.741862 -1.459480   0.572585 -0.893299     -1.460491   \n",
       "\n",
       "    friendships_initiated     likes  likes_received  mobile_likes  \\\n",
       "0               -1.170249 -0.157333        -0.17722     -0.113885   \n",
       "1               -1.170249 -0.157333        -0.17722     -0.113885   \n",
       "2               -1.170249 -0.157333        -0.17722     -0.113885   \n",
       "3               -1.170249 -0.157333        -0.17722     -0.113885   \n",
       "4               -1.170249 -0.157333        -0.17722     -0.113885   \n",
       "5               -1.170249 -0.157333        -0.17722     -0.113885   \n",
       "6               -1.170249 -0.157333        -0.17722     -0.113885   \n",
       "7               -1.170249 -0.157333        -0.17722     -0.113885   \n",
       "8               -1.170249 -0.157333        -0.17722     -0.113885   \n",
       "9               -1.170249 -0.157333        -0.17722     -0.113885   \n",
       "10              -1.170249 -0.157333        -0.17722     -0.113885   \n",
       "11              -1.170249 -0.157333        -0.17722     -0.113885   \n",
       "12              -1.170249 -0.157333        -0.17722     -0.113885   \n",
       "13              -1.170249 -0.157333        -0.17722     -0.113885   \n",
       "14              -1.170249 -0.157333        -0.17722     -0.113885   \n",
       "15              -1.170249 -0.157333        -0.17722     -0.113885   \n",
       "16              -1.170249 -0.157333        -0.17722     -0.113885   \n",
       "17              -1.170249 -0.157333        -0.17722     -0.113885   \n",
       "18              -1.170249 -0.157333        -0.17722     -0.113885   \n",
       "19              -1.170249 -0.157333        -0.17722     -0.113885   \n",
       "\n",
       "    mobile_likes_received  www_likes  www_likes_received  gender_female  \\\n",
       "0                -0.15844  -0.167086           -0.173746      -0.707611   \n",
       "1                -0.15844  -0.167086           -0.173746      -0.707611   \n",
       "2                -0.15844  -0.167086           -0.173746       1.413206   \n",
       "3                -0.15844  -0.167086           -0.173746      -0.707611   \n",
       "4                -0.15844  -0.167086           -0.173746      -0.707611   \n",
       "5                -0.15844  -0.167086           -0.173746       1.413206   \n",
       "6                -0.15844  -0.167086           -0.173746      -0.707611   \n",
       "7                -0.15844  -0.167086           -0.173746      -0.707611   \n",
       "8                -0.15844  -0.167086           -0.173746      -0.707611   \n",
       "9                -0.15844  -0.167086           -0.173746       1.413206   \n",
       "10               -0.15844  -0.167086           -0.173746      -0.707611   \n",
       "11               -0.15844  -0.167086           -0.173746      -0.707611   \n",
       "12               -0.15844  -0.167086           -0.173746       1.413206   \n",
       "13               -0.15844  -0.167086           -0.173746      -0.707611   \n",
       "14               -0.15844  -0.167086           -0.173746      -0.707611   \n",
       "15               -0.15844  -0.167086           -0.173746       1.413206   \n",
       "16               -0.15844  -0.167086           -0.173746      -0.707611   \n",
       "17               -0.15844  -0.167086           -0.173746       1.413206   \n",
       "18               -0.15844  -0.167086           -0.173746      -0.707611   \n",
       "19               -0.15844  -0.167086           -0.173746      -0.707611   \n",
       "\n",
       "    gender_male  \n",
       "0      0.709124  \n",
       "1      0.709124  \n",
       "2     -1.410190  \n",
       "3      0.709124  \n",
       "4      0.709124  \n",
       "5     -1.410190  \n",
       "6      0.709124  \n",
       "7      0.709124  \n",
       "8      0.709124  \n",
       "9     -1.410190  \n",
       "10     0.709124  \n",
       "11     0.709124  \n",
       "12    -1.410190  \n",
       "13     0.709124  \n",
       "14     0.709124  \n",
       "15    -1.410190  \n",
       "16     0.709124  \n",
       "17    -1.410190  \n",
       "18     0.709124  \n",
       "19     0.709124  "
      ]
     },
     "execution_count": 37,
     "metadata": {},
     "output_type": "execute_result"
    }
   ],
   "source": [
    "#Resetting index as we need to use K-fold and thus index needs to be in proper order\n",
    "\n",
    "X_new_cv.reset_index(inplace=True, drop=True)\n",
    "X_new_cv.head(20)"
   ]
  },
  {
   "cell_type": "code",
   "execution_count": 38,
   "metadata": {
    "ExecuteTime": {
     "end_time": "2022-03-14T06:55:21.981355Z",
     "start_time": "2022-03-14T06:55:21.966582Z"
    },
    "execution": {
     "iopub.execute_input": "2022-07-31T05:34:42.315482Z",
     "iopub.status.busy": "2022-07-31T05:34:42.314949Z",
     "iopub.status.idle": "2022-07-31T05:34:42.330211Z",
     "shell.execute_reply": "2022-07-31T05:34:42.329626Z",
     "shell.execute_reply.started": "2022-07-31T05:34:42.315438Z"
    }
   },
   "outputs": [
    {
     "data": {
      "text/plain": [
       "0     1\n",
       "1     1\n",
       "2     1\n",
       "3     1\n",
       "4     1\n",
       "5     1\n",
       "6     1\n",
       "7     1\n",
       "8     1\n",
       "9     1\n",
       "10    1\n",
       "11    1\n",
       "12    1\n",
       "13    1\n",
       "14    1\n",
       "15    1\n",
       "16    1\n",
       "17    1\n",
       "18    1\n",
       "19    1\n",
       "Name: likes, dtype: int64"
      ]
     },
     "execution_count": 38,
     "metadata": {},
     "output_type": "execute_result"
    }
   ],
   "source": [
    "y_new_cv.reset_index(drop=True, inplace=True)\n",
    "y_new_cv.head(20)"
   ]
  },
  {
   "cell_type": "code",
   "execution_count": 39,
   "metadata": {
    "ExecuteTime": {
     "end_time": "2022-03-14T06:55:21.996570Z",
     "start_time": "2022-03-14T06:55:21.983345Z"
    },
    "execution": {
     "iopub.execute_input": "2022-07-31T05:34:42.399152Z",
     "iopub.status.busy": "2022-07-31T05:34:42.398721Z",
     "iopub.status.idle": "2022-07-31T05:34:42.409232Z",
     "shell.execute_reply": "2022-07-31T05:34:42.404443Z",
     "shell.execute_reply.started": "2022-07-31T05:34:42.399128Z"
    }
   },
   "outputs": [
    {
     "name": "stdout",
     "output_type": "stream",
     "text": [
      "(2103, 16) (2103,)\n"
     ]
    }
   ],
   "source": [
    "print(X_new_cv.shape, y_new_cv.shape)"
   ]
  },
  {
   "cell_type": "markdown",
   "metadata": {},
   "source": [
    "##### 1.6.2 B. K-Fold Cross Validation"
   ]
  },
  {
   "cell_type": "code",
   "execution_count": 40,
   "metadata": {
    "ExecuteTime": {
     "end_time": "2022-03-14T06:55:23.398905Z",
     "start_time": "2022-03-14T06:55:21.998582Z"
    },
    "execution": {
     "iopub.execute_input": "2022-07-31T05:34:42.567844Z",
     "iopub.status.busy": "2022-07-31T05:34:42.567299Z",
     "iopub.status.idle": "2022-07-31T05:34:43.929082Z",
     "shell.execute_reply": "2022-07-31T05:34:43.928626Z",
     "shell.execute_reply.started": "2022-07-31T05:34:42.567791Z"
    }
   },
   "outputs": [
    {
     "name": "stdout",
     "output_type": "stream",
     "text": [
      "n_features:5 |train_R2:1.0 |test_R2:1.0 |mean(rmse_train): 0.0 |mean(rmse_test):  0.0 |RMSE(test/train):0.89\n",
      "n_features:6 |train_R2:1.0 |test_R2:1.0 |mean(rmse_train): 0.0 |mean(rmse_test):  0.0 |RMSE(test/train):0.72\n",
      "n_features:7 |train_R2:1.0 |test_R2:1.0 |mean(rmse_train): 0.0 |mean(rmse_test):  0.0 |RMSE(test/train):1.06\n",
      "n_features:8 |train_R2:1.0 |test_R2:1.0 |mean(rmse_train): 0.0 |mean(rmse_test):  0.0 |RMSE(test/train):1.61\n",
      "n_features:9 |train_R2:1.0 |test_R2:1.0 |mean(rmse_train): 0.0 |mean(rmse_test):  0.0 |RMSE(test/train):0.94\n",
      "n_features:10 |train_R2:1.0 |test_R2:1.0 |mean(rmse_train): 0.0 |mean(rmse_test):  0.0 |RMSE(test/train):0.88\n",
      "n_features:11 |train_R2:1.0 |test_R2:1.0 |mean(rmse_train): 0.0 |mean(rmse_test):  0.0 |RMSE(test/train):0.71\n",
      "n_features:12 |train_R2:1.0 |test_R2:1.0 |mean(rmse_train): 0.0 |mean(rmse_test):  0.0 |RMSE(test/train):0.95\n",
      "n_features:13 |train_R2:1.0 |test_R2:1.0 |mean(rmse_train): 0.0 |mean(rmse_test):  0.0 |RMSE(test/train):0.91\n",
      "n_features:14 |train_R2:1.0 |test_R2:1.0 |mean(rmse_train): 0.0 |mean(rmse_test):  0.0 |RMSE(test/train):0.93\n",
      "n_features:15 |train_R2:1.0 |test_R2:1.0 |mean(rmse_train): 0.0 |mean(rmse_test):  0.0 |RMSE(test/train):1.01\n",
      "n_features:16 |train_R2:1.0 |test_R2:1.0 |mean(rmse_train): 0.0 |mean(rmse_test):  0.0 |RMSE(test/train):1.02\n",
      "n_features:17 |train_R2:1.0 |test_R2:1.0 |mean(rmse_train): 0.0 |mean(rmse_test):  0.0 |RMSE(test/train):1.02\n",
      "n_features:18 |train_R2:1.0 |test_R2:1.0 |mean(rmse_train): 0.0 |mean(rmse_test):  0.0 |RMSE(test/train):1.02\n",
      "n_features:19 |train_R2:1.0 |test_R2:1.0 |mean(rmse_train): 0.0 |mean(rmse_test):  0.0 |RMSE(test/train):1.02\n",
      "n_features:20 |train_R2:1.0 |test_R2:1.0 |mean(rmse_train): 0.0 |mean(rmse_test):  0.0 |RMSE(test/train):1.02\n",
      "n_features:21 |train_R2:1.0 |test_R2:1.0 |mean(rmse_train): 0.0 |mean(rmse_test):  0.0 |RMSE(test/train):1.02\n",
      "n_features:22 |train_R2:1.0 |test_R2:1.0 |mean(rmse_train): 0.0 |mean(rmse_test):  0.0 |RMSE(test/train):1.02\n",
      "n_features:23 |train_R2:1.0 |test_R2:1.0 |mean(rmse_train): 0.0 |mean(rmse_test):  0.0 |RMSE(test/train):1.02\n",
      "n_features:24 |train_R2:1.0 |test_R2:1.0 |mean(rmse_train): 0.0 |mean(rmse_test):  0.0 |RMSE(test/train):1.02\n",
      "n_features:25 |train_R2:1.0 |test_R2:1.0 |mean(rmse_train): 0.0 |mean(rmse_test):  0.0 |RMSE(test/train):1.02\n",
      "n_features:26 |train_R2:1.0 |test_R2:1.0 |mean(rmse_train): 0.0 |mean(rmse_test):  0.0 |RMSE(test/train):1.02\n",
      "n_features:27 |train_R2:1.0 |test_R2:1.0 |mean(rmse_train): 0.0 |mean(rmse_test):  0.0 |RMSE(test/train):1.02\n",
      "n_features:28 |train_R2:1.0 |test_R2:1.0 |mean(rmse_train): 0.0 |mean(rmse_test):  0.0 |RMSE(test/train):1.02\n",
      "n_features:29 |train_R2:1.0 |test_R2:1.0 |mean(rmse_train): 0.0 |mean(rmse_test):  0.0 |RMSE(test/train):1.02\n",
      "n_features:30 |train_R2:1.0 |test_R2:1.0 |mean(rmse_train): 0.0 |mean(rmse_test):  0.0 |RMSE(test/train):1.02\n"
     ]
    }
   ],
   "source": [
    "from sklearn.model_selection import KFold\n",
    "\n",
    "K = 5  #using 5 folds\n",
    "kf = KFold(n_splits=K, shuffle=True, random_state=42)\n",
    "\n",
    "for n_features in range(5, 31):\n",
    "    train_RMSE = []\n",
    "    test_RMSE = []\n",
    "    train_r2 = []\n",
    "    test_r2 = []\n",
    "\n",
    "    for train, test in kf.split(X_new_cv):\n",
    "        lm = LinearRegression()\n",
    "        rfe_n = RFE(estimator=lm, n_features_to_select=n_features)\n",
    "        rfe_n.fit(X_new_cv.loc[train], y_new_cv[train])\n",
    "        y_pred_train = rfe_n.predict(X_new_cv.loc[train])\n",
    "        y_pred_test = rfe_n.predict(X_new_cv.loc[test])\n",
    "\n",
    "        #R-square\n",
    "        train_r2.append(r2_score(y_pred_train, y_new_cv[train]))\n",
    "        test_r2.append(r2_score(y_pred_test, y_new_cv[test]))\n",
    "\n",
    "        #Error\n",
    "        error_train = y_pred_train - y_new_cv[train]\n",
    "        error_test = y_pred_test - y_new_cv[test]\n",
    "        rmse_train = ((error_train**2).mean())**0.5\n",
    "        rmse_test = ((error_test**2).mean())**0.5\n",
    "\n",
    "        train_RMSE.append(rmse_train)\n",
    "        test_RMSE.append(rmse_test)\n",
    "\n",
    "    test_times_train = np.mean(test_RMSE) / np.mean(train_RMSE)\n",
    "    \n",
    "    # generate report\n",
    "    print(\n",
    "        'n_features:{:1} |train_R2:{:2} |test_R2:{:3} |mean(rmse_train):{:4} |mean(rmse_test):{:5} |RMSE(test/train):{}'\n",
    "        .format(n_features, round(np.mean(train_r2), 4),\n",
    "                round(np.mean(test_r2), 4), round(np.mean(train_RMSE), 0),\n",
    "                round(np.mean(test_RMSE), 0), round(test_times_train, 2)))"
   ]
  },
  {
   "cell_type": "raw",
   "metadata": {},
   "source": [
    "From the above data we find:\n",
    "\n",
    "1. Our model overfits as we increase the number of features "
   ]
  },
  {
   "cell_type": "code",
   "execution_count": null,
   "metadata": {},
   "outputs": [],
   "source": []
  },
  {
   "cell_type": "code",
   "execution_count": null,
   "metadata": {},
   "outputs": [],
   "source": []
  }
 ],
 "metadata": {
  "kernelspec": {
   "display_name": "Python 3 (ipykernel)",
   "language": "python",
   "name": "python3"
  },
  "language_info": {
   "codemirror_mode": {
    "name": "ipython",
    "version": 3
   },
   "file_extension": ".py",
   "mimetype": "text/x-python",
   "name": "python",
   "nbconvert_exporter": "python",
   "pygments_lexer": "ipython3",
   "version": "3.10.3"
  },
  "toc": {
   "base_numbering": 1,
   "nav_menu": {},
   "number_sections": true,
   "sideBar": true,
   "skip_h1_title": false,
   "title_cell": "Table of Contents",
   "title_sidebar": "Contents",
   "toc_cell": false,
   "toc_position": {},
   "toc_section_display": true,
   "toc_window_display": false
  },
  "varInspector": {
   "cols": {
    "lenName": 16,
    "lenType": 16,
    "lenVar": 40
   },
   "kernels_config": {
    "python": {
     "delete_cmd_postfix": "",
     "delete_cmd_prefix": "del ",
     "library": "var_list.py",
     "varRefreshCmd": "print(var_dic_list())"
    },
    "r": {
     "delete_cmd_postfix": ") ",
     "delete_cmd_prefix": "rm(",
     "library": "var_list.r",
     "varRefreshCmd": "cat(var_dic_list()) "
    }
   },
   "types_to_exclude": [
    "module",
    "function",
    "builtin_function_or_method",
    "instance",
    "_Feature"
   ],
   "window_display": false
  }
 },
 "nbformat": 4,
 "nbformat_minor": 4
}
